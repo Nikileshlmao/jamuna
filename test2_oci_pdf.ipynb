{
 "cells": [
  {
   "cell_type": "markdown",
   "id": "1b9f0b37-fbfe-4e59-ab32-da1c1afe3b00",
   "metadata": {},
   "source": [
    "* see: https://python.langchain.com/docs/use_cases/question_answering/"
   ]
  },
  {
   "cell_type": "code",
   "execution_count": 1,
   "id": "75812374-a9a1-4463-93a2-6dd6f352cb40",
   "metadata": {},
   "outputs": [],
   "source": [
    "from langchain.document_loaders import PyPDFLoader\n",
    "from langchain.text_splitter import RecursiveCharacterTextSplitter\n",
    "\n",
    "# two possible vector store\n",
    "from langchain.vectorstores import Chroma\n",
    "from langchain.vectorstores import FAISS\n",
    "\n",
    "# removed OpenAI, using HF\n",
    "from langchain.embeddings import HuggingFaceEmbeddings\n",
    "\n",
    "from langchain import hub\n",
    "\n",
    "# removed OpenAI, using OCI GenAI\n",
    "import oci\n",
    "\n",
    "# oci_llm is in a local file\n",
    "from oci_llm import OCIGenAILLM\n",
    "\n",
    "from langchain.schema.runnable import RunnablePassthrough\n",
    "\n",
    "# private configs\n",
    "from config_private import (COMPARTMENT_OCID)"
   ]
  },
  {
   "cell_type": "code",
   "execution_count": 2,
   "id": "eaede75f-e609-4cc6-a077-259b3a439bc6",
   "metadata": {},
   "outputs": [],
   "source": [
    "# to enable some debugging\n",
    "DEBUG = False"
   ]
  },
  {
   "cell_type": "code",
   "execution_count": 3,
   "id": "ef483ade-2146-4218-8130-95abe1607a50",
   "metadata": {},
   "outputs": [],
   "source": [
    "# read OCI config to connect to OCI with API key\n",
    "CONFIG_PROFILE = \"DEFAULT\"\n",
    "config = oci.config.from_file(\"~/.oci/config\", CONFIG_PROFILE)\n",
    "\n",
    "# OCI GenAI endpoint (for now Chicago)\n",
    "ENDPOINT = \"https://generativeai.aiservice.us-chicago-1.oci.oraclecloud.com\"\n",
    "\n",
    "# check the config to access to api keys\n",
    "if DEBUG:\n",
    "    print(config)"
   ]
  },
  {
   "cell_type": "markdown",
   "id": "b988c589-f06e-49f7-b23f-f70ab316e720",
   "metadata": {},
   "source": [
    "#### Loading the document"
   ]
  },
  {
   "cell_type": "code",
   "execution_count": 21,
   "id": "0d5edf3f-17df-4963-82ef-d4297239dcb0",
   "metadata": {},
   "outputs": [],
   "source": [
    "# BLOG_POST = \"https://python.langchain.com/docs/get_started/introduction\"\n",
    "BOOK = \"./oracle-database-23c-new-features-guide.pdf\"\n",
    "loader = PyPDFLoader(BOOK)\n",
    "\n",
    "data = loader.load()"
   ]
  },
  {
   "cell_type": "markdown",
   "id": "2fd8887b-0aff-45b8-9df2-ea904815ea26",
   "metadata": {},
   "source": [
    "#### Splitting the document in chunks"
   ]
  },
  {
   "cell_type": "code",
   "execution_count": 22,
   "id": "9f53344e-271e-4484-bd29-c95a02b35d53",
   "metadata": {},
   "outputs": [],
   "source": [
    "CHUNK_SIZE = 1024\n",
    "\n",
    "text_splitter = RecursiveCharacterTextSplitter(chunk_size=CHUNK_SIZE, \n",
    "                                               chunk_overlap=100)\n",
    "\n",
    "splits = text_splitter.split_documents(data)"
   ]
  },
  {
   "cell_type": "code",
   "execution_count": 23,
   "id": "89b1b9f1-d375-4a68-b25a-633930c2462c",
   "metadata": {},
   "outputs": [
    {
     "name": "stdout",
     "output_type": "stream",
     "text": [
      "We have 237 splits...\n"
     ]
    }
   ],
   "source": [
    "print(f\"We have {len(splits)} splits...\")"
   ]
  },
  {
   "cell_type": "code",
   "execution_count": 24,
   "id": "f70cce26-c603-4532-8ab6-8c34fa4d857e",
   "metadata": {},
   "outputs": [],
   "source": [
    "# have a look at a single split\n",
    "if DEBUG:\n",
    "    print(splits[2])"
   ]
  },
  {
   "cell_type": "markdown",
   "id": "d4830653-e501-4dda-a26e-8faef61a0531",
   "metadata": {},
   "source": [
    "#### Embeddings and Vectore Store"
   ]
  },
  {
   "cell_type": "code",
   "execution_count": 25,
   "id": "3a63cc21-2225-4e1f-8b3a-6ec41ca97d81",
   "metadata": {},
   "outputs": [],
   "source": [
    "# We have substituted OpenAI with HF\n",
    "EMBED_MODEL_NAME = \"sentence-transformers/all-mpnet-base-v2\"\n",
    "\n",
    "model_kwargs = {\"device\": \"cpu\"}\n",
    "encode_kwargs = {\"normalize_embeddings\": False}\n",
    "\n",
    "\n",
    "hf = HuggingFaceEmbeddings(\n",
    "    model_name=EMBED_MODEL_NAME, model_kwargs=model_kwargs, encode_kwargs=encode_kwargs\n",
    ")\n",
    "\n",
    "# using Chroma or FAISS as Vector store\n",
    "# vectorstore = Chroma.from_documents(documents=splits,\n",
    "#                                    embedding=hf)\n",
    "vectorstore = FAISS.from_documents(documents=splits, embedding=hf)\n",
    "\n",
    "retriever = vectorstore.as_retriever()"
   ]
  },
  {
   "cell_type": "markdown",
   "id": "16aaa4a5-ba64-4222-a65c-d26e5395cd3f",
   "metadata": {},
   "source": [
    "#### Define the prompt structure"
   ]
  },
  {
   "cell_type": "code",
   "execution_count": 26,
   "id": "426d2dd3-ac41-4cb2-a975-b35ca482fb4b",
   "metadata": {},
   "outputs": [],
   "source": [
    "rag_prompt = hub.pull(\"rlm/rag-prompt\")"
   ]
  },
  {
   "cell_type": "markdown",
   "id": "2be2ef0b-f63b-4138-8bd9-5271e66ee926",
   "metadata": {},
   "source": [
    "#### Define the LLM"
   ]
  },
  {
   "cell_type": "code",
   "execution_count": 27,
   "id": "8d5f0d42-8203-4950-a5ca-8c051ff71b92",
   "metadata": {},
   "outputs": [],
   "source": [
    "# compartment OCID from config_private.py\n",
    "\n",
    "llm = OCIGenAILLM(\n",
    "    temperature=1,\n",
    "    max_tokens=1000,\n",
    "    config=config,\n",
    "    compartment_id=COMPARTMENT_OCID,\n",
    "    endpoint=ENDPOINT,\n",
    "    debug=DEBUG,\n",
    ")"
   ]
  },
  {
   "cell_type": "markdown",
   "id": "7ebe0dca-b88e-4c5f-9b03-25da1ed36cb2",
   "metadata": {},
   "source": [
    "#### Define the (Lang)Chain"
   ]
  },
  {
   "cell_type": "code",
   "execution_count": 28,
   "id": "6e93a1de-9939-4120-8910-66d735de7beb",
   "metadata": {},
   "outputs": [],
   "source": [
    "rag_chain = {\"context\": retriever, \"question\": RunnablePassthrough()} | rag_prompt | llm"
   ]
  },
  {
   "cell_type": "markdown",
   "id": "9fce71ae-50a8-418d-81ea-cea0a30d11cf",
   "metadata": {},
   "source": [
    "#### Process the question"
   ]
  },
  {
   "cell_type": "code",
   "execution_count": 29,
   "id": "a5562c9d-cc2a-4761-9625-1c62a45cf036",
   "metadata": {},
   "outputs": [],
   "source": [
    "# a list of possible questions\n",
    "QUESTION1 = \"What is the best architecture for an LLM?\"\n",
    "QUESTION2 = \"What is LangChain?\"\n",
    "QUESTION3 = \"Make a list of database 23c innovations in AI\"\n",
    "QUESTION4 = \"Make a list of new features in Oracle database 23c\""
   ]
  },
  {
   "cell_type": "code",
   "execution_count": 30,
   "id": "069689c8-4786-455b-aee0-91f1fc69e0e9",
   "metadata": {},
   "outputs": [
    {
     "name": "stdout",
     "output_type": "stream",
     "text": [
      "The response:\n",
      " Some of the new features in Oracle Database 23c include:\n",
      "\n",
      "1. Add Verified SQL Plan Baseline\n",
      "2. CMAN Diagnostics and Logging Enhancements\n",
      "3. DBMS_DICTIONARY_CHECK PL/SQL Package\n",
      "4. Estimate the Space Saved with Deduplication\n",
      "5. Extent-Based Scrubbing\n",
      "6. High Availability Diagnosability Using the DBMS_SCHEDULER Package\n",
      "7. In-Memory Advisor\n",
      "8. Oracle Call Interface (OCI) APIs to Enable Client-Side Tracing\n",
      "9. Rename LOB Segment\n",
      "10. Selective In-Memory Columns\n",
      "11. Installation, Upgrade, and Patching\n",
      "12. Upgrade\n",
      "13. AutoUpgrade Release Update (RU) Upgrades\n",
      "14. AutoUpgrade Sets Parallelism Based on System Resources\n",
      "15. AutoUpgrade Supports Upgrades with Keystore Access to Databases Using TDE\n",
      "16. AutoUpgrade Unplug-Plugin Upgrades to Different Systems\n",
      "17. REST APIs for AutoUpgrade\n",
      "18. xi\n",
      "\n",
      "CPU times: user 76.1 ms, sys: 24.6 ms, total: 101 ms\n",
      "Wall time: 9.85 s\n"
     ]
    }
   ],
   "source": [
    "%%time\n",
    "\n",
    "# the question\n",
    "QUESTION = QUESTION4\n",
    "\n",
    "response = rag_chain.invoke(QUESTION)\n",
    "\n",
    "print(\"The response:\")\n",
    "print(response)\n",
    "print()"
   ]
  },
  {
   "cell_type": "markdown",
   "id": "9f93ffe1-3036-4251-9514-0c3cc240f224",
   "metadata": {},
   "source": [
    "#### Explore the vectore store"
   ]
  },
  {
   "cell_type": "code",
   "execution_count": 31,
   "id": "e055f1c4-27d9-465a-b0b4-278ad06bc67b",
   "metadata": {},
   "outputs": [
    {
     "data": {
      "text/plain": [
       "5"
      ]
     },
     "execution_count": 31,
     "metadata": {},
     "output_type": "execute_result"
    }
   ],
   "source": [
    "# Retrieve relevant splits for any question using similarity search.\n",
    "\n",
    "# This is simply \"top K\" retrieval where we select documents based on embedding similarity to the query.\n",
    "\n",
    "TOP_K = 5\n",
    "\n",
    "docs = vectorstore.similarity_search(QUESTION, k=TOP_K)\n",
    "\n",
    "len(docs)"
   ]
  },
  {
   "cell_type": "code",
   "execution_count": 32,
   "id": "2940dfc1-cc62-4778-a89d-81da8a466980",
   "metadata": {},
   "outputs": [
    {
     "name": "stdout",
     "output_type": "stream",
     "text": [
      "Oracle® Database\n",
      "Oracle Database New Features\n",
      "Release 23c\n",
      "F48428-15\n",
      "October 2023\n",
      "\n",
      "Oracle Database Oracle Database New Features, Release 23c\n",
      "F48428-15\n",
      "Copyright © 2022, 2023, Oracle and/or its affiliates.\n",
      "This software and related documentation are provided under a license agreement containing restrictions on\n",
      "use and disclosure and are protected by intellectual property laws. Except as expressly permitted in your\n",
      "license agreement or allowed by law, you may not use, copy, reproduce, translate, broadcast, modify, license,\n",
      "transmit, distribute, exhibit, perform, publish, or display any part, in any form, or by any means. Reverse\n",
      "engineering, disassembly, or decompilation of this software, unless required by law for interoperability, is\n",
      "prohibited.\n",
      "The information contained herein is subject to change without notice and is not warranted to be error-free. If\n",
      "you find any errors, please report them to us in writing.\n",
      "If this is software, software documentation, data (as defined in the Federal Acquisition Regulation), or related\n",
      "\n",
      "productivity is increased and code becomes less error-prone.\n",
      "Related Resources\n",
      "View Documentation\n",
      "DESCRIBE Now Supports Column Annotations\n",
      "The SQL*Plus DESCRIBE  command can now display annotation information for columns that\n",
      "have associated annotations available.\n",
      "Annotations help you to use database objects in the same way across all applications. This\n",
      "simplifies development and improves data quality.\n",
      "Related Resources\n",
      "View Documentation\n",
      "Error Improvement\n",
      "The Oracle Call Interface (OCI) OCIError()  function has been enhanced to optionally include\n",
      "an Oracle URL with error messages. The URL page has additional information about the\n",
      "Oracle error.\n",
      "This feature allows users to more easily access information about the cause of the error and\n",
      "the actions that can be taken.\n",
      "Related Resources\n",
      "View DocumentationChapter 2\n",
      "SQL\n",
      "2-7\n",
      "\n",
      "Add Verified SQL Plan Baseline 10-1\n",
      "CMAN Diagnostics and Logging Enhancements 10-2\n",
      "DBMS_DICTIONARY_CHECK PL/SQL Package 10-2\n",
      "Estimate the Space Saved with Deduplication 10-2\n",
      "Extent-Based Scrubbing 10-3\n",
      "High Availability Diagnosability Using the DBMS_SCHEDULER Package 10-3\n",
      "In-Memory Advisor 10-3\n",
      "Oracle Call Interface (OCI) APIs to Enable Client-Side Tracing 10-3\n",
      "Rename LOB Segment 10-4\n",
      "Selective In-Memory Columns 10-4\n",
      "11  \n",
      " Installation, Upgrade, and Patching\n",
      "Upgrade 11-1\n",
      "AutoUpgrade Release Update (RU) Upgrades 11-1\n",
      "AutoUpgrade Sets Parallelism Based on System Resources 11-1\n",
      "AutoUpgrade Supports Upgrades with Keystore Access to Databases Using TDE 11-1\n",
      "AutoUpgrade Unplug-Plugin Upgrades to Different Systems 11-2\n",
      "REST APIs for AutoUpgrade 11-2\n",
      "xi\n",
      "\n",
      "The ability to obtain old and new values affected by INSERT , UPDATE , and DELETE\n",
      "statements, as part of the SQL command’s execution, offers developers a uniform\n",
      "approach to reading these values and reduces the amount of work the database must\n",
      "perform.\n",
      "Related Resources\n",
      "View Documentation\n",
      "SQL*Plus Support for SQL BOOLEAN Data Type\n",
      "SQL*Plus supports the new SQL BOOLEAN  data type in SQL statements and the\n",
      "DESCRIBE  command. Enhancements to the COLUMN  and VARIABLE  command syntax\n",
      "have also been made.\n",
      "SQL*Plus scripts can take advantage of the new SQL BOOLEAN  data type for easy\n",
      "development.\n",
      "Related Resources\n",
      "View Documentation\n",
      "Table Value Constructor\n",
      "The database's SQL engine now supports a VALUES  clause for many types of\n",
      "statements. This new clause allows for materializing rows of data on the fly by\n",
      "specifying them using the new syntax without relying on existing tables. Oracle\n",
      "supports the VALUES  clause for the SELECT , INSERT , and MERGE  statements.Chapter 2\n",
      "SQL\n",
      "2-10\n",
      "\n"
     ]
    }
   ],
   "source": [
    "for doc in docs:\n",
    "    print(doc.page_content)\n",
    "    print()"
   ]
  },
  {
   "cell_type": "code",
   "execution_count": null,
   "id": "d452bd3e-2721-4cc8-892e-4f520b76b7a8",
   "metadata": {},
   "outputs": [],
   "source": []
  },
  {
   "cell_type": "code",
   "execution_count": null,
   "id": "228be3c9-9c7b-4501-a2fe-656cdefd0a66",
   "metadata": {},
   "outputs": [],
   "source": []
  }
 ],
 "metadata": {
  "kernelspec": {
   "display_name": "Python 3 (ipykernel)",
   "language": "python",
   "name": "python3"
  },
  "language_info": {
   "codemirror_mode": {
    "name": "ipython",
    "version": 3
   },
   "file_extension": ".py",
   "mimetype": "text/x-python",
   "name": "python",
   "nbconvert_exporter": "python",
   "pygments_lexer": "ipython3",
   "version": "3.9.0"
  }
 },
 "nbformat": 4,
 "nbformat_minor": 5
}
