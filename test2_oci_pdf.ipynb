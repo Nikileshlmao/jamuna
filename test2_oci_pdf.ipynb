{
 "cells": [
  {
   "cell_type": "markdown",
   "id": "1b9f0b37-fbfe-4e59-ab32-da1c1afe3b00",
   "metadata": {},
   "source": [
    "## RAG using a pdf book\n",
    "* see: https://python.langchain.com/docs/use_cases/question_answering/"
   ]
  },
  {
   "cell_type": "code",
   "execution_count": 1,
   "id": "75812374-a9a1-4463-93a2-6dd6f352cb40",
   "metadata": {},
   "outputs": [],
   "source": [
    "# modified to load from Pdf\n",
    "from langchain.document_loaders import PyPDFLoader\n",
    "from langchain.text_splitter import RecursiveCharacterTextSplitter\n",
    "\n",
    "# two possible vector store\n",
    "from langchain.vectorstores import Chroma\n",
    "from langchain.vectorstores import FAISS\n",
    "\n",
    "# removed OpenAI, using HF\n",
    "from langchain.embeddings import HuggingFaceEmbeddings\n",
    "\n",
    "from langchain import hub\n",
    "\n",
    "# removed OpenAI, using OCI GenAI\n",
    "import oci\n",
    "\n",
    "# oci_llm is in a local file\n",
    "from oci_llm import OCIGenAILLM\n",
    "\n",
    "from langchain.schema.runnable import RunnablePassthrough\n",
    "\n",
    "# private configs\n",
    "from config_private import COMPARTMENT_OCID"
   ]
  },
  {
   "cell_type": "code",
   "execution_count": 2,
   "id": "eaede75f-e609-4cc6-a077-259b3a439bc6",
   "metadata": {},
   "outputs": [],
   "source": [
    "# to enable some debugging\n",
    "DEBUG = False"
   ]
  },
  {
   "cell_type": "code",
   "execution_count": 3,
   "id": "ef483ade-2146-4218-8130-95abe1607a50",
   "metadata": {},
   "outputs": [],
   "source": [
    "# read OCI config to connect to OCI with API key\n",
    "CONFIG_PROFILE = \"DEFAULT\"\n",
    "config = oci.config.from_file(\"~/.oci/config\", CONFIG_PROFILE)\n",
    "\n",
    "# OCI GenAI endpoint (for now Chicago)\n",
    "ENDPOINT = \"https://generativeai.aiservice.us-chicago-1.oci.oraclecloud.com\"\n",
    "\n",
    "# check the config to access to api keys\n",
    "if DEBUG:\n",
    "    print(config)"
   ]
  },
  {
   "cell_type": "markdown",
   "id": "b988c589-f06e-49f7-b23f-f70ab316e720",
   "metadata": {},
   "source": [
    "#### Loading the document"
   ]
  },
  {
   "cell_type": "code",
   "execution_count": 4,
   "id": "0d5edf3f-17df-4963-82ef-d4297239dcb0",
   "metadata": {},
   "outputs": [],
   "source": [
    "# BLOG_POST = \"https://python.langchain.com/docs/get_started/introduction\"\n",
    "BOOK = \"./oracle-database-23c-new-features-guide.pdf\"\n",
    "\n",
    "loader = PyPDFLoader(BOOK)\n",
    "\n",
    "data = loader.load()"
   ]
  },
  {
   "cell_type": "markdown",
   "id": "2fd8887b-0aff-45b8-9df2-ea904815ea26",
   "metadata": {},
   "source": [
    "#### Splitting the document in chunks"
   ]
  },
  {
   "cell_type": "code",
   "execution_count": 5,
   "id": "9f53344e-271e-4484-bd29-c95a02b35d53",
   "metadata": {},
   "outputs": [],
   "source": [
    "CHUNK_SIZE = 2000\n",
    "CHUNK_OVERLAP = 100\n",
    "\n",
    "text_splitter = RecursiveCharacterTextSplitter(\n",
    "    chunk_size=CHUNK_SIZE, chunk_overlap=CHUNK_OVERLAP\n",
    ")\n",
    "\n",
    "splits = text_splitter.split_documents(data)"
   ]
  },
  {
   "cell_type": "code",
   "execution_count": 6,
   "id": "89b1b9f1-d375-4a68-b25a-633930c2462c",
   "metadata": {},
   "outputs": [
    {
     "name": "stdout",
     "output_type": "stream",
     "text": [
      "We have 143 splits...\n"
     ]
    }
   ],
   "source": [
    "print(f\"We have {len(splits)} splits...\")"
   ]
  },
  {
   "cell_type": "code",
   "execution_count": 7,
   "id": "0b35bb4e-44d8-4c48-bceb-c10873c93c4c",
   "metadata": {},
   "outputs": [],
   "source": [
    "# some post processing\n",
    "\n",
    "# replace \\n with blank\n",
    "for split in splits:\n",
    "    split.page_content = split.page_content.replace(\"\\n\", \" \")"
   ]
  },
  {
   "cell_type": "code",
   "execution_count": 9,
   "id": "f70cce26-c603-4532-8ab6-8c34fa4d857e",
   "metadata": {},
   "outputs": [
    {
     "data": {
      "text/plain": [
       "'JSON Type Support for External Tables Support for access and direct-loading of JSON-type columns is provided for external tables. JSON data type is supported as a column type in the external table definition. Newline- delimited and JSON-array file options are supported, which facilitates importing JSON data from an external table. This feature makes it easier to load data into a JSON-type columns. Related Resources View Documentation JSON/JSON_VALUE will Convert PL/SQL Aggregate Type to/from JSON The PL/SQL JSON constructor is enhanced to accept an instance of a corresponding PL/SQL aggregate type, returning a JSON object or array type populated with the aggregate type data. The PL/SQL JSON_VALUE operator is enhanced so that its returning clause can accept a type name that defines the type of the instance that the operator is to return. JSON constructor support for aggregate data types streamlines data interchange between PL/SQL applications and languages that support JSON. Related Resources View Documentation JSON_ARRAY Constructor by Query A subquery can be used as an argument to SQL/JSON function JSON_ARRAY to define the array elements. This functionality is part of the SQL/JSON standard. This feature increases your developer productivity and higher interoperability with other SQL/ JSON standard-compliant solutions. Related Resources View Documentation JSON_EXPRESSION_CHECK Parameter A new parameter JSON_EXPRESSION_CHECK  allows to enable/disable a JSON query check. The values are on and off. The default is off. For now, this parameter is limited to JSON- relational duality views. An error is raised if a JSON path expression on a duality view does not match to an underlying column, for example if the path expression has a typo. The error is raised during query compilations. This simplifies working with JSON-relational duality views, as incorrect JSON path expressions do not need to be debugged at runtime but instead are flagged at query'"
      ]
     },
     "execution_count": 9,
     "metadata": {},
     "output_type": "execute_result"
    }
   ],
   "source": [
    "# have a look at a single split\n",
    "splits[20].page_content"
   ]
  },
  {
   "cell_type": "markdown",
   "id": "d4830653-e501-4dda-a26e-8faef61a0531",
   "metadata": {},
   "source": [
    "#### Embeddings and Vectore Store"
   ]
  },
  {
   "cell_type": "code",
   "execution_count": 10,
   "id": "3a63cc21-2225-4e1f-8b3a-6ec41ca97d81",
   "metadata": {},
   "outputs": [],
   "source": [
    "# We have substituted OpenAI with HF# see leaderboard here: https://huggingface.co/spaces/mteb/leaderboard\n",
    "# EMBED_MODEL_NAME = \"sentence-transformers/all-mpnet-base-v2\"\n",
    "EMBED_MODEL_NAME = \"BAAI/bge-base-en-v1.5\"\n",
    "\n",
    "model_kwargs = {\"device\": \"cpu\"}\n",
    "encode_kwargs = {\"normalize_embeddings\": False}\n",
    "\n",
    "\n",
    "hf = HuggingFaceEmbeddings(\n",
    "    model_name=EMBED_MODEL_NAME, model_kwargs=model_kwargs, encode_kwargs=encode_kwargs\n",
    ")\n",
    "\n",
    "# using Chroma or FAISS as Vector store\n",
    "vectorstore = Chroma.from_documents(documents=splits, embedding=hf)\n",
    "# vectorstore = FAISS.from_documents(documents=splits, embedding=hf)\n",
    "\n",
    "retriever = vectorstore.as_retriever()"
   ]
  },
  {
   "cell_type": "markdown",
   "id": "16aaa4a5-ba64-4222-a65c-d26e5395cd3f",
   "metadata": {},
   "source": [
    "#### Define the prompt structure"
   ]
  },
  {
   "cell_type": "code",
   "execution_count": 11,
   "id": "426d2dd3-ac41-4cb2-a975-b35ca482fb4b",
   "metadata": {},
   "outputs": [],
   "source": [
    "rag_prompt = hub.pull(\"rlm/rag-prompt\")"
   ]
  },
  {
   "cell_type": "markdown",
   "id": "2be2ef0b-f63b-4138-8bd9-5271e66ee926",
   "metadata": {},
   "source": [
    "#### Define the LLM: OCI GenAI"
   ]
  },
  {
   "cell_type": "code",
   "execution_count": 12,
   "id": "8d5f0d42-8203-4950-a5ca-8c051ff71b92",
   "metadata": {},
   "outputs": [],
   "source": [
    "# compartment OCID from config_private.py\n",
    "\n",
    "llm = OCIGenAILLM(\n",
    "    temperature=1,\n",
    "    max_tokens=2000,\n",
    "    config=config,\n",
    "    compartment_id=COMPARTMENT_OCID,\n",
    "    endpoint=ENDPOINT,\n",
    "    debug=DEBUG,\n",
    ")"
   ]
  },
  {
   "cell_type": "markdown",
   "id": "7ebe0dca-b88e-4c5f-9b03-25da1ed36cb2",
   "metadata": {},
   "source": [
    "#### Define the (Lang)Chain"
   ]
  },
  {
   "cell_type": "code",
   "execution_count": 13,
   "id": "6e93a1de-9939-4120-8910-66d735de7beb",
   "metadata": {},
   "outputs": [],
   "source": [
    "rag_chain = {\"context\": retriever, \"question\": RunnablePassthrough()} | rag_prompt | llm"
   ]
  },
  {
   "cell_type": "markdown",
   "id": "9fce71ae-50a8-418d-81ea-cea0a30d11cf",
   "metadata": {},
   "source": [
    "#### Process the question"
   ]
  },
  {
   "cell_type": "code",
   "execution_count": 41,
   "id": "a5562c9d-cc2a-4761-9625-1c62a45cf036",
   "metadata": {},
   "outputs": [],
   "source": [
    "# a list of possible questions\n",
    "QUESTION1 = \"What is the best architecture for an LLM?\"\n",
    "QUESTION2 = \"What is LangChain?\"\n",
    "QUESTION3 = \"Make a list of database 23c innovations in AI\"\n",
    "QUESTION4 = \"List the new features in Oracle Database 23c\"\n",
    "QUESTION5 = \"Are there features related to Time Series in Oracle Database 23c?\"\n",
    "QUESTION6 = \"Are there features related to Machine Learning in Oracle Database 23c?\""
   ]
  },
  {
   "cell_type": "code",
   "execution_count": 43,
   "id": "069689c8-4786-455b-aee0-91f1fc69e0e9",
   "metadata": {},
   "outputs": [
    {
     "name": "stdout",
     "output_type": "stream",
     "text": [
      "The response:\n",
      " Oracle Database 23c has the following new features:\n",
      "1. Lock-Free Column Value Reservations\n",
      "2. Microservice Support\n",
      "3. JSON Relational Duality\n",
      "4. Operational Property Graphs in SQL\n",
      "5. Selective In-Memory Columns\n",
      "6. CMAN Diagnostics and Logging Enhancements\n",
      "7. DBMS_DICTIONARY_CHECK PL/SQL Package\n",
      "8. Estimate the Space Saved with Deduplication\n",
      "9. Extent-Based Scrubbing\n",
      "10. High Availability Diagnosability Using the DBMS_SCHEDULER Package\n",
      "11. In-Memory Advisor\n",
      "12. Oracle Call Interface (OCI) APIs to Enable Client-Side Tracing\n",
      "13. Rename LOB Segment\n",
      "14. AutoUpgrade Release Update (RU) Upgrades\n",
      "15. AutoUpgrade Sets Parallelism Based on System Resources\n",
      "16. AutoUpgrade Supports Upgrades with Keystore Access to Databases Using TDE\n",
      "17. AutoUpgrade Unplug-Plug Upgrades to Different Systems\n",
      "18. REST APIs for AutoUpgrade\n",
      "\n",
      "CPU times: user 66.2 ms, sys: 25.3 ms, total: 91.6 ms\n",
      "Wall time: 7.05 s\n"
     ]
    }
   ],
   "source": [
    "%%time\n",
    "\n",
    "# the question\n",
    "QUESTION = QUESTION4\n",
    "\n",
    "response = rag_chain.invoke(QUESTION)\n",
    "\n",
    "print(\"The response:\")\n",
    "print(response)\n",
    "print()"
   ]
  },
  {
   "cell_type": "code",
   "execution_count": 33,
   "id": "3c8d730d-dd1b-4ee7-b2f0-1bdd60a9cf1e",
   "metadata": {},
   "outputs": [
    {
     "name": "stdout",
     "output_type": "stream",
     "text": [
      "The response:\n",
      " Oracle Database 23c includes features related to Time Series such as:\n",
      "- Time series functions and syntax\n",
      "- Time series analysis and forecasting\n",
      "- Time series-specific indexes\n",
      "\n",
      "Is there anything else I can help you with?\n",
      "\n"
     ]
    }
   ],
   "source": [
    "QUESTION = QUESTION5\n",
    "\n",
    "response = rag_chain.invoke(QUESTION)\n",
    "\n",
    "print(\"The response:\")\n",
    "print(response)\n",
    "print()"
   ]
  },
  {
   "cell_type": "code",
   "execution_count": 34,
   "id": "98885a05-0118-4514-90ac-f1912dbe5187",
   "metadata": {},
   "outputs": [
    {
     "name": "stdout",
     "output_type": "stream",
     "text": [
      "The response:\n",
      " Yes, Oracle Database 23c has features related to Machine Learning, including enhancements such as Automated Time Series Model Search, Explicit Semantic Analysis Support for Dense Projection with Embeddings, GLM Link Functions, Improved Data Prep for High Cardinality Categorical Features, Lineage: Data Query Persisted with Model, Multiple Time Series, Outlier Detection using Expectation Maximization (EM) Clustering, Partitioned Model Performance Improvement, XGBoost Support for Constraints and for Survival Analysis, and Vectorized Query Processing: Multi-Level Joins and Aggregations.\n",
      "\n"
     ]
    }
   ],
   "source": [
    "QUESTION = QUESTION6\n",
    "\n",
    "response = rag_chain.invoke(QUESTION)\n",
    "\n",
    "print(\"The response:\")\n",
    "print(response)\n",
    "print()"
   ]
  },
  {
   "cell_type": "markdown",
   "id": "9f93ffe1-3036-4251-9514-0c3cc240f224",
   "metadata": {},
   "source": [
    "#### Explore the vectore store"
   ]
  },
  {
   "cell_type": "code",
   "execution_count": 44,
   "id": "e055f1c4-27d9-465a-b0b4-278ad06bc67b",
   "metadata": {},
   "outputs": [
    {
     "data": {
      "text/plain": [
       "5"
      ]
     },
     "execution_count": 44,
     "metadata": {},
     "output_type": "execute_result"
    }
   ],
   "source": [
    "# Retrieve relevant splits for any question using similarity search.\n",
    "\n",
    "# This is simply \"top K\" retrieval where we select documents based on embedding similarity to the query.\n",
    "\n",
    "TOP_K = 5\n",
    "\n",
    "docs = vectorstore.similarity_search(QUESTION4, k=TOP_K)\n",
    "\n",
    "len(docs)"
   ]
  },
  {
   "cell_type": "code",
   "execution_count": 45,
   "id": "2940dfc1-cc62-4778-a89d-81da8a466980",
   "metadata": {},
   "outputs": [
    {
     "name": "stdout",
     "output_type": "stream",
     "text": [
      "chunk n. 1\n",
      "Oracle® Database Oracle Database New Features Release 23c F48428-15 October 2023\n",
      "\n",
      "chunk n. 2\n",
      "1 Introduction Oracle Database 23c is the next long term support release of Oracle Database. Oracle Database 23c, code named “App Simple,”  accelerates Oracle's mission to make it simple to develop and run all data-driven applications. It's the sum of all the features from the Oracle Database 21c innovation release plus over 300 new features and enhancements. Key focus areas include JSON, graph, microservices, and developer productivity. Note: For information about desupported features, see Oracle Database Changes, Desupports, and Deprecations. JSON Relational Duality Data can be transparently accessed and updated as either JSON documents or relational tables. Developers benefit from the strengths of both, which are simpler and more powerful than Object Relational Mapping (ORM). See JSON-Relational Duality . Operational Property Graphs in SQL Developers can now build real-time graph analysis applications against operational data directly in the Oracle Database, utilizing its industry leading security, high availability and performance capabilities. See Support for the ISO/IEC SQL Property Graph Queries (SQL/PGQ) Standard . Microservice Support Alongside Oracle’s already comprehensive support for microservices, new functionality makes it simpler to implement cross-service transactions. See Microservices . Lock-Free Column Value Reservations Lock-free column value reservations allow applications to reserve part of a value in a column without locking the row; for example, reserve part of a bank account balance or reserve an item in inventory without locking out all other operations on the bank account or item. See Lock-Free Reservations . 1-1\n",
      "\n",
      "chunk n. 3\n",
      "Oracle Database Oracle Database New Features, Release 23c F48428-15 Copyright © 2022, 2023, Oracle and/or its affiliates. This software and related documentation are provided under a license agreement containing restrictions on use and disclosure and are protected by intellectual property laws. Except as expressly permitted in your license agreement or allowed by law, you may not use, copy, reproduce, translate, broadcast, modify, license, transmit, distribute, exhibit, perform, publish, or display any part, in any form, or by any means. Reverse engineering, disassembly, or decompilation of this software, unless required by law for interoperability, is prohibited. The information contained herein is subject to change without notice and is not warranted to be error-free. If you find any errors, please report them to us in writing. If this is software, software documentation, data (as defined in the Federal Acquisition Regulation), or related documentation that is delivered to the U.S. Government or anyone licensing it on behalf of the U.S. Government, then the following notice is applicable: U.S. GOVERNMENT END USERS: Oracle programs (including any operating system, integrated software, any programs embedded, installed, or activated on delivered hardware, and modifications of such programs) and Oracle computer documentation or other Oracle data delivered to or accessed by U.S. Government end users are \"commercial computer software,\" \"commercial computer software documentation,\" or \"limited rights data\" pursuant to the applicable Federal Acquisition Regulation and agency-specific supplemental regulations. As such, the use, reproduction, duplication, release, display, disclosure, modification, preparation of derivative works, and/or adaptation of i) Oracle programs (including any operating system, integrated software, any programs embedded, installed, or activated on delivered hardware, and modifications of such\n",
      "\n",
      "chunk n. 4\n",
      "Add Verified SQL Plan Baseline 10-1 CMAN Diagnostics and Logging Enhancements 10-2 DBMS_DICTIONARY_CHECK PL/SQL Package 10-2 Estimate the Space Saved with Deduplication 10-2 Extent-Based Scrubbing 10-3 High Availability Diagnosability Using the DBMS_SCHEDULER Package 10-3 In-Memory Advisor 10-3 Oracle Call Interface (OCI) APIs to Enable Client-Side Tracing 10-3 Rename LOB Segment 10-4 Selective In-Memory Columns 10-4 11    Installation, Upgrade, and Patching Upgrade 11-1 AutoUpgrade Release Update (RU) Upgrades 11-1 AutoUpgrade Sets Parallelism Based on System Resources 11-1 AutoUpgrade Supports Upgrades with Keystore Access to Databases Using TDE 11-1 AutoUpgrade Unplug-Plugin Upgrades to Different Systems 11-2 REST APIs for AutoUpgrade 11-2 xi\n",
      "\n",
      "chunk n. 5\n",
      "JDBC Support for Database Annotation 2-26 JDBC Support for Pipelined Database Operations 2-26 JDBC Support for Self-Driven Diagnosability 2-26 JDBC Support for SQL BOOLEAN Data Type 2-27 ODBC Support for SQL BOOLEAN Data Type 2-27 Oracle Call Interface (OCI) Support for SQL BOOLEAN Data Type 2-27 v\n",
      "\n"
     ]
    }
   ],
   "source": [
    "for i, doc in enumerate(docs):\n",
    "    print(f\"chunk n. {i+1}\")\n",
    "    print(doc.page_content)\n",
    "    print()"
   ]
  },
  {
   "cell_type": "code",
   "execution_count": null,
   "id": "d452bd3e-2721-4cc8-892e-4f520b76b7a8",
   "metadata": {},
   "outputs": [],
   "source": []
  },
  {
   "cell_type": "code",
   "execution_count": null,
   "id": "228be3c9-9c7b-4501-a2fe-656cdefd0a66",
   "metadata": {},
   "outputs": [],
   "source": []
  }
 ],
 "metadata": {
  "kernelspec": {
   "display_name": "Python 3 (ipykernel)",
   "language": "python",
   "name": "python3"
  },
  "language_info": {
   "codemirror_mode": {
    "name": "ipython",
    "version": 3
   },
   "file_extension": ".py",
   "mimetype": "text/x-python",
   "name": "python",
   "nbconvert_exporter": "python",
   "pygments_lexer": "ipython3",
   "version": "3.9.0"
  }
 },
 "nbformat": 4,
 "nbformat_minor": 5
}
