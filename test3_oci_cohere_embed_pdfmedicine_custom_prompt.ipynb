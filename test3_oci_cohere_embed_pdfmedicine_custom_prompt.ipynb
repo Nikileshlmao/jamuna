{
 "cells": [
  {
   "cell_type": "markdown",
   "id": "1b9f0b37-fbfe-4e59-ab32-da1c1afe3b00",
   "metadata": {},
   "source": [
    "## RAG using a pdf book\n",
    "* see: https://python.langchain.com/docs/use_cases/question_answering/\n",
    "* using Cohere embeddings\n",
    "* using a custom prompt"
   ]
  },
  {
   "cell_type": "code",
   "execution_count": 1,
   "id": "75812374-a9a1-4463-93a2-6dd6f352cb40",
   "metadata": {},
   "outputs": [],
   "source": [
    "# for pdf post processing\n",
    "import re\n",
    "\n",
    "# modified to load from Pdf\n",
    "from langchain.document_loaders import PyPDFLoader\n",
    "from langchain.text_splitter import RecursiveCharacterTextSplitter\n",
    "from langchain.prompts import PromptTemplate\n",
    "\n",
    "# two possible vector store\n",
    "from langchain.vectorstores import Chroma\n",
    "from langchain.vectorstores import FAISS\n",
    "\n",
    "# removed OpenAI, using Cohere embeddings\n",
    "from langchain.embeddings import CohereEmbeddings\n",
    "\n",
    "from langchain import hub\n",
    "\n",
    "# removed OpenAI, using OCI GenAI\n",
    "from oci.config import from_file\n",
    "\n",
    "# oci_llm is in a local file\n",
    "from oci_llm import OCIGenAILLM\n",
    "\n",
    "from langchain.schema.runnable import RunnablePassthrough\n",
    "\n",
    "# private configs\n",
    "from config_private import COMPARTMENT_OCID, COHERE_API_KEY"
   ]
  },
  {
   "cell_type": "code",
   "execution_count": 2,
   "id": "eaede75f-e609-4cc6-a077-259b3a439bc6",
   "metadata": {},
   "outputs": [],
   "source": [
    "# to enable some debugging\n",
    "DEBUG = False"
   ]
  },
  {
   "cell_type": "markdown",
   "id": "ab6cab57-15f4-413d-96cb-ea276a7a75be",
   "metadata": {},
   "source": [
    "#### Template for custom prompt"
   ]
  },
  {
   "cell_type": "code",
   "execution_count": 3,
   "id": "14850d24-f6a6-46ee-ac54-2e9deac1b8d9",
   "metadata": {},
   "outputs": [],
   "source": [
    "# this is the template for the prompt\n",
    "template = \"\"\"Use the following pieces of context to answer the question at the end. \n",
    "If you don't know the answer don't try to make up an answer. \n",
    "Use five sentences maximum. \n",
    "Always say \"Thanks for asking!\" at the end of the answer. \n",
    "{context}\n",
    "Question: {question}\n",
    "Helpful Answer:\"\"\""
   ]
  },
  {
   "cell_type": "code",
   "execution_count": 4,
   "id": "79547220-85f9-4e02-9dbb-0a76717d684e",
   "metadata": {},
   "outputs": [],
   "source": [
    "# functions\n",
    "def get_answer(rag_chain, question):\n",
    "    response = rag_chain.invoke(question)\n",
    "\n",
    "    print(f\"Question: {question}\")\n",
    "    print()\n",
    "    print(\"The response:\")\n",
    "    print(response)\n",
    "    print()"
   ]
  },
  {
   "cell_type": "code",
   "execution_count": 5,
   "id": "ef483ade-2146-4218-8130-95abe1607a50",
   "metadata": {},
   "outputs": [],
   "source": [
    "# read OCI config to connect to OCI with API key\n",
    "CONFIG_PROFILE = \"DEFAULT\"\n",
    "config = from_file(\"~/.oci/config\", CONFIG_PROFILE)\n",
    "\n",
    "# OCI GenAI endpoint (for now Chicago)\n",
    "ENDPOINT = \"https://generativeai.aiservice.us-chicago-1.oci.oraclecloud.com\"\n",
    "\n",
    "# check the config to access to api keys\n",
    "if DEBUG:\n",
    "    print(config)"
   ]
  },
  {
   "cell_type": "markdown",
   "id": "b988c589-f06e-49f7-b23f-f70ab316e720",
   "metadata": {},
   "source": [
    "#### Loading the document"
   ]
  },
  {
   "cell_type": "code",
   "execution_count": 6,
   "id": "0d5edf3f-17df-4963-82ef-d4297239dcb0",
   "metadata": {},
   "outputs": [],
   "source": [
    "# BLOG_POST = \"https://python.langchain.com/docs/get_started/introduction\"\n",
    "BOOK = \"./CurrentEssentialsOfMedicine.pdf\"\n",
    "\n",
    "loader = PyPDFLoader(BOOK)\n",
    "\n",
    "data = loader.load()"
   ]
  },
  {
   "cell_type": "markdown",
   "id": "2fd8887b-0aff-45b8-9df2-ea904815ea26",
   "metadata": {},
   "source": [
    "#### Splitting the document in chunks"
   ]
  },
  {
   "cell_type": "code",
   "execution_count": 7,
   "id": "9f53344e-271e-4484-bd29-c95a02b35d53",
   "metadata": {},
   "outputs": [],
   "source": [
    "CHUNK_SIZE = 2000\n",
    "CHUNK_OVERLAP = 100\n",
    "\n",
    "text_splitter = RecursiveCharacterTextSplitter(\n",
    "    chunk_size=CHUNK_SIZE, chunk_overlap=CHUNK_OVERLAP\n",
    ")\n",
    "\n",
    "splits = text_splitter.split_documents(data)"
   ]
  },
  {
   "cell_type": "code",
   "execution_count": 8,
   "id": "89b1b9f1-d375-4a68-b25a-633930c2462c",
   "metadata": {},
   "outputs": [
    {
     "name": "stdout",
     "output_type": "stream",
     "text": [
      "We have splitted the pdf in 686 splits...\n"
     ]
    }
   ],
   "source": [
    "print(f\"We have splitted the pdf in {len(splits)} splits...\")"
   ]
  },
  {
   "cell_type": "code",
   "execution_count": 9,
   "id": "0b35bb4e-44d8-4c48-bceb-c10873c93c4c",
   "metadata": {},
   "outputs": [],
   "source": [
    "# some post processing\n",
    "\n",
    "# replace \\n with blank\n",
    "for split in splits:\n",
    "    split.page_content = split.page_content.replace(\"\\n\", \" \")\n",
    "    split.page_content = re.sub(\"[^a-zA-Z0-9 \\n\\.]\", \" \", split.page_content)"
   ]
  },
  {
   "cell_type": "code",
   "execution_count": 10,
   "id": "f70cce26-c603-4532-8ab6-8c34fa4d857e",
   "metadata": {},
   "outputs": [
    {
     "data": {
      "text/plain": [
       "'ReferencePoole Wilson PA  V ok  Z  Kirwan BA  de Brouwer S  Dunselman PH  Lubsen J  ACTION investigators. Clinical course of isolated stable angina due to coronaryheart disease. Eur Heart J 2007 28 1928.  PMID  17562665 '"
      ]
     },
     "execution_count": 10,
     "metadata": {},
     "output_type": "execute_result"
    }
   ],
   "source": [
    "# have a look at a single split\n",
    "splits[20].page_content"
   ]
  },
  {
   "cell_type": "markdown",
   "id": "d4830653-e501-4dda-a26e-8faef61a0531",
   "metadata": {},
   "source": [
    "#### Embeddings and Vectore Store"
   ]
  },
  {
   "cell_type": "code",
   "execution_count": 11,
   "id": "3a63cc21-2225-4e1f-8b3a-6ec41ca97d81",
   "metadata": {},
   "outputs": [
    {
     "name": "stdout",
     "output_type": "stream",
     "text": [
      "CPU times: user 2.93 s, sys: 254 ms, total: 3.19 s\n",
      "Wall time: 6.38 s\n"
     ]
    }
   ],
   "source": [
    "%%time\n",
    "\n",
    "cohere = CohereEmbeddings(cohere_api_key=COHERE_API_KEY)\n",
    "\n",
    "# using Chroma or FAISS as Vector store\n",
    "vectorstore = Chroma.from_documents(documents=splits, embedding=cohere)\n",
    "# vectorstore = FAISS.from_documents(documents=splits, embedding=hf)\n",
    "\n",
    "retriever = vectorstore.as_retriever()"
   ]
  },
  {
   "cell_type": "markdown",
   "id": "16aaa4a5-ba64-4222-a65c-d26e5395cd3f",
   "metadata": {},
   "source": [
    "#### Define the prompt structure"
   ]
  },
  {
   "cell_type": "code",
   "execution_count": 12,
   "id": "426d2dd3-ac41-4cb2-a975-b35ca482fb4b",
   "metadata": {},
   "outputs": [],
   "source": [
    "rag_prompt_custom = PromptTemplate.from_template(template)"
   ]
  },
  {
   "cell_type": "markdown",
   "id": "2be2ef0b-f63b-4138-8bd9-5271e66ee926",
   "metadata": {},
   "source": [
    "#### Define the LLM: OCI GenAI"
   ]
  },
  {
   "cell_type": "code",
   "execution_count": 13,
   "id": "8d5f0d42-8203-4950-a5ca-8c051ff71b92",
   "metadata": {},
   "outputs": [],
   "source": [
    "# compartment OCID from config_private.py\n",
    "\n",
    "# using mostly defaults\n",
    "llm = OCIGenAILLM(\n",
    "    temperature=1.0,\n",
    "    max_tokens=1500,\n",
    "    config=config,\n",
    "    compartment_id=COMPARTMENT_OCID,\n",
    "    endpoint=ENDPOINT,\n",
    "    debug=DEBUG,\n",
    ")"
   ]
  },
  {
   "cell_type": "markdown",
   "id": "7ebe0dca-b88e-4c5f-9b03-25da1ed36cb2",
   "metadata": {},
   "source": [
    "#### Define the (Lang)Chain"
   ]
  },
  {
   "cell_type": "code",
   "execution_count": 14,
   "id": "6e93a1de-9939-4120-8910-66d735de7beb",
   "metadata": {},
   "outputs": [],
   "source": [
    "rag_chain = (\n",
    "    {\"context\": retriever, \"question\": RunnablePassthrough()} | rag_prompt_custom | llm\n",
    ")"
   ]
  },
  {
   "cell_type": "markdown",
   "id": "9fce71ae-50a8-418d-81ea-cea0a30d11cf",
   "metadata": {},
   "source": [
    "#### Process the question"
   ]
  },
  {
   "cell_type": "code",
   "execution_count": 15,
   "id": "a5562c9d-cc2a-4761-9625-1c62a45cf036",
   "metadata": {},
   "outputs": [],
   "source": [
    "# a list of possible questions\n",
    "QUESTION1 = \"What is the suggested treatment for Botulism?\"\n",
    "QUESTION2 = \"List diagnosis for Botulims?\"\n",
    "QUESTION3 = \"List the antibiotics commonly used for tubercolosis\""
   ]
  },
  {
   "cell_type": "code",
   "execution_count": 16,
   "id": "069689c8-4786-455b-aee0-91f1fc69e0e9",
   "metadata": {},
   "outputs": [
    {
     "name": "stdout",
     "output_type": "stream",
     "text": [
      "Question: What is the suggested treatment for Botulism?\n",
      "\n",
      "The response:\n",
      " The suggested treatment for botulism is removal of unabsorbed toxin from the gut and specific antitoxin. \n",
      "Passive immunization with tetanus immune globulin and concurrent active immunization may also be required. \n",
      "Intravenous immunoglobulin therapy may provide a short-term benefit in some cases, especially in myasthenic crisis.\n",
      "\n",
      "CPU times: user 77 ms, sys: 7.54 ms, total: 84.6 ms\n",
      "Wall time: 3.54 s\n"
     ]
    }
   ],
   "source": [
    "%%time\n",
    "\n",
    "# the question\n",
    "get_answer(rag_chain, question=QUESTION1)"
   ]
  },
  {
   "cell_type": "code",
   "execution_count": 17,
   "id": "98885a05-0118-4514-90ac-f1912dbe5187",
   "metadata": {},
   "outputs": [
    {
     "name": "stdout",
     "output_type": "stream",
     "text": [
      "Question: List diagnosis for Botulims?\n",
      "\n",
      "The response:\n",
      " Here are some possible diagnoses for botulism:\n",
      "\n",
      "- Clostridium botulinum: this is the most common cause of botulism, and it is usually associated with the consumption of contaminated food. \n",
      "- Bulbar poliomyelitis: this is a paralytic disease caused by a virus that affects the nervous system. \n",
      "- Myasthenia gravis: this is a disease that causes muscle weakness and fatigue. \n",
      "- Posterior cerebral circulation ischemia: this is a stroke caused by a blockage in the blood flow to the back of the brain. \n",
      "- Tick paralysis: this is a disease caused by a tick bite that can cause paralysis in the affected limb. \n",
      "- Guillain Barr syndrome or variant: this is a rare disorder of the immune system that can cause muscle weakness and paralysis. \n",
      "- Inorganic phosphorus poisoning: this is a toxic metal poisoning that can cause muscle weakness and neurological damage.\n",
      "\n",
      "It is important to note that the diagnosis of botulism can be difficult, as the symptoms can be similar to those of other neurological disorders. \n",
      "A doctor would likely perform a series of tests, including blood tests, to confirm the diagnosis. \n",
      "Thanks for asking!\n",
      "\n",
      "CPU times: user 51 ms, sys: 7.96 ms, total: 58.9 ms\n",
      "Wall time: 8.49 s\n"
     ]
    }
   ],
   "source": [
    "%%time\n",
    "\n",
    "# the question\n",
    "get_answer(rag_chain, question=QUESTION2)"
   ]
  },
  {
   "cell_type": "code",
   "execution_count": 18,
   "id": "01bb7358-c799-492b-81d0-8c482ece43fb",
   "metadata": {},
   "outputs": [
    {
     "name": "stdout",
     "output_type": "stream",
     "text": [
      "Question: List the antibiotics commonly used for tubercolosis\n",
      "\n",
      "The response:\n",
      " The most common antibiotics used for tuberculosis are isoniazid and rifampin. \n",
      "Other antibiotics that may be used include ethambutol, pyrazinamide and streptomycin. \n",
      "Isoniazid and rifampin are both considered first-line treatments for tuberculosis, as they have been found to be effective in treating the disease. \n",
      "\n",
      "Tuberculosis is caused by the bacteria Mycobacterium tuberculosis. It is a highly contagious disease that can be spread through the air by coughing or sneezing. It is most common in developing countries, but it can also be found in developed countries.\n",
      "\n",
      "Tuberculosis can be treated with a combination of antibiotics and other medications. The most common treatment is a four-drug regimen that includes isoniazid and rifampin. Other drugs that may be used include ethambutol, pyrazinamide, and streptomycin.\n",
      "\n",
      "It is important to note that tuberculosis is a serious disease that can be life-threatening if not treated properly. It is also important to follow the correct dosage and duration of treatment, as well as any other instructions provided by your doctor.\n",
      "\n",
      "CPU times: user 54.9 ms, sys: 8.19 ms, total: 63.1 ms\n",
      "Wall time: 8.36 s\n"
     ]
    }
   ],
   "source": [
    "%%time\n",
    "\n",
    "# the question\n",
    "get_answer(rag_chain, question=QUESTION3)"
   ]
  },
  {
   "cell_type": "markdown",
   "id": "9f93ffe1-3036-4251-9514-0c3cc240f224",
   "metadata": {},
   "source": [
    "#### Explore the vectore store"
   ]
  },
  {
   "cell_type": "code",
   "execution_count": 19,
   "id": "e055f1c4-27d9-465a-b0b4-278ad06bc67b",
   "metadata": {},
   "outputs": [
    {
     "data": {
      "text/plain": [
       "5"
      ]
     },
     "execution_count": 19,
     "metadata": {},
     "output_type": "execute_result"
    }
   ],
   "source": [
    "# Retrieve relevant splits for any question using similarity search.\n",
    "\n",
    "# This is simply \"top K\" retrieval where we select documents based on embedding similarity to the query.\n",
    "\n",
    "TOP_K = 5\n",
    "\n",
    "docs = vectorstore.similarity_search(QUESTION3, k=TOP_K)\n",
    "\n",
    "len(docs)"
   ]
  },
  {
   "cell_type": "code",
   "execution_count": 20,
   "id": "2940dfc1-cc62-4778-a89d-81da8a466980",
   "metadata": {},
   "outputs": [
    {
     "name": "stdout",
     "output_type": "stream",
     "text": [
      "chunk n. 1\n",
      "238 Current Essentials of Medicine 8Tuberculosis   Mycobacterium tuberculosis    Essentials of Diagnosis  Most infections subclinical  with positive skin test only  Symptoms progressive and include cough  dyspnea  fever  nightsweats  weight loss  and hemoptysis  In primary infection  mid lung  eld in ltrates with regional lym phadenopathy  pleural effusion common  Apical  bronodular pulmonary in ltrate on chest  lm  with orwithout cavitation  is most typical in reactivated disease  Posttussive rales noted on auscultation  Most common extrapulmonary manifestations include meningi tis  genitourinary infection  miliary disease  arthritis  with local ized symptoms and signs  Differential Diagnosis  Pneumonia of other cause  bacterial and fungal  histoplasmosis coccidioidomycosis  most similar  Other mycobacterial infection  HIV infection  may be associated   Prolonged fever of other cause  Urinary tract infection  oligoarticular arthritis of other cause  Carcinoma of the lung  Lung abscess  Treatment  Four drug regimens to include isoniazid and rifampin  Attention must be paid to sensitivity patterns due to increasingprevalence of drug resistant strains  Pearl In HIV infected patients  concerning tuberculosis and the clinical appear ance in the lung  if it looks like TB  it s not  and if it doesn t  it is. ReferenceHauck FR  Neese BH  Panchal AS  El Amin W. Identi cation and management of latent tuberculosis infection. Am Fam Physician 2009 79 879.  PMID  19496388 \n",
      "\n",
      "chunk n. 2\n",
      "60 Current Essentials of Medicine 2Pulmonary Tuberculosis  Essentials of Diagnosis  Lassitude  weight loss  fever  cough  night sweats  hemoptysis  Cachexia in many  posttussive apical rales occasionally present  Apical or subapical in ltrates with cavities classic in reactivationtuberculosis  pleural effusion in primary tuberculosis  likewisemid lung in ltration  but any radiographic abnormality possible  Positive skin test to intradermal puri ed protein derivative  PPD    Interferon gamma release assays have good speci city for latenttuberculosis  Mycobacterium tuberculosis by culture of sputum  gastric wash  ing  or pleural biopsy  pleural  uid culture usually sterile  Nucleic acid ampli cation can rapidly distinguish between M. tuberculosis and nontuberculous mycobacterium to guide treat  ment decisions but culture still needed for susceptibility testing  Increasingly encountered antibiotic resistant strains  Granuloma on pleural biopsy in patients with effusions  mesothe lial cells usually absent from  uid  Miliary tuberculosis  widespread hematogenous spread of organism has diverse clinical presentations including failure to thrive  fever ofunknown origin  multiorgan system failure  ARDS  nearly all haveovert pulmonary involvement with numerous small nodules  Differential Diagnosis  Lung carcinoma  fungal infection  Bacterial pneumonia or lung abscess  other mycobacterial infections  Sarcoidosis  pneumoconiosis  Treatment  Combination antituberculous therapy for 6 9 months  all regi mens include isoniazid  but rifampin  ethambutol  pyrazinamide and streptomycin all have activity  Avoid empiric treatment for community acquired pneumonia with uoroquinolones if M. tuberculosis is suspected as transient use may facilitate development of resistance  All cases of suspected M. tuberculosis infection should be reported to local health departments  Hospitalization considered for those incapable of self care orlikely to expose susceptible individuals  Pearl\n",
      "\n",
      "chunk n. 3\n",
      "Chapter 8 Infectious Diseases 239 8Tuberculous Meningitis   Mycobacterium tuberculosis    Essentials of Diagnosis  Insidious onset of listlessness  irritability  headaches  Meningeal signs  cranial nerve palsies  Tuberculous focus evident elsewhere in half of patients  Cerebrospinal  uid with lymphocytic pleocytosis  low glucose and high protein  culture positive for acid fast bacilli in many butnot all  polymerase chain reaction  PCR  often helpful  Chest x ray may reveal abnormalities compatible with pulmonarytuberculosis  Differential Diagnosis  Chronic lymphocytic meningitis due to fungi  brucellosis  leptospirosis HIV infection  neurocysticercosis  sarcoidosis  Carcinomatous meningitis  Unsuspected head trauma with subdural hematoma  Drug overdose  Psychiatric disorder  Treatment  Empiric antituberculous therapy essential in proper clinical setting  Concomitant corticosteroids reduce long term complications  Pearl A highly elusive diagnosis  but most unlikely in patients with chronicmeningitis and normal cerebrospinal  uid glucose. ReferenceBe NA  Kim KS  Bishai WR  Jain SK. Pathogenesis of central nervous system tuberculosis. Curr Mol Med 2009 9 94.  PMID  19275620 \n",
      "\n",
      "chunk n. 4\n",
      "544 Current Essentials of Medicine 22Antidepressants  Tricyclics  Essentials of Diagnosis  Hypotension  tachydysrhythmia  and seizures are the most life threatening presentation and develop within 2 hours of ingestion other symptoms due to anticholinergic effects  Peripheral antimuscarinic  Dry mouth  dry skin  muscle twitching decreased bowel activity  dilated pupils  Central antimuscarinic  Agitation  delirium  confusion  hallucina tions  slurred speech  ataxia  sedation  coma  Cardiac  QRS interval widening  large R wave in aVR  terminalright axis deviation  prolonged QTc interval  sinus tachycardia  Generalized seizures from GABAA receptor antagonism  Toxicity can occur at therapeutic doses in combination with otherdrugs  antihistamines  antipsychotics   Useful studies include ECG and telemetric monitoring  chem istry panel  renal panel  glucose  urinalysis  qualitative tricyclicdetermination  complete blood count  Differential Diagnosis  Other drug ingestions  Carbamazepine  antihistamines  class Iaand Ic antiarrhythmics  propranolol  lithium  cocaine  Hyperkalemia  Hypocalcemia  Treatment  Activated charcoal  Gastric lavage if less than 1 hour since ingestion  Alkalinize serum with sodium bicarbonate for QRS   100 mil liseconds  refractory hypotension  or ventricular dysrhythmia  toreach goal serum pH 7.50 7.55   Seizures usually respond to benzodiazepines  phenytoin not rec ommended for refractory seizures due to possible prodysrhythmiceffects  Hypotension must be rapidly corrected with intravenous  uids andvasopressors if necessary  eg  norepinephrine   Pearl TCAs are responsible for a high percentage of overdose related deaths development of newer and perhaps safer antidepressants holds hope forameliorating this. ReferencePierog JE  Kane KE  Kane BG  Donovan JW  Helmick T. Tricyclic antidepres  sant toxicity treated with massive sodium bicarbonate. Am J Emerg Med2009 27 1168.e3.  PMID  19931778 \n",
      "\n",
      "chunk n. 5\n",
      "Chapter 3 Gastrointestinal Diseases 85 3Intestinal Tuberculosis  Essentials of Diagnosis  Chronic abdominal pain  anorexia  bloating  weight loss  fever diarrhea  new onset ascites in many  Mild right lower quadrant tenderness  as ileocecal area is the mostcommonly involved intestinal site   stula in ano sometimes seen  Barium study may reveal mucosal ulcerations or scarring and brosis with narrowing of the small or large intestine  In peritonitis  ascitic  uid has high protein and mononuclear pleo cytosis  peritoneal biopsy with granulomas is more sensitive thanascites AFB culture  high adenosine deaminase levels in ascitic uid may suggest the diagnosis  TB peritonitis more common inthose with immune compromise  Complications include intestinal obstruction  hemorrhage   stulaformation  and bacterial overgrowth with malabsorption  Differential Diagnosis  Carcinoma of the colon or small bowel  In ammatory bowel disease  Crohn s disease  Ameboma or Yersinia infection  Intestinal lymphoma or amyloidosis  Ovarian or peritoneal carcinomatosis  Mycobacterium avium intracellulare infection  Treatment  Standard therapy for tuberculosis  as infection heals  the affectedbowel may develop stricture  Pearl Seen uncommonly in the developed world  but experienced clinicianshave long noted that exploratory laparotomy for suspected small bowelobstruction relieves symptoms without antituberculous therapy. ReferenceDonoghue HD  Holton J. Intestinal tuberculosis. Curr Opin Infect Dis 2009 22 490.  PMID  19623062 \n",
      "\n"
     ]
    }
   ],
   "source": [
    "for i, doc in enumerate(docs):\n",
    "    print(f\"chunk n. {i+1}\")\n",
    "    print(doc.page_content)\n",
    "    print()"
   ]
  },
  {
   "cell_type": "code",
   "execution_count": null,
   "id": "d452bd3e-2721-4cc8-892e-4f520b76b7a8",
   "metadata": {},
   "outputs": [],
   "source": []
  },
  {
   "cell_type": "code",
   "execution_count": null,
   "id": "228be3c9-9c7b-4501-a2fe-656cdefd0a66",
   "metadata": {},
   "outputs": [],
   "source": []
  }
 ],
 "metadata": {
  "kernelspec": {
   "display_name": "Python 3 (ipykernel)",
   "language": "python",
   "name": "python3"
  },
  "language_info": {
   "codemirror_mode": {
    "name": "ipython",
    "version": 3
   },
   "file_extension": ".py",
   "mimetype": "text/x-python",
   "name": "python",
   "nbconvert_exporter": "python",
   "pygments_lexer": "ipython3",
   "version": "3.10.6"
  }
 },
 "nbformat": 4,
 "nbformat_minor": 5
}
