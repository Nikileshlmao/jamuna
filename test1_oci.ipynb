{
 "cells": [
  {
   "cell_type": "markdown",
   "id": "1b9f0b37-fbfe-4e59-ab32-da1c1afe3b00",
   "metadata": {},
   "source": [
    "### Example of code that uses OCI GenAI\n",
    "* see: https://python.langchain.com/docs/use_cases/question_answering/\n",
    "\n",
    "The code has been simpified: the rag_chain is built in the function initialize_rag_chain"
   ]
  },
  {
   "cell_type": "code",
   "execution_count": 1,
   "id": "75812374-a9a1-4463-93a2-6dd6f352cb40",
   "metadata": {},
   "outputs": [],
   "source": [
    "# removed OpenAI, using OCI GenAI\n",
    "# this function initialise the rag chain, creating retriever, llm and chain\n",
    "from init_rag import initialize_rag_chain, get_answer"
   ]
  },
  {
   "cell_type": "code",
   "execution_count": 2,
   "id": "eaede75f-e609-4cc6-a077-259b3a439bc6",
   "metadata": {},
   "outputs": [],
   "source": [
    "# to enable some debugging\n",
    "DEBUG = False"
   ]
  },
  {
   "cell_type": "code",
   "execution_count": 3,
   "id": "ee777cdc-41b3-4b2c-8e01-35afe5315f2b",
   "metadata": {},
   "outputs": [
    {
     "name": "stdout",
     "output_type": "stream",
     "text": [
      "Loading book: ./oracle-database-23c-new-features-guide.pdf...\n",
      "Loaded 96 pages...\n",
      "PDF document loaded!\n",
      "Loading book: ./database-concepts.pdf...\n",
      "Loaded 794 pages...\n",
      "PDF document loaded!\n",
      "We have splitted the pdf in 2635 splits...\n",
      "Initializing vector store...\n",
      "Loading HF Embeddings Model: BAAI/bge-base-en-v1.5\n",
      "Indexing...\n",
      "Using OCI llm...\n",
      "Building rag_chain...\n",
      "Init RAG complete...\n"
     ]
    }
   ],
   "source": [
    "# init RAG\n",
    "rag_chain = initialize_rag_chain()"
   ]
  },
  {
   "cell_type": "markdown",
   "id": "b988c589-f06e-49f7-b23f-f70ab316e720",
   "metadata": {},
   "source": [
    "#### Loading the documents"
   ]
  },
  {
   "cell_type": "markdown",
   "id": "2fd8887b-0aff-45b8-9df2-ea904815ea26",
   "metadata": {},
   "source": [
    "#### Splitting the document in chunks"
   ]
  },
  {
   "cell_type": "markdown",
   "id": "d4830653-e501-4dda-a26e-8faef61a0531",
   "metadata": {},
   "source": [
    "#### Embeddings and Vectore Store"
   ]
  },
  {
   "cell_type": "markdown",
   "id": "16aaa4a5-ba64-4222-a65c-d26e5395cd3f",
   "metadata": {},
   "source": [
    "#### Define the prompt structure"
   ]
  },
  {
   "cell_type": "markdown",
   "id": "2be2ef0b-f63b-4138-8bd9-5271e66ee926",
   "metadata": {},
   "source": [
    "#### Define the LLM"
   ]
  },
  {
   "cell_type": "markdown",
   "id": "7ebe0dca-b88e-4c5f-9b03-25da1ed36cb2",
   "metadata": {},
   "source": [
    "#### Define the (Lang)Chain"
   ]
  },
  {
   "cell_type": "markdown",
   "id": "9fce71ae-50a8-418d-81ea-cea0a30d11cf",
   "metadata": {},
   "source": [
    "#### Process the question"
   ]
  },
  {
   "cell_type": "code",
   "execution_count": 23,
   "id": "a5562c9d-cc2a-4761-9625-1c62a45cf036",
   "metadata": {},
   "outputs": [],
   "source": [
    "# a list of possible questions\n",
    "QUESTION1 = \"What is JSON Schema?\"\n",
    "QUESTION2 = \"Show  an example of JSON Schema. List the code.\"\n",
    "QUESTION3 = \"List new features in Oracle database 23c. List only 10 items.\"\n",
    "QUESTION4 = (\n",
    "    \"List new features regarding JSON in Oracle database 23c. List only 10 items.\"\n",
    ")\n",
    "QUESTION5 = \"What is JSON duality?\""
   ]
  },
  {
   "cell_type": "code",
   "execution_count": 15,
   "id": "069689c8-4786-455b-aee0-91f1fc69e0e9",
   "metadata": {},
   "outputs": [
    {
     "name": "stdout",
     "output_type": "stream",
     "text": [
      "Calling OCI genai...\n",
      "Question: What is JSON Schema?\n",
      "The response:\n",
      " JSON schema is a JSON document that specifies allowed properties, field names and the corresponding allowed data types and whether they are optional or mandatory. It is used to ensure that your JSON data contains particular mandatory fixed structures and typing besides other optional and flexible components.\n",
      "\n",
      "CPU times: user 64.2 ms, sys: 30.9 ms, total: 95.1 ms\n",
      "Wall time: 1.87 s\n"
     ]
    }
   ],
   "source": [
    "%%time\n",
    "\n",
    "response = get_answer(rag_chain, QUESTION1)"
   ]
  },
  {
   "cell_type": "code",
   "execution_count": 16,
   "id": "f7c2f5fb-05e4-43b6-be9a-3dd5678685bc",
   "metadata": {},
   "outputs": [
    {
     "name": "stdout",
     "output_type": "stream",
     "text": [
      "Calling OCI genai...\n",
      "Question: Show  an example of JSON Schema. List the code.\n",
      "The response:\n",
      " Sure, here's an example of a JSON schema:\n",
      "\n",
      "```json\n",
      "{\n",
      "  \"title\": \"Purchase Order\",\n",
      "  \"type\": \"object\",\n",
      "  \"properties\": {\n",
      "    \"PONumber\": {\n",
      "      \"type\": \"string\"\n",
      "    },\n",
      "    \"Reference\": {\n",
      "      \"type\": \"string\"\n",
      "    },\n",
      "    \"Requestor\": {\n",
      "      \"type\": \"string\"\n",
      "    },\n",
      "    \"Costcenter\": {\n",
      "      \"type\": \"string\"\n",
      "    },\n",
      "    \"ShippingInstructions\": {\n",
      "      \"type\": \"string\"\n",
      "    },\n",
      "    \"SpecialInstructions\": {\n",
      "      \"type\": \"string\"\n",
      "    },\n",
      "    \"AllowPartialShipment\": {\n",
      "      \"type\": \"boolean\"\n",
      "    },\n",
      "    \"LineItems\": {\n",
      "      \"type\": \"array\",\n",
      "      \"items\": {\n",
      "        \"type\": \"object\",\n",
      "        \"properties\": {\n",
      "          \"Product\": {\n",
      "            \"type\": \"string\"\n",
      "          },\n",
      "          \"Quantity\": {\n",
      "            \"type\": \"number\"\n",
      "          },\n",
      "          \"UnitPrice\": {\n",
      "            \"type\": \"number\"\n",
      "          },\n",
      "          \"LineTotal\": {\n",
      "            \"type\": \"number\"\n",
      "          }\n",
      "        }\n",
      "      }\n",
      "    }\n",
      "  }\n",
      "}\n",
      "```\n",
      "\n",
      "This JSON schema represents a purchase order with top-level property names such as PONumber, Reference, Requestor, Costcenter, ShippingInstructions, SpecialInstructions, AllowPartialShipment, and LineItems. The LineItems property is an array of objects, each of which has properties such as Product, Quantity, UnitPrice, and LineTotal.\n",
      "\n",
      "I hope this helps! Let me know if you have any other questions.\n",
      "\n",
      "CPU times: user 68.1 ms, sys: 37.5 ms, total: 106 ms\n",
      "Wall time: 10.2 s\n"
     ]
    }
   ],
   "source": [
    "%%time\n",
    "\n",
    "response = get_answer(rag_chain, QUESTION2)"
   ]
  },
  {
   "cell_type": "code",
   "execution_count": 21,
   "id": "7c13e245-b36c-4c25-9c9c-76d603390e88",
   "metadata": {},
   "outputs": [
    {
     "name": "stdout",
     "output_type": "stream",
     "text": [
      "Calling OCI genai...\n",
      "Question: List new features in Oracle database 23c. List only 10 items.\n",
      "The response:\n",
      " 1. JSON relational duality\n",
      "2. Microservices\n",
      "3. Developer productivity\n",
      "4. Oracle Database 21c innovation release\n",
      "5. Oracle Database 23c code named App Simple\n",
      "6. Long term support release\n",
      "7. 300 new features and enhancements\n",
      "8. Key focus areas\n",
      "9. JSON graph\n",
      "10. Data driven applications\n",
      "\n",
      "CPU times: user 87.6 ms, sys: 24.2 ms, total: 112 ms\n",
      "Wall time: 2.8 s\n"
     ]
    }
   ],
   "source": [
    "%%time\n",
    "\n",
    "response = get_answer(rag_chain, QUESTION3)"
   ]
  },
  {
   "cell_type": "code",
   "execution_count": 22,
   "id": "19112b1d-fd38-4325-8737-cae5ba833f3a",
   "metadata": {},
   "outputs": [
    {
     "name": "stdout",
     "output_type": "stream",
     "text": [
      "Calling OCI genai...\n",
      "Question: List new features regarding JSON in Oracle database 23c. List only 10 items.\n",
      "The response:\n",
      " 1. JSON Relational Duality\n",
      "2. JSON Schema\n",
      "3. XML and JSON Search Index Enhancements\n",
      "4. DBMS AQ Support for JSON Arrays\n",
      "5. Enhancement to JSON TRANSFORM\n",
      "6. JSON Type Support for External Tables\n",
      "7. JSON JSON VALUE will Convert PL SQL Aggregate Type to from JSON\n",
      "8. JSON ARRAY Constructor by Query\n",
      "9. JSON EXPRESSION CHECK Parameter\n",
      "10. New JSON Data Dictionary Views\n",
      "\n",
      "CPU times: user 94.2 ms, sys: 28.3 ms, total: 122 ms\n",
      "Wall time: 3.66 s\n"
     ]
    }
   ],
   "source": [
    "%%time\n",
    "\n",
    "response = get_answer(rag_chain, QUESTION4)"
   ]
  },
  {
   "cell_type": "code",
   "execution_count": null,
   "id": "12904c18-0b48-4119-9fa6-aadfb4c4093c",
   "metadata": {},
   "outputs": [
    {
     "name": "stdout",
     "output_type": "stream",
     "text": [
      "Calling OCI genai...\n"
     ]
    }
   ],
   "source": [
    "%%time\n",
    "\n",
    "response = get_answer(rag_chain, QUESTION5)"
   ]
  },
  {
   "cell_type": "markdown",
   "id": "9f93ffe1-3036-4251-9514-0c3cc240f224",
   "metadata": {},
   "source": [
    "#### Explore the vectore store"
   ]
  },
  {
   "cell_type": "code",
   "execution_count": null,
   "id": "d452bd3e-2721-4cc8-892e-4f520b76b7a8",
   "metadata": {},
   "outputs": [],
   "source": []
  },
  {
   "cell_type": "code",
   "execution_count": null,
   "id": "228be3c9-9c7b-4501-a2fe-656cdefd0a66",
   "metadata": {},
   "outputs": [],
   "source": []
  }
 ],
 "metadata": {
  "kernelspec": {
   "display_name": "Python 3 (ipykernel)",
   "language": "python",
   "name": "python3"
  },
  "language_info": {
   "codemirror_mode": {
    "name": "ipython",
    "version": 3
   },
   "file_extension": ".py",
   "mimetype": "text/x-python",
   "name": "python",
   "nbconvert_exporter": "python",
   "pygments_lexer": "ipython3",
   "version": "3.10.0"
  }
 },
 "nbformat": 4,
 "nbformat_minor": 5
}
