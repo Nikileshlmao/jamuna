{
 "cells": [
  {
   "cell_type": "markdown",
   "id": "1b9f0b37-fbfe-4e59-ab32-da1c1afe3b00",
   "metadata": {},
   "source": [
    "### Demo Ordini di Servizio Sogei with Cohere\n",
    "\n",
    "\n",
    "* see: https://python.langchain.com/docs/use_cases/question_answering/"
   ]
  },
  {
   "cell_type": "code",
   "execution_count": 1,
   "id": "75812374-a9a1-4463-93a2-6dd6f352cb40",
   "metadata": {},
   "outputs": [],
   "source": [
    "# Document Loader\n",
    "from langchain.document_loaders import DirectoryLoader\n",
    "\n",
    "# Text Splitter\n",
    "from langchain.text_splitter import RecursiveCharacterTextSplitter\n",
    "\n",
    "# Embeddings and Vector Store (Vector DB)\n",
    "# removed OpenAI, using HF for embeddings\n",
    "from langchain.vectorstores import Chroma\n",
    "from langchain.embeddings import HuggingFaceEmbeddings\n",
    "\n",
    "from langchain import hub\n",
    "\n",
    "# removed OpenAI, using Cohere\n",
    "from langchain.chat_models import ChatCohere\n",
    "\n",
    "from langchain.schema.runnable import RunnablePassthrough\n",
    "\n",
    "# private configurations\n",
    "from config_private import (COHERE_API_KEY)"
   ]
  },
  {
   "cell_type": "markdown",
   "id": "b988c589-f06e-49f7-b23f-f70ab316e720",
   "metadata": {},
   "source": [
    "#### Loading the document: a set of local txt documents"
   ]
  },
  {
   "cell_type": "code",
   "execution_count": 2,
   "id": "0d5edf3f-17df-4963-82ef-d4297239dcb0",
   "metadata": {},
   "outputs": [],
   "source": [
    "LOCAL_DIR = \"./docs\"\n",
    "LOCAL_EXT = \"*.txt\"\n",
    "\n",
    "loader = DirectoryLoader(LOCAL_DIR, glob=LOCAL_EXT)\n",
    "\n",
    "data = loader.load()"
   ]
  },
  {
   "cell_type": "code",
   "execution_count": 3,
   "id": "20cf6fd5-f76f-48a1-83ff-a4da6f4c1353",
   "metadata": {},
   "outputs": [
    {
     "name": "stdout",
     "output_type": "stream",
     "text": [
      "We have loaded 5 documents...\n"
     ]
    }
   ],
   "source": [
    "print(f\"We have loaded {len(data)} documents...\")"
   ]
  },
  {
   "cell_type": "markdown",
   "id": "2fd8887b-0aff-45b8-9df2-ea904815ea26",
   "metadata": {},
   "source": [
    "#### Splitting the document in chunks"
   ]
  },
  {
   "cell_type": "code",
   "execution_count": 4,
   "id": "9f53344e-271e-4484-bd29-c95a02b35d53",
   "metadata": {},
   "outputs": [],
   "source": [
    "CHUNK_SIZE = 1024\n",
    "\n",
    "text_splitter = RecursiveCharacterTextSplitter(chunk_size=CHUNK_SIZE, chunk_overlap=0)\n",
    "\n",
    "splits = text_splitter.split_documents(data)"
   ]
  },
  {
   "cell_type": "code",
   "execution_count": 5,
   "id": "89b1b9f1-d375-4a68-b25a-633930c2462c",
   "metadata": {},
   "outputs": [
    {
     "name": "stdout",
     "output_type": "stream",
     "text": [
      "We have 18 splits...\n"
     ]
    }
   ],
   "source": [
    "print(f\"We have {len(splits)} splits...\")"
   ]
  },
  {
   "cell_type": "code",
   "execution_count": 6,
   "id": "f70cce26-c603-4532-8ab6-8c34fa4d857e",
   "metadata": {},
   "outputs": [
    {
     "data": {
      "text/plain": [
       "Document(page_content='quale riportano le seguenti strutture: \\uf0b7 Unità Organizzativa Servizi per il Personale PA Responsabile: Barbara Paci; Pag.', metadata={'source': 'docs/OdS_2020-4.txt'})"
      ]
     },
     "execution_count": 6,
     "metadata": {},
     "output_type": "execute_result"
    }
   ],
   "source": [
    "splits[1]"
   ]
  },
  {
   "cell_type": "markdown",
   "id": "2f495e86-85fa-4652-9928-7ba0d65553e6",
   "metadata": {},
   "source": [
    "#### Create Vector DB and embeddings"
   ]
  },
  {
   "cell_type": "code",
   "execution_count": 7,
   "id": "3a63cc21-2225-4e1f-8b3a-6ec41ca97d81",
   "metadata": {},
   "outputs": [],
   "source": [
    "# We have substituted OpenAI with HF\n",
    "EMBED_MODEL_NAME = \"sentence-transformers/all-mpnet-base-v2\"\n",
    "\n",
    "model_kwargs = {\"device\": \"cpu\"}\n",
    "encode_kwargs = {\"normalize_embeddings\": False}\n",
    "\n",
    "\n",
    "hf = HuggingFaceEmbeddings(\n",
    "    model_name=EMBED_MODEL_NAME, model_kwargs=model_kwargs, encode_kwargs=encode_kwargs\n",
    ")\n",
    "\n",
    "# using Chroma as Vector store\n",
    "vectorstore = Chroma.from_documents(documents=splits, embedding=hf)\n",
    "\n",
    "retriever = vectorstore.as_retriever()"
   ]
  },
  {
   "cell_type": "markdown",
   "id": "16aaa4a5-ba64-4222-a65c-d26e5395cd3f",
   "metadata": {},
   "source": [
    "#### Define the prompt structure"
   ]
  },
  {
   "cell_type": "code",
   "execution_count": 8,
   "id": "426d2dd3-ac41-4cb2-a975-b35ca482fb4b",
   "metadata": {},
   "outputs": [],
   "source": [
    "rag_prompt = hub.pull(\"rlm/rag-prompt\")"
   ]
  },
  {
   "cell_type": "markdown",
   "id": "2be2ef0b-f63b-4138-8bd9-5271e66ee926",
   "metadata": {},
   "source": [
    "#### Define the LLM"
   ]
  },
  {
   "cell_type": "code",
   "execution_count": 9,
   "id": "8d5f0d42-8203-4950-a5ca-8c051ff71b92",
   "metadata": {},
   "outputs": [],
   "source": [
    "API_KEY = COHERE_API_KEY\n",
    "\n",
    "LLM_NAME = \"command-nightly\"\n",
    "\n",
    "llm = ChatCohere(cohere_api_key=API_KEY, temperature=0.5, verbose=True, model=LLM_NAME)"
   ]
  },
  {
   "cell_type": "markdown",
   "id": "7ebe0dca-b88e-4c5f-9b03-25da1ed36cb2",
   "metadata": {},
   "source": [
    "#### Define the (Lang)Chain"
   ]
  },
  {
   "cell_type": "code",
   "execution_count": 10,
   "id": "6e93a1de-9939-4120-8910-66d735de7beb",
   "metadata": {},
   "outputs": [],
   "source": [
    "rag_chain = {\"context\": retriever, \"question\": RunnablePassthrough()} | rag_prompt | llm"
   ]
  },
  {
   "cell_type": "markdown",
   "id": "9fce71ae-50a8-418d-81ea-cea0a30d11cf",
   "metadata": {},
   "source": [
    "#### Process the question"
   ]
  },
  {
   "cell_type": "code",
   "execution_count": 11,
   "id": "58471072-65e1-4e85-8479-f05dd6be0d25",
   "metadata": {},
   "outputs": [],
   "source": [
    "QUESTION = (\n",
    "    \"\"\"Chi è il responsabile della Funzione RGS Sistemi ERP? Rispondi in italiano\"\"\"\n",
    ")"
   ]
  },
  {
   "cell_type": "code",
   "execution_count": 12,
   "id": "069689c8-4786-455b-aee0-91f1fc69e0e9",
   "metadata": {},
   "outputs": [
    {
     "name": "stdout",
     "output_type": "stream",
     "text": [
      "Gianna Caralla\n"
     ]
    }
   ],
   "source": [
    "response = rag_chain.invoke(QUESTION)\n",
    "\n",
    "print(response.content)"
   ]
  },
  {
   "cell_type": "markdown",
   "id": "9f93ffe1-3036-4251-9514-0c3cc240f224",
   "metadata": {},
   "source": [
    "#### Explore the vectore store"
   ]
  },
  {
   "cell_type": "code",
   "execution_count": 13,
   "id": "e055f1c4-27d9-465a-b0b4-278ad06bc67b",
   "metadata": {},
   "outputs": [
    {
     "data": {
      "text/plain": [
       "5"
      ]
     },
     "execution_count": 13,
     "metadata": {},
     "output_type": "execute_result"
    }
   ],
   "source": [
    "# Retrieve relevant splits for any question using similarity search.\n",
    "\n",
    "# This is simply \"top K\" retrieval where we select documents based on embedding similarity to the query.\n",
    "\n",
    "TOP_K = 5\n",
    "\n",
    "docs = vectorstore.similarity_search(QUESTION, k=TOP_K)\n",
    "\n",
    "len(docs)"
   ]
  },
  {
   "cell_type": "code",
   "execution_count": 14,
   "id": "2940dfc1-cc62-4778-a89d-81da8a466980",
   "metadata": {},
   "outputs": [
    {
     "name": "stdout",
     "output_type": "stream",
     "text": [
      "docs[0]:\n",
      "relazione con RGS, così come previsto nel relativo nuovo disciplinare. Andrea Quacivi Amministratore Delegato Firmato digitalmente TERMINE DI PUBBLICAZIONE: 23 luglio 2020\n",
      "docs[1]:\n",
      "La Funzione si articola nelle seguenti strutture:  Unità Organizzativa Plants Design & Service Development Responsabile: Paolo Piacente;  Unità Organizzativa Operation & Maintenance Responsabile: Paolo Franzese; La Direzione Cloud Data Center, la cui responsabilità è affidata a Luca Bargellini, cura lo sviluppo e l’evoluzione dell’infrastruttura tecnologica e di sicurezza per la realizzazione e l’erogazione dei servizi e delle soluzioni IT a supporto degli ecosistemi di business. La Direzione si articola in:  Funzione Change & Service Management, affidata a Giuseppe Spoto, assicura le attività di governo di change, release e configuration management. Pag. 3 di 5 La Funzione si articola nelle seguenti strutture:  Unità Organizzativa Change & Release Management Responsabile: Francesco Milone;  Unità Organizzativa Configuration Management Responsabile: Sebastiano Luciano;  Funzione Technical System Management, affidata a Luca Milanesi, assicura l’implementazione e il tuning dei sistemi hardware e software\n",
      "docs[2]:\n",
      "La Funzione si articola nelle seguenti strutture:  Unità Organizzativa System Management Responsabile: Giuseppe Antonuccio;  Unità Organizzativa Application Management Responsabile: Rita Rocchi;  Unità Organizzativa Database & ERP Management Responsabile: Bruno Russo;  Unità Organizzativa Technical System DAG e DT Responsabile: Gino Carucci;  Funzione Data Center Operation, affidata a Massimo Burchietti, assicura l’esercizio del Data Center nonché la Business Continuity. La Funzione si articola nelle seguenti strutture:  Unità Organizzativa First Line Support & Service Continuity Responsabile: Gianpaolo Buccini;  Unità Organizzativa IT Operation Management Responsabile: Maurizio Anelli;  Unità Organizzativa Physical Planning & Asset Management Responsabile: Silvana Rossi;  Funzione Cyber Defense, affidata a Giovanni Ciminari, assicura lo sviluppo e la manutenzione delle piattaforme, dei servizi e delle soluzioni di sicurezza. La Funzione si articola nelle seguenti strutture: Pag. 4 di 5  Unità\n",
      "docs[3]:\n",
      "Pag. 1 di 2 Sogei 23 giugno 2020 ORDINE DI SERVIZIO N. 4 Con decorrenza 1° luglio 2020, la Direzione Finanza Pubblica e altre Convenzioni, la cui responsabilità è affidata ad Alessandra Sbezzi, è rinominata Finanza Pubblica. La Direzione assume il seguente assetto organizzativo:  Funzione RGS Sistemi ERP, affidata a Gianna Caralla, alla quale riportano le seguenti strutture:  Unità Organizzativa Bilancio Finanziario Responsabile: Francesco Fabiani;  Unità Organizzativa Contabilità Responsabile: Antonella Latella;  Unità Organizzativa Sistemi di Monitoraggio e Vigilanza Responsabile: Grazia Varano;  Funzione RGS Sistemi Trasversali e Corte dei Conti, affidata a Tiziana Allegretti, alla quale riportano le seguenti strutture:  Unità Organizzativa Corte dei Conti Responsabile: Stefano Ferrari;  Unità Organizzativa Sistemi UE e IGIT Responsabile: Antonella Merola;  Unità Organizzativa Data Management Responsabile: Gianluca Ricco;  Funzione Servizi e Soluzioni per il DAG, affidata ad Andrea D’Amico, alla\n",
      "docs[4]:\n",
      "La Direzione Cloud Service & Architecture, la cui responsabilità è affidata a Paolino Iorio ad interim, cura lo sviluppo e l’innovazione delle architetture per la realizzazione dei servizi e delle soluzioni IT a supporto degli ecosistemi di business. Garantisce, altresì, lo sviluppo e l’evoluzione di piattaforme, siti, soluzioni e servizi trasversali per tutti i Clienti. La Direzione si articola in:  Funzione Customer Operation, affidata a Claudio Fele, assicura il governo e l’evoluzione delle piattaforme di CRM, dei siti informativi, istituzionali e di assistenza dei Clienti, nonché l’erogazione dei servizi di assistenza on site. La Funzione si articola nelle seguenti strutture:  Unità Organizzativa Customer Solution & Platform Responsabile: Claudio Fele ad interim;  Unità Organizzativa Customer & Citizen Relationship Management Responsabile: Claudia Bitti;  Unità Organizzativa Customer Support Responsabile: Antonino Russo;  Funzione Cross-service & Solution, affidata a Emilia Occhiuto, assicura il\n"
     ]
    }
   ],
   "source": [
    "for i in range(len(docs)):\n",
    "    print(f\"docs[{i}]:\")\n",
    "    print(docs[i].page_content)"
   ]
  },
  {
   "cell_type": "code",
   "execution_count": null,
   "id": "842d1d8a-2164-4d4d-a852-86c2ad9cbf72",
   "metadata": {},
   "outputs": [],
   "source": []
  },
  {
   "cell_type": "code",
   "execution_count": null,
   "id": "cf63c575-7983-4833-ae03-f7f63a3cca78",
   "metadata": {},
   "outputs": [],
   "source": []
  }
 ],
 "metadata": {
  "kernelspec": {
   "display_name": "Python 3 (ipykernel)",
   "language": "python",
   "name": "python3"
  },
  "language_info": {
   "codemirror_mode": {
    "name": "ipython",
    "version": 3
   },
   "file_extension": ".py",
   "mimetype": "text/x-python",
   "name": "python",
   "nbconvert_exporter": "python",
   "pygments_lexer": "ipython3",
   "version": "3.9.0"
  }
 },
 "nbformat": 4,
 "nbformat_minor": 5
}
