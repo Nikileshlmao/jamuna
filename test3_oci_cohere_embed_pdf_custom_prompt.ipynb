{
 "cells": [
  {
   "cell_type": "markdown",
   "id": "1b9f0b37-fbfe-4e59-ab32-da1c1afe3b00",
   "metadata": {},
   "source": [
    "## RAG using a pdf book\n",
    "* see: https://python.langchain.com/docs/use_cases/question_answering/\n",
    "* using Cohere embeddings\n",
    "* using a custom prompt"
   ]
  },
  {
   "cell_type": "code",
   "execution_count": 1,
   "id": "75812374-a9a1-4463-93a2-6dd6f352cb40",
   "metadata": {},
   "outputs": [],
   "source": [
    "# modified to load from Pdf\n",
    "from langchain.document_loaders import PyPDFLoader\n",
    "from langchain.text_splitter import RecursiveCharacterTextSplitter\n",
    "from langchain.prompts import PromptTemplate\n",
    "\n",
    "# two possible vector store\n",
    "from langchain.vectorstores import Chroma\n",
    "from langchain.vectorstores import FAISS\n",
    "\n",
    "# removed OpenAI, using Cohere embeddings\n",
    "from langchain.embeddings import CohereEmbeddings\n",
    "\n",
    "from langchain import hub\n",
    "\n",
    "# removed OpenAI, using OCI GenAI\n",
    "import oci\n",
    "\n",
    "# oci_llm is in a local file\n",
    "from oci_llm import OCIGenAILLM\n",
    "\n",
    "from langchain.schema.runnable import RunnablePassthrough\n",
    "\n",
    "# private configs\n",
    "from config_private import (COMPARTMENT_OCID, COHERE_API_KEY)"
   ]
  },
  {
   "cell_type": "code",
   "execution_count": 2,
   "id": "eaede75f-e609-4cc6-a077-259b3a439bc6",
   "metadata": {},
   "outputs": [],
   "source": [
    "# to enable some debugging\n",
    "DEBUG = False"
   ]
  },
  {
   "cell_type": "markdown",
   "id": "ab6cab57-15f4-413d-96cb-ea276a7a75be",
   "metadata": {},
   "source": [
    "#### Template for custom prompt"
   ]
  },
  {
   "cell_type": "code",
   "execution_count": 3,
   "id": "14850d24-f6a6-46ee-ac54-2e9deac1b8d9",
   "metadata": {},
   "outputs": [],
   "source": [
    "#this is the template for the prompt\n",
    "template = \"\"\"Use the following pieces of context to answer the question at the end. \n",
    "If you don't know the answer, just say that you don't know, don't try to make up an answer. \n",
    "Use five sentences maximum. \n",
    "Always say \"Thanks for asking!\" at the end of the answer. \n",
    "{context}\n",
    "Question: {question}\n",
    "Helpful Answer:\"\"\""
   ]
  },
  {
   "cell_type": "code",
   "execution_count": 4,
   "id": "79547220-85f9-4e02-9dbb-0a76717d684e",
   "metadata": {},
   "outputs": [],
   "source": [
    "# functions\n",
    "def get_answer(rag_chain, question):\n",
    "    response = rag_chain.invoke(question)\n",
    "\n",
    "    print(f\"Question: {question}\")\n",
    "    print()\n",
    "    print(\"The response:\")\n",
    "    print(response)\n",
    "    print()"
   ]
  },
  {
   "cell_type": "code",
   "execution_count": 5,
   "id": "ef483ade-2146-4218-8130-95abe1607a50",
   "metadata": {},
   "outputs": [],
   "source": [
    "# read OCI config to connect to OCI with API key\n",
    "CONFIG_PROFILE = \"DEFAULT\"\n",
    "config = oci.config.from_file(\"~/.oci/config\", CONFIG_PROFILE)\n",
    "\n",
    "# OCI GenAI endpoint (for now Chicago)\n",
    "ENDPOINT = \"https://generativeai.aiservice.us-chicago-1.oci.oraclecloud.com\"\n",
    "\n",
    "# check the config to access to api keys\n",
    "if DEBUG:\n",
    "    print(config)"
   ]
  },
  {
   "cell_type": "markdown",
   "id": "b988c589-f06e-49f7-b23f-f70ab316e720",
   "metadata": {},
   "source": [
    "#### Loading the document"
   ]
  },
  {
   "cell_type": "code",
   "execution_count": 6,
   "id": "0d5edf3f-17df-4963-82ef-d4297239dcb0",
   "metadata": {},
   "outputs": [],
   "source": [
    "# BLOG_POST = \"https://python.langchain.com/docs/get_started/introduction\"\n",
    "BOOK = \"./oracle-database-23c-new-features-guide.pdf\"\n",
    "\n",
    "loader = PyPDFLoader(BOOK)\n",
    "\n",
    "data = loader.load()"
   ]
  },
  {
   "cell_type": "markdown",
   "id": "2fd8887b-0aff-45b8-9df2-ea904815ea26",
   "metadata": {},
   "source": [
    "#### Splitting the document in chunks"
   ]
  },
  {
   "cell_type": "code",
   "execution_count": 7,
   "id": "9f53344e-271e-4484-bd29-c95a02b35d53",
   "metadata": {},
   "outputs": [],
   "source": [
    "CHUNK_SIZE = 2000\n",
    "CHUNK_OVERLAP = 100\n",
    "\n",
    "text_splitter = RecursiveCharacterTextSplitter(\n",
    "    chunk_size=CHUNK_SIZE, chunk_overlap=CHUNK_OVERLAP\n",
    ")\n",
    "\n",
    "splits = text_splitter.split_documents(data)"
   ]
  },
  {
   "cell_type": "code",
   "execution_count": 8,
   "id": "89b1b9f1-d375-4a68-b25a-633930c2462c",
   "metadata": {},
   "outputs": [
    {
     "name": "stdout",
     "output_type": "stream",
     "text": [
      "We have 143 splits...\n"
     ]
    }
   ],
   "source": [
    "print(f\"We have {len(splits)} splits...\")"
   ]
  },
  {
   "cell_type": "code",
   "execution_count": 9,
   "id": "0b35bb4e-44d8-4c48-bceb-c10873c93c4c",
   "metadata": {},
   "outputs": [],
   "source": [
    "# some post processing\n",
    "\n",
    "# replace \\n with blank\n",
    "for split in splits:\n",
    "    split.page_content = split.page_content.replace('\\n', ' ')"
   ]
  },
  {
   "cell_type": "code",
   "execution_count": 10,
   "id": "f70cce26-c603-4532-8ab6-8c34fa4d857e",
   "metadata": {},
   "outputs": [
    {
     "data": {
      "text/plain": [
       "'JSON Type Support for External Tables Support for access and direct-loading of JSON-type columns is provided for external tables. JSON data type is supported as a column type in the external table definition. Newline- delimited and JSON-array file options are supported, which facilitates importing JSON data from an external table. This feature makes it easier to load data into a JSON-type columns. Related Resources View Documentation JSON/JSON_VALUE will Convert PL/SQL Aggregate Type to/from JSON The PL/SQL JSON constructor is enhanced to accept an instance of a corresponding PL/SQL aggregate type, returning a JSON object or array type populated with the aggregate type data. The PL/SQL JSON_VALUE operator is enhanced so that its returning clause can accept a type name that defines the type of the instance that the operator is to return. JSON constructor support for aggregate data types streamlines data interchange between PL/SQL applications and languages that support JSON. Related Resources View Documentation JSON_ARRAY Constructor by Query A subquery can be used as an argument to SQL/JSON function JSON_ARRAY to define the array elements. This functionality is part of the SQL/JSON standard. This feature increases your developer productivity and higher interoperability with other SQL/ JSON standard-compliant solutions. Related Resources View Documentation JSON_EXPRESSION_CHECK Parameter A new parameter JSON_EXPRESSION_CHECK  allows to enable/disable a JSON query check. The values are on and off. The default is off. For now, this parameter is limited to JSON- relational duality views. An error is raised if a JSON path expression on a duality view does not match to an underlying column, for example if the path expression has a typo. The error is raised during query compilations. This simplifies working with JSON-relational duality views, as incorrect JSON path expressions do not need to be debugged at runtime but instead are flagged at query'"
      ]
     },
     "execution_count": 10,
     "metadata": {},
     "output_type": "execute_result"
    }
   ],
   "source": [
    "# have a look at a single split\n",
    "splits[20].page_content"
   ]
  },
  {
   "cell_type": "markdown",
   "id": "d4830653-e501-4dda-a26e-8faef61a0531",
   "metadata": {},
   "source": [
    "#### Embeddings and Vectore Store"
   ]
  },
  {
   "cell_type": "code",
   "execution_count": 11,
   "id": "3a63cc21-2225-4e1f-8b3a-6ec41ca97d81",
   "metadata": {},
   "outputs": [
    {
     "name": "stdout",
     "output_type": "stream",
     "text": [
      "CPU times: user 560 ms, sys: 74.6 ms, total: 635 ms\n",
      "Wall time: 4 s\n"
     ]
    }
   ],
   "source": [
    "%%time\n",
    "\n",
    "cohere = CohereEmbeddings(cohere_api_key=COHERE_API_KEY)\n",
    "\n",
    "# using Chroma or FAISS as Vector store\n",
    "vectorstore = Chroma.from_documents(documents=splits, embedding=cohere)\n",
    "# vectorstore = FAISS.from_documents(documents=splits, embedding=hf)\n",
    "\n",
    "retriever = vectorstore.as_retriever()"
   ]
  },
  {
   "cell_type": "markdown",
   "id": "16aaa4a5-ba64-4222-a65c-d26e5395cd3f",
   "metadata": {},
   "source": [
    "#### Define the prompt structure"
   ]
  },
  {
   "cell_type": "code",
   "execution_count": 12,
   "id": "426d2dd3-ac41-4cb2-a975-b35ca482fb4b",
   "metadata": {},
   "outputs": [],
   "source": [
    "rag_prompt_custom = PromptTemplate.from_template(template)"
   ]
  },
  {
   "cell_type": "markdown",
   "id": "2be2ef0b-f63b-4138-8bd9-5271e66ee926",
   "metadata": {},
   "source": [
    "#### Define the LLM: OCI GenAI"
   ]
  },
  {
   "cell_type": "code",
   "execution_count": 13,
   "id": "8d5f0d42-8203-4950-a5ca-8c051ff71b92",
   "metadata": {},
   "outputs": [],
   "source": [
    "# compartment OCID from config_private.py\n",
    "\n",
    "# using mostly defaults\n",
    "llm = OCIGenAILLM(\n",
    "    temperature=1.,\n",
    "    max_tokens=1500,\n",
    "    config=config,\n",
    "    compartment_id=COMPARTMENT_OCID,\n",
    "    endpoint=ENDPOINT,\n",
    "    debug=DEBUG,\n",
    ")"
   ]
  },
  {
   "cell_type": "markdown",
   "id": "7ebe0dca-b88e-4c5f-9b03-25da1ed36cb2",
   "metadata": {},
   "source": [
    "#### Define the (Lang)Chain"
   ]
  },
  {
   "cell_type": "code",
   "execution_count": 14,
   "id": "6e93a1de-9939-4120-8910-66d735de7beb",
   "metadata": {},
   "outputs": [],
   "source": [
    "rag_chain = {\"context\": retriever, \"question\": RunnablePassthrough()} | rag_prompt_custom | llm"
   ]
  },
  {
   "cell_type": "markdown",
   "id": "9fce71ae-50a8-418d-81ea-cea0a30d11cf",
   "metadata": {},
   "source": [
    "#### Process the question"
   ]
  },
  {
   "cell_type": "code",
   "execution_count": 15,
   "id": "a5562c9d-cc2a-4761-9625-1c62a45cf036",
   "metadata": {},
   "outputs": [],
   "source": [
    "# a list of possible questions\n",
    "QUESTION1 = \"What is the best architecture for an LLM?\"\n",
    "QUESTION2 = \"What is LangChain?\"\n",
    "QUESTION3 = \"Make a list of database 23c innovations in AI\"\n",
    "QUESTION4 = \"List the new features in Oracle Database 23c\"\n",
    "QUESTION5 = \"Are there features related to Time Series in Oracle Database 23c?\"\n",
    "QUESTION6 = \"Are there features related to Machine Learning in Oracle Database 23c?\""
   ]
  },
  {
   "cell_type": "code",
   "execution_count": 16,
   "id": "069689c8-4786-455b-aee0-91f1fc69e0e9",
   "metadata": {},
   "outputs": [
    {
     "name": "stdout",
     "output_type": "stream",
     "text": [
      "Question: List the new features in Oracle Database 23c\n",
      "\n",
      "The response:\n",
      " Oracle Database 23c has a lot of new features. Some of the most notable include:\n",
      "\n",
      "1. JSON-Relational Duality: This feature allows developers to access and update data as either JSON documents or relational tables, providing a simpler and more powerful solution than Object Relational Mapping (ORM).\n",
      "\n",
      "2. Operational Property Graphs in SQL: This feature allows developers to build real-time graph analysis applications against operational data directly in the Oracle Database, utilizing its industry-leading security, high availability, and performance capabilities.\n",
      "\n",
      "3. Microservice Support: This feature makes it simpler to implement cross-service transactions, providing a more comprehensive support for microservices.\n",
      "\n",
      "4. Lock-Free Column Value Reservations: This feature allows applications to reserve part of a value in a column without locking the row, improving performance and reducing the risk of conflicts.\n",
      "\n",
      "5. Pluggable Database Support in Oracle Data Guard Environments: This feature allows for the creation and management of pluggable databases in Oracle Data Guard environments, providing a more flexible and scalable solution for managing data.\n",
      "\n",
      "These are just a few of the new features in Oracle Database 23c. There are many more, including improvements to performance, security, and manageability. Thanks for asking!\n",
      "\n",
      "CPU times: user 95.9 ms, sys: 10.5 ms, total: 106 ms\n",
      "Wall time: 9.91 s\n"
     ]
    }
   ],
   "source": [
    "%%time\n",
    "\n",
    "# the question\n",
    "get_answer(rag_chain, question=QUESTION4)"
   ]
  },
  {
   "cell_type": "code",
   "execution_count": 17,
   "id": "3c8d730d-dd1b-4ee7-b2f0-1bdd60a9cf1e",
   "metadata": {},
   "outputs": [
    {
     "name": "stdout",
     "output_type": "stream",
     "text": [
      "Question: Are there features related to Time Series in Oracle Database 23c?\n",
      "\n",
      "The response:\n",
      " Yes, there are several features related to Time Series in Oracle Database 23c. Here are some of them:\n",
      "\n",
      "- Automatic In-Memory Sizing for Autonomous Databases: This feature automatically adjusts the size of the in-memory area based on the workload and available memory.\n",
      "\n",
      "- In-Memory RAC-Level Global Dictionary: This feature maintains a global dictionary of in-memory structures across all nodes in a RAC cluster, allowing for faster lookups and improved performance.\n",
      "\n",
      "- Vectorized Query Processing: This feature enables the use of vectorized processing, which can speed up certain types of queries by processing multiple rows at once.\n",
      "\n",
      "- Machine Learning Enhancements: Oracle Database 23c includes several enhancements to its machine learning capabilities, including improved data prep for high cardinality categorical features, lineage tracking, and support for XGBoost.\n",
      "\n",
      "- Time Series Model Search: This feature allows for the automatic search and selection of time series models based on the data provided.\n",
      "\n",
      "- Partitioned Model Performance Improvement: This feature improves the performance of partitioned models, which can be useful for time series data.\n",
      "\n",
      "- Outlier Detection using Expectation Maximization (EM) Clustering: This feature enables the detection of outliers in time series data using EM clustering.\n",
      "\n",
      "- Multiple Time Series: This feature allows for the analysis of multiple time series at once, which can be useful for time series data with complex relationships.\n",
      "\n",
      "- Transportable Binary XML: This feature allows for the transport of binary XML data, which can be useful for time series data with complex structures.\n",
      "\n",
      "These features and others in Oracle Database 23c can help organizations manage and analyze time series data more effectively.\n",
      "\n",
      "CPU times: user 51.6 ms, sys: 7.91 ms, total: 59.5 ms\n",
      "Wall time: 11.3 s\n"
     ]
    }
   ],
   "source": [
    "%%time\n",
    "\n",
    "# the question\n",
    "get_answer(rag_chain, question=QUESTION5)"
   ]
  },
  {
   "cell_type": "code",
   "execution_count": 18,
   "id": "98885a05-0118-4514-90ac-f1912dbe5187",
   "metadata": {},
   "outputs": [
    {
     "name": "stdout",
     "output_type": "stream",
     "text": [
      "Question: Are there features related to Machine Learning in Oracle Database 23c?\n",
      "\n",
      "The response:\n",
      " Yes, there are several features related to Machine Learning in Oracle Database 23c. Some of the key features include:\n",
      "\n",
      "- **Enhanced support for machine learning models**: Oracle Database 23c provides enhanced support for machine learning models, including support for more complex models, improved performance, and the ability to easily manage and deploy models.\n",
      "\n",
      "- **Improved data preparation for high-cardinality categorical features**: Oracle Database 23c includes improved data preparation capabilities for high-cardinality categorical features, which can improve the performance of machine learning models.\n",
      "\n",
      "- **Lineage**: Oracle Database 23c includes lineage features that allow users to track the history of machine learning models and the data used to train them, which can help with model management and regulatory compliance.\n",
      "\n",
      "- **Multiple time series**: Oracle Database 23c supports the analysis of multiple time series, which can be useful for forecasting and trend analysis.\n",
      "\n",
      "- **Outlier detection using expectation maximization (EM) clustering**: Oracle Database 23c includes outlier detection using EM clustering, which can help identify data points that deviate significantly from the expected distribution.\n",
      "\n",
      "- **XGBoost support for constraints and survival analysis**: Oracle Database 23c includes XGBoost support for constraints and survival analysis, which can improve the performance and accuracy of machine learning models.\n",
      "\n",
      "- **Vectorized query processing**: Oracle Database 23c supports vectorized query processing, which can speed up machine learning-related queries and improve performance.\n",
      "\n",
      "- **Automated time series model search**: Oracle Database 23c includes automated time series model search, which can help users find the best model for their data and improve the accuracy of forecasts.\n",
      "\n",
      "- **Explicit semantic analysis support for dense projection with embeddings**: Oracle Database 23c includes explicit semantic analysis support for dense projection with embeddings, which can improve the performance and accuracy of machine learning models.\n",
      "\n",
      "- **GLM link functions**: Oracle Database 23c includes GLM link functions, which can improve the performance and accuracy of machine learning models.\n",
      "\n",
      "- **Data Query Persisted with Model**: Oracle Database 23c includes the ability to persist data queries with machine learning models, which can improve the performance and accuracy of machine learning models.\n",
      "\n",
      "These features can help users to more easily and effectively integrate machine learning into their applications and data analysis workflows. Thanks for asking!\n",
      "\n",
      "CPU times: user 57.3 ms, sys: 9.31 ms, total: 66.6 ms\n",
      "Wall time: 15.2 s\n"
     ]
    }
   ],
   "source": [
    "%%time\n",
    "\n",
    "# the question\n",
    "get_answer(rag_chain, question=QUESTION6)"
   ]
  },
  {
   "cell_type": "markdown",
   "id": "9f93ffe1-3036-4251-9514-0c3cc240f224",
   "metadata": {},
   "source": [
    "#### Explore the vectore store"
   ]
  },
  {
   "cell_type": "code",
   "execution_count": 19,
   "id": "e055f1c4-27d9-465a-b0b4-278ad06bc67b",
   "metadata": {},
   "outputs": [
    {
     "data": {
      "text/plain": [
       "5"
      ]
     },
     "execution_count": 19,
     "metadata": {},
     "output_type": "execute_result"
    }
   ],
   "source": [
    "# Retrieve relevant splits for any question using similarity search.\n",
    "\n",
    "# This is simply \"top K\" retrieval where we select documents based on embedding similarity to the query.\n",
    "\n",
    "TOP_K = 5\n",
    "\n",
    "docs = vectorstore.similarity_search(QUESTION5, k=TOP_K)\n",
    "\n",
    "len(docs)"
   ]
  },
  {
   "cell_type": "code",
   "execution_count": 20,
   "id": "2940dfc1-cc62-4778-a89d-81da8a466980",
   "metadata": {},
   "outputs": [
    {
     "name": "stdout",
     "output_type": "stream",
     "text": [
      "chunk n. 1\n",
      "Oracle® Database Oracle Database New Features Release 23c F48428-15 October 2023\n",
      "\n",
      "chunk n. 2\n",
      "1 Introduction Oracle Database 23c is the next long term support release of Oracle Database. Oracle Database 23c, code named “App Simple,”  accelerates Oracle's mission to make it simple to develop and run all data-driven applications. It's the sum of all the features from the Oracle Database 21c innovation release plus over 300 new features and enhancements. Key focus areas include JSON, graph, microservices, and developer productivity. Note: For information about desupported features, see Oracle Database Changes, Desupports, and Deprecations. JSON Relational Duality Data can be transparently accessed and updated as either JSON documents or relational tables. Developers benefit from the strengths of both, which are simpler and more powerful than Object Relational Mapping (ORM). See JSON-Relational Duality . Operational Property Graphs in SQL Developers can now build real-time graph analysis applications against operational data directly in the Oracle Database, utilizing its industry leading security, high availability and performance capabilities. See Support for the ISO/IEC SQL Property Graph Queries (SQL/PGQ) Standard . Microservice Support Alongside Oracle’s already comprehensive support for microservices, new functionality makes it simpler to implement cross-service transactions. See Microservices . Lock-Free Column Value Reservations Lock-free column value reservations allow applications to reserve part of a value in a column without locking the row; for example, reserve part of a bank account balance or reserve an item in inventory without locking out all other operations on the bank account or item. See Lock-Free Reservations . 1-1\n",
      "\n",
      "chunk n. 3\n",
      "Spatial 3-11 Spatial: 3D Models and Analytics 3-11 Spatial: REST APIs for GeoRaster 3-11 Workspace Manager: Improved Security when using Oracle Workspace Manager 3-11 4   Data Warehousing/Big Data General 4-1 Enhanced Partitioning Metadata 4-1 Extended Language Support in Oracle Text 4-1 External Table Partition Values in the File Path 4-1 Logical Partition Change Tracking for Materialized View Refresh and Staleness Tracking 4-2 Staging Tables 4-2 5   Cloud Migration General 5-1 Classic Queue to Transactional Event Queues (TxEventQ) Online Migration Tool 5-1 Cloud Premigration Advisor Tool for Source Database Migrations to Other Oracle Databases 5-1 6   Cloud Operations Manageability 6-1 Hybrid Read-Only Mode for Pluggable Databases 6-1 Real-Time SQL Monitoring Enhancements 6-1 Control PDB Open Order 6-1 ODP.NET: Centralized Config Providers 6-2 Optimized Performance for Parallel File System Operations 6-2 Read-Only Users and Sessions 6-2 Continuous Availability 6-3 Enhanced Upgrade of Time Zone Data 6-3 Optimized Read-Write Operations for Database Processes 6-3 Support for the Coexistence of DGPDB and GoldenGate Capture 6-3 General 6-4 Adaptive Result Cache Object Exclusion 6-4 Diagnose and Repair SQL Exceptions Automatically at Compile-Time 6-4 Read-Only Tablespace on Object Storage 6-4 SYSDATE and SYSTIMESTAMP Reflect PDB Time Zone 6-4 Unified Memory 6-5 vii\n",
      "\n",
      "chunk n. 4\n",
      "Precompiler Support for SQL BOOLEAN Data Type 2-27 UCP Asynchronous Extension 2-28 UCP Support for Self-Driven Diagnosability 2-28 3   Data Analytics General 3-1 Hybrid Partitioned Tables with Interval and Auto-List Partitioning 3-1 Data Quality Operators in Oracle Database 3-1 Automatic Data Clustering 3-1 Extended Support and Faster Performance for JSON Materialized Views 3-2 Oracle SQL Access to Kafka 3-2 SQL 3-2 Text Indexes with Automatic Maintenance 3-2 Transportable Binary XML 3-3 Concurrent Materialized View Refresh for on-commit 3-3 Enhanced Automatic Indexing 3-3 Enhanced Automatic Materialized Views 3-4 Enhanced Automatic SQL Plan Management 3-4 Enhanced LOB Support for Distributed and Sharded Environments 3-4 Enhanced Parallel Processing Resources Management 3-5 Increased Maximum Size of Inline LOBs of 8000 Bytes 3-5 Materialized View Support for ANSI Joins 3-5 Read-Only Value LOBs 3-5 Semi-Join Materialized Views 3-6 Ubiquitous Search With DBMS_SEARCH Packages 3-6 In-Memory 3-7 Automatic In-Memory Enhancements for Improving Column Store Performance 3-7 Automatic In-Memory Sizing for Autonomous Databases 3-7 In-Memory RAC-Level Global Dictionary 3-7 Vectorized Query Processing: Multi-Level Joins and Aggregations 3-8 Machine Learning - Enhancements 3-8 Automated Time Series Model Search 3-8 Explicit Semantic Analysis Support for Dense Projection with Embeddings 3-8 GLM Link Functions 3-9 Improved Data Prep for High Cardinality Categorical Features 3-9 Lineage: Data Query Persisted with Model 3-9 Multiple Time Series 3-9 Outlier Detection using Expectation Maximization (EM) Clustering 3-10 Partitioned Model Performance Improvement 3-10 XGBoost Support for Constraints and for Survival Analysis 3-10 vi\n",
      "\n",
      "chunk n. 5\n",
      "Add and Drop User Columns in Blockchain and Immutable Tables 9-7 Blockchain Table Countersignature 9-8 Blockchain Table Delegate Signer 9-8 New Special Privilege Required to Set Long Idle Retention Times for Blockchain and Immutable Tables 9-8 Database Architecture 9-9 Lock-Free Reservations 9-9 Wide Tables 9-9 Consolidated Service Backgrounds for Oracle Instance 9-9 Improve Performance and Disk Utilization for Hybrid Columnar Compression 9-9 Unrestricted Direct Loads 9-10 General 9-10 Unrestricted Parallel DMLs 9-10 ACFS Auto Resize Variable Threshold 9-10 ACFS Cross Version Replication 9-11 ACFS Encryption Migration from OCR to OKV 9-11 ACFS Replication Switchover 9-11 ACFS Snapshots RMAN Sparse Backup and Restore 9-11 ACFS Sparse Backup and Restore of Snapshots 9-11 ACFSutil plogconfig Log Files Wrapping Info 9-12 CEIL and FLOOR for DATE, TIMESTAMP, and INTERVAL Data Types 9-12 Centralized Config Providers 9-12 Oracle Data Pump Filters GoldenGate ACDR Columns from Tables 9-12 PDB Snapshot Carousel ACFS Support 9-13 SQL*Loader Supports SODA (Simple Oracle Document Access) 9-13 Manageability and Performance 9-13 Advanced LOW IOT Compression 9-13 Automatic SecureFiles Shrink for Autonomous Database 9-13 Automatic Storage Compression 9-14 Enhanced Query History Tracking and Reporting 9-14 Fast Ingest (Memoptimize for Write) Enhancements 9-14 Improved Performance of LOB Writes 9-15 Improved System Monitor (SMON) Process Scalability 9-15 Pluggable Database Support in Oracle Data Guard Environments 9-15 Refreshable PDBs in DBCA 9-16 10    Diagnosability General 10-1 Cluster Health Monitor Improved Diagnosability 10-1 Enhanced Cluster Health Advisor Support for Oracle Pluggable Databases 10-1 Reduce Time to Resolve 10-1 x\n",
      "\n"
     ]
    }
   ],
   "source": [
    "for i, doc in enumerate(docs):\n",
    "    print(f\"chunk n. {i+1}\")\n",
    "    print(doc.page_content)\n",
    "    print()"
   ]
  },
  {
   "cell_type": "code",
   "execution_count": null,
   "id": "d452bd3e-2721-4cc8-892e-4f520b76b7a8",
   "metadata": {},
   "outputs": [],
   "source": []
  },
  {
   "cell_type": "code",
   "execution_count": null,
   "id": "228be3c9-9c7b-4501-a2fe-656cdefd0a66",
   "metadata": {},
   "outputs": [],
   "source": []
  }
 ],
 "metadata": {
  "kernelspec": {
   "display_name": "Python 3 (ipykernel)",
   "language": "python",
   "name": "python3"
  },
  "language_info": {
   "codemirror_mode": {
    "name": "ipython",
    "version": 3
   },
   "file_extension": ".py",
   "mimetype": "text/x-python",
   "name": "python",
   "nbconvert_exporter": "python",
   "pygments_lexer": "ipython3",
   "version": "3.9.0"
  }
 },
 "nbformat": 4,
 "nbformat_minor": 5
}
