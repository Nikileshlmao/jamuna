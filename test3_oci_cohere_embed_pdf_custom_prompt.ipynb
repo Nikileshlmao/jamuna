{
 "cells": [
  {
   "cell_type": "markdown",
   "id": "1b9f0b37-fbfe-4e59-ab32-da1c1afe3b00",
   "metadata": {},
   "source": [
    "## RAG using a pdf book\n",
    "* see: https://python.langchain.com/docs/use_cases/question_answering/\n",
    "* using Cohere embeddings\n",
    "* using a custom prompt"
   ]
  },
  {
   "cell_type": "code",
   "execution_count": 1,
   "id": "75812374-a9a1-4463-93a2-6dd6f352cb40",
   "metadata": {},
   "outputs": [],
   "source": [
    "# modified to load from Pdf\n",
    "from langchain.document_loaders import PyPDFLoader\n",
    "from langchain.text_splitter import RecursiveCharacterTextSplitter\n",
    "from langchain.prompts import PromptTemplate\n",
    "\n",
    "# two possible vector store\n",
    "from langchain.vectorstores import Chroma\n",
    "from langchain.vectorstores import FAISS\n",
    "\n",
    "# removed OpenAI, using Cohere embeddings\n",
    "from langchain.embeddings import CohereEmbeddings\n",
    "\n",
    "from langchain import hub\n",
    "\n",
    "# removed OpenAI, using OCI GenAI\n",
    "from oci.config import from_file\n",
    "\n",
    "# oci_llm is in a local file\n",
    "from oci_llm import OCIGenAILLM\n",
    "\n",
    "from langchain.schema.runnable import RunnablePassthrough\n",
    "\n",
    "# private configs\n",
    "from config_private import COMPARTMENT_OCID, COHERE_API_KEY"
   ]
  },
  {
   "cell_type": "code",
   "execution_count": 2,
   "id": "eaede75f-e609-4cc6-a077-259b3a439bc6",
   "metadata": {},
   "outputs": [],
   "source": [
    "# to enable some debugging\n",
    "DEBUG = False"
   ]
  },
  {
   "cell_type": "markdown",
   "id": "ab6cab57-15f4-413d-96cb-ea276a7a75be",
   "metadata": {},
   "source": [
    "#### Template for custom prompt"
   ]
  },
  {
   "cell_type": "code",
   "execution_count": 3,
   "id": "14850d24-f6a6-46ee-ac54-2e9deac1b8d9",
   "metadata": {},
   "outputs": [],
   "source": [
    "# this is the template for the prompt\n",
    "template = \"\"\"Use the following pieces of context to answer the question at the end. \n",
    "If you don't know the answer, just say that you don't know, don't try to make up an answer. \n",
    "Use five sentences maximum. \n",
    "Always say \"Thanks for asking!\" at the end of the answer. \n",
    "{context}\n",
    "Question: {question}\n",
    "Helpful Answer:\"\"\""
   ]
  },
  {
   "cell_type": "code",
   "execution_count": 4,
   "id": "79547220-85f9-4e02-9dbb-0a76717d684e",
   "metadata": {},
   "outputs": [],
   "source": [
    "# functions\n",
    "def get_answer(rag_chain, question):\n",
    "    response = rag_chain.invoke(question)\n",
    "\n",
    "    print(f\"Question: {question}\")\n",
    "    print()\n",
    "    print(\"The response:\")\n",
    "    print(response)\n",
    "    print()"
   ]
  },
  {
   "cell_type": "code",
   "execution_count": 5,
   "id": "ef483ade-2146-4218-8130-95abe1607a50",
   "metadata": {},
   "outputs": [],
   "source": [
    "# read OCI config to connect to OCI with API key\n",
    "CONFIG_PROFILE = \"DEFAULT\"\n",
    "config = from_file(\"~/.oci/config\", CONFIG_PROFILE)\n",
    "\n",
    "# OCI GenAI endpoint (for now Chicago)\n",
    "ENDPOINT = \"https://generativeai.aiservice.us-chicago-1.oci.oraclecloud.com\"\n",
    "\n",
    "# check the config to access to api keys\n",
    "if DEBUG:\n",
    "    print(config)"
   ]
  },
  {
   "cell_type": "markdown",
   "id": "b988c589-f06e-49f7-b23f-f70ab316e720",
   "metadata": {},
   "source": [
    "#### Loading the document"
   ]
  },
  {
   "cell_type": "code",
   "execution_count": 6,
   "id": "0d5edf3f-17df-4963-82ef-d4297239dcb0",
   "metadata": {},
   "outputs": [],
   "source": [
    "# BLOG_POST = \"https://python.langchain.com/docs/get_started/introduction\"\n",
    "BOOK = \"./oracle-database-23c-new-features-guide.pdf\"\n",
    "\n",
    "loader = PyPDFLoader(BOOK)\n",
    "\n",
    "data = loader.load()"
   ]
  },
  {
   "cell_type": "markdown",
   "id": "2fd8887b-0aff-45b8-9df2-ea904815ea26",
   "metadata": {},
   "source": [
    "#### Splitting the document in chunks"
   ]
  },
  {
   "cell_type": "code",
   "execution_count": 7,
   "id": "9f53344e-271e-4484-bd29-c95a02b35d53",
   "metadata": {},
   "outputs": [],
   "source": [
    "CHUNK_SIZE = 2000\n",
    "CHUNK_OVERLAP = 100\n",
    "\n",
    "text_splitter = RecursiveCharacterTextSplitter(\n",
    "    chunk_size=CHUNK_SIZE, chunk_overlap=CHUNK_OVERLAP\n",
    ")\n",
    "\n",
    "splits = text_splitter.split_documents(data)"
   ]
  },
  {
   "cell_type": "code",
   "execution_count": 8,
   "id": "89b1b9f1-d375-4a68-b25a-633930c2462c",
   "metadata": {},
   "outputs": [
    {
     "name": "stdout",
     "output_type": "stream",
     "text": [
      "We have splitted the pdf in 143 splits...\n"
     ]
    }
   ],
   "source": [
    "print(f\"We have splitted the pdf in {len(splits)} splits...\")"
   ]
  },
  {
   "cell_type": "code",
   "execution_count": 9,
   "id": "0b35bb4e-44d8-4c48-bceb-c10873c93c4c",
   "metadata": {},
   "outputs": [],
   "source": [
    "# some post processing\n",
    "\n",
    "# replace \\n with blank\n",
    "for split in splits:\n",
    "    split.page_content = split.page_content.replace(\"\\n\", \" \")"
   ]
  },
  {
   "cell_type": "code",
   "execution_count": 10,
   "id": "f70cce26-c603-4532-8ab6-8c34fa4d857e",
   "metadata": {},
   "outputs": [
    {
     "data": {
      "text/plain": [
       "'JSON Type Support for External Tables Support for access and direct-loading of JSON-type columns is provided for external tables. JSON data type is supported as a column type in the external table definition. Newline- delimited and JSON-array file options are supported, which facilitates importing JSON data from an external table. This feature makes it easier to load data into a JSON-type columns. Related Resources View Documentation JSON/JSON_VALUE will Convert PL/SQL Aggregate Type to/from JSON The PL/SQL JSON constructor is enhanced to accept an instance of a corresponding PL/SQL aggregate type, returning a JSON object or array type populated with the aggregate type data. The PL/SQL JSON_VALUE operator is enhanced so that its returning clause can accept a type name that defines the type of the instance that the operator is to return. JSON constructor support for aggregate data types streamlines data interchange between PL/SQL applications and languages that support JSON. Related Resources View Documentation JSON_ARRAY Constructor by Query A subquery can be used as an argument to SQL/JSON function JSON_ARRAY to define the array elements. This functionality is part of the SQL/JSON standard. This feature increases your developer productivity and higher interoperability with other SQL/ JSON standard-compliant solutions. Related Resources View Documentation JSON_EXPRESSION_CHECK Parameter A new parameter JSON_EXPRESSION_CHECK  allows to enable/disable a JSON query check. The values are on and off. The default is off. For now, this parameter is limited to JSON- relational duality views. An error is raised if a JSON path expression on a duality view does not match to an underlying column, for example if the path expression has a typo. The error is raised during query compilations. This simplifies working with JSON-relational duality views, as incorrect JSON path expressions do not need to be debugged at runtime but instead are flagged at query'"
      ]
     },
     "execution_count": 10,
     "metadata": {},
     "output_type": "execute_result"
    }
   ],
   "source": [
    "# have a look at a single split\n",
    "splits[20].page_content"
   ]
  },
  {
   "cell_type": "markdown",
   "id": "d4830653-e501-4dda-a26e-8faef61a0531",
   "metadata": {},
   "source": [
    "#### Embeddings and Vectore Store"
   ]
  },
  {
   "cell_type": "code",
   "execution_count": 11,
   "id": "3a63cc21-2225-4e1f-8b3a-6ec41ca97d81",
   "metadata": {},
   "outputs": [
    {
     "name": "stdout",
     "output_type": "stream",
     "text": [
      "CPU times: user 541 ms, sys: 89.5 ms, total: 630 ms\n",
      "Wall time: 2.4 s\n"
     ]
    }
   ],
   "source": [
    "%%time\n",
    "\n",
    "cohere = CohereEmbeddings(cohere_api_key=COHERE_API_KEY)\n",
    "\n",
    "# using Chroma or FAISS as Vector store\n",
    "vectorstore = Chroma.from_documents(documents=splits, embedding=cohere)\n",
    "# vectorstore = FAISS.from_documents(documents=splits, embedding=hf)\n",
    "\n",
    "retriever = vectorstore.as_retriever()"
   ]
  },
  {
   "cell_type": "markdown",
   "id": "16aaa4a5-ba64-4222-a65c-d26e5395cd3f",
   "metadata": {},
   "source": [
    "#### Define the prompt structure"
   ]
  },
  {
   "cell_type": "code",
   "execution_count": 12,
   "id": "426d2dd3-ac41-4cb2-a975-b35ca482fb4b",
   "metadata": {},
   "outputs": [],
   "source": [
    "rag_prompt_custom = PromptTemplate.from_template(template)"
   ]
  },
  {
   "cell_type": "markdown",
   "id": "2be2ef0b-f63b-4138-8bd9-5271e66ee926",
   "metadata": {},
   "source": [
    "#### Define the LLM: OCI GenAI"
   ]
  },
  {
   "cell_type": "code",
   "execution_count": 13,
   "id": "8d5f0d42-8203-4950-a5ca-8c051ff71b92",
   "metadata": {},
   "outputs": [],
   "source": [
    "# compartment OCID from config_private.py\n",
    "\n",
    "# using mostly defaults\n",
    "llm = OCIGenAILLM(\n",
    "    temperature=1.0,\n",
    "    max_tokens=1500,\n",
    "    config=config,\n",
    "    compartment_id=COMPARTMENT_OCID,\n",
    "    endpoint=ENDPOINT,\n",
    "    debug=DEBUG,\n",
    ")"
   ]
  },
  {
   "cell_type": "markdown",
   "id": "7ebe0dca-b88e-4c5f-9b03-25da1ed36cb2",
   "metadata": {},
   "source": [
    "#### Define the (Lang)Chain"
   ]
  },
  {
   "cell_type": "code",
   "execution_count": 14,
   "id": "6e93a1de-9939-4120-8910-66d735de7beb",
   "metadata": {},
   "outputs": [],
   "source": [
    "rag_chain = (\n",
    "    {\"context\": retriever, \"question\": RunnablePassthrough()} | rag_prompt_custom | llm\n",
    ")"
   ]
  },
  {
   "cell_type": "markdown",
   "id": "9fce71ae-50a8-418d-81ea-cea0a30d11cf",
   "metadata": {},
   "source": [
    "#### Process the question"
   ]
  },
  {
   "cell_type": "code",
   "execution_count": 15,
   "id": "a5562c9d-cc2a-4761-9625-1c62a45cf036",
   "metadata": {},
   "outputs": [],
   "source": [
    "# a list of possible questions\n",
    "QUESTION1 = \"What is the best architecture for an LLM?\"\n",
    "QUESTION2 = \"What is LangChain?\"\n",
    "QUESTION3 = \"Make a list of database 23c innovations in AI\"\n",
    "QUESTION4 = \"List the new features in Oracle Database 23c\"\n",
    "QUESTION6 = \"Are there features related to Machine Learning in Oracle Database 23c?\""
   ]
  },
  {
   "cell_type": "code",
   "execution_count": 21,
   "id": "069689c8-4786-455b-aee0-91f1fc69e0e9",
   "metadata": {},
   "outputs": [
    {
     "name": "stdout",
     "output_type": "stream",
     "text": [
      "Question: List the new features in Oracle Database 23c\n",
      "\n",
      "The response:\n",
      " There are over 300 new features and enhancements in Oracle Database 23c. Here are some of the key features:\n",
      "- JSON Relational Duality: Data can be accessed and updated as either JSON documents or relational tables.\n",
      "- Operational Property Graphs in SQL: Developers can now build real-time graph analysis applications against operational data directly in the Oracle Database.\n",
      "- Microservice Support: New functionality makes it simpler to implement cross-service transactions.\n",
      "- Lock-Free Column Value Reservations: Lock-free column value reservations allow applications to reserve part of a value in a column without locking the row.\n",
      "- Add and Drop User Columns in Blockchain and Immutable Tables: You can now add and drop user columns in blockchain and immutable tables.\n",
      "- Blockchain Table Countersignature: You can now add countersignatures to blockchain tables.\n",
      "- Blockchain Table Delegate Signer: You can now add a delegate signer to blockchain tables.\n",
      "- New Special Privilege Required to Set Long Idle Retention Times for Blockchain and Immutable Tables: A new special privilege is required to set long idle retention times for blockchain and immutable tables.\n",
      "- Database Architecture: The database architecture has been updated to support new features and improve performance.\n",
      "- Lock-Free Reservations: Lock-free reservations allow applications to reserve resources without locking out other operations.\n",
      "- Wide Tables: Wide tables are new in Oracle Database 23c, and they allow for better compression and performance of large datasets.\n",
      "- Consolidated Service Backgrounds for Oracle Instance: Consolidated service backgrounds for the Oracle instance improve performance and disk utilization.\n",
      "- Improve Performance and Disk Utilization for Hybrid Columnar Compression: Hybrid columnar compression is now more efficient, reducing the size of compressed data and improving performance.\n",
      "- Unrestricted Direct Loads: Unrestricted direct loads allow you to load data directly into a table without having to use a staging table.\n",
      "- General: There are many general improvements and enhancements in Oracle Database 23c, including improved diagnosability, performance, and manageability.\n",
      "- Pluggable Database Support in Oracle Data Guard Environments: Pluggable databases can now be used in Oracle Data Guard environments, allowing for easier management and maintenance of databases.\n",
      "- Refreshable PDBs in DBCA: Refreshable pluggable databases can now be created using the DBCA tool, making it easier to refresh PDBs with new data.\n",
      "- In-Memory Advisor: The In-Memory Advisor is a new feature in Oracle Database 23c that helps you determine the best way to store data in memory, based on your workload and usage patterns.\n",
      "- Rename LOB Segment: You can now rename large object (LOB) segments, allowing for easier management and maintenance of LOB data.\n",
      "- Selective In-Memory Columns: You can now select specific columns to store in memory, allowing for better performance and memory management.\n",
      "- Extent-Based Scrubbing: Extent-based scrubbing is a new feature in Oracle Database 23c that helps improve the performance and integrity of your data.\n",
      "- High Availability Diagnosability Using the DBMS_SCHEDULER Package: A new feature in Oracle Database 23c allows you to diagnose high availability issues using the DBMS_SCHEDULER package.\n",
      "- Oracle Call Interface (OCI) APIs to Enable Client-Side Tracing: A new set of Oracle Call Interface (OCI) APIs allows you to enable client-side tracing, which can help you diagnose issues with your applications and database.\n",
      "- CMAN Diagnostics and Logging Enhancements: There are several CMAN diagnostics and logging enhancements in Oracle Database 23c, including improved error handling and logging for autonomous databases.\n",
      "- DBMS_DICTIONARY_CHECK PL/SQL Package: The DBMS_DICTIONARY_CHECK PL/SQL package is a new feature in Oracle Database 23c that helps you check the consistency of your dictionary and ensure that it is up to date.\n",
      "- Estimate the Space Saved with Deduplication: You can now estimate the space saved with deduplication, which is a new feature in Oracle Database 23c that allows you to store duplicate data in a more efficient way.\n",
      "- In-Memory Advisor: The In-Memory Advisor is a new feature in Oracle Database 23c that helps you determine the best way to use in-memory processing, based on your workload and usage patterns.\n",
      "- Cluster Health Monitor Improved Diagnosability: The cluster health monitor in Oracle Database 23c has been enhanced to provide more detailed information about the health of your cluster, which can help you diagnose issues and improve performance.\n",
      "- Upgrade: The upgrade process in Oracle Database 23c has been improved, with more flexibility and support for different types of upgrades.\n",
      "- PL/SQL Package: There are several PL/SQL packages in Oracle Database 23c that have been enhanced or added, including the DBMS_DICTIONARY_CHECK package and the CMAN diagnostics and logging packages.\n",
      "- JSON-Relational Duality: The JSON-relational duality is a new feature in Oracle Database 23c that allows you to access and update data as either JSON documents or relational tables.\n",
      "- Operational Property Graphs in SQL: The operational property graph feature in Oracle Database 23c allows you to build real-time graph analysis applications against operational data directly in the Oracle Database.\n",
      "- Microservice Support: The microservice support feature in Oracle Database 23c makes it simpler to implement cross-service transactions and other microservices-related functionality.\n",
      "- Lock-Free Column Value Reservations: The lock-free column value reservations feature in Oracle Database 23c allows applications to reserve part of a value in a column without locking the row, which can improve performance and reduce contention.\n",
      "- Add and Drop User Columns in Blockchain and Immutable Tables: The add and drop user columns feature in Oracle Database 23c allows you to add and drop user columns in blockchain and immutable tables, which can help you manage and maintain these types of tables more easily.\n",
      "- Blockchain Table Countersignature: The blockchain table countersignature feature in Oracle Database 23c allows you to add countersignatures to blockchain tables, which can help you ensure the integrity and authenticity of the data in these tables.\n",
      "- Blockchain Table Delegate Signer: The blockchain table delegate signer feature in Oracle Database 23c allows you to add a delegate signer to blockchain tables, which can help you ensure the integrity and authenticity of the data in these tables.\n",
      "- New Special Privilege Required to Set Long Idle Retention Times for Blockchain and Immutable Tables: The new special privilege feature in Oracle Database 23c requires a new special privilege to set long idle retention times for blockchain and immutable tables, which can help you manage and maintain these types of tables more securely.\n",
      "- Database Architecture: The database architecture feature in Oracle Database 23c has been updated to support new features and improve performance, with more efficient use of memory and CPU resources.\n",
      "- Lock-Free Reservations: The lock-free reservations feature in Oracle Database 23c allows applications to reserve resources without locking out other operations, which can improve performance and reduce contention.\n",
      "- Wide Tables: The wide tables feature in Oracle Database 23c allows for better compression and performance of large datasets, by storing data in a more efficient way.\n",
      "- Consolidated Service Backgrounds for Oracle Instance: The consolidated service backgrounds feature\n",
      "\n",
      "CPU times: user 69.6 ms, sys: 10.3 ms, total: 79.9 ms\n",
      "Wall time: 48 s\n"
     ]
    }
   ],
   "source": [
    "%%time\n",
    "\n",
    "# the question\n",
    "get_answer(rag_chain, question=QUESTION4)"
   ]
  },
  {
   "cell_type": "code",
   "execution_count": 18,
   "id": "98885a05-0118-4514-90ac-f1912dbe5187",
   "metadata": {},
   "outputs": [
    {
     "name": "stdout",
     "output_type": "stream",
     "text": [
      "Question: Are there features related to Machine Learning in Oracle Database 23c?\n",
      "\n",
      "The response:\n",
      " Yes, there are several features related to Machine Learning in Oracle Database 23c, including:\n",
      "\n",
      "1.  Improved data preparation for high cardinality categorical features: This feature simplifies the process of preparing data for machine learning by providing better support for handling high cardinality categorical features.\n",
      "\n",
      "2.  Lineage: Data Query Persisted with Model: This feature allows you to persist the data query associated with a machine learning model, which can help improve the performance of the model.\n",
      "\n",
      "3.  Multiple time series: This feature allows you to work with multiple time series data sets, which can be useful for machine learning applications.\n",
      "\n",
      "4.  Outlier detection using expectation maximization (EM) clustering: This feature allows you to detect outliers in your data using EM clustering, which can be useful for machine learning applications.\n",
      "\n",
      "5.  Partitioned model performance improvement: This feature improves the performance of partitioned machine learning models, which can be useful for handling large data sets.\n",
      "\n",
      "6.  XGBoost support for constraints and for survival analysis: This feature extends the XGBoost machine learning library to support constraints and survival analysis, which can be useful for handling complex machine learning problems.\n",
      "\n",
      "7.  Automated time series model search: This feature automatically searches for time series models based on your data set, which can be useful for machine learning applications.\n",
      "\n",
      "8.  Explicit semantic analysis support for dense projection with embeddings: This feature provides explicit support for dense projection with embeddings, which can be useful for handling large data sets and complex machine learning problems.\n",
      "\n",
      "9.  GLM link functions: This feature extends the Generalized Linear Model (GLM) machine learning library to support link functions, which can be useful for handling complex machine learning problems.\n",
      "\n",
      "10.  In-memory RAC-level global dictionary: This feature allows you to store the global dictionary in memory for faster access, which can be useful for machine learning applications.\n",
      "\n",
      "11.  Vectorized query processing: Multi-Level Joins and Aggregations: This feature uses vectorized query processing to speed up complex queries involving multiple levels of joins and aggregations, which can be useful for machine learning applications.\n",
      "\n",
      "12.  Automated in-memory sizing for autonomous databases: This feature automatically sizes the in-memory area for autonomous databases, which can help improve the performance of machine learning applications.\n",
      "\n",
      "13.  In-memory search: This feature allows you to search data stored in memory, which can be useful for machine learning applications.\n",
      "\n",
      "14.  Ubiquitous search with DBMS_SEARCH packages: This feature provides ubiquitous search capabilities using the DBMS_SEARCH packages, which can be useful for machine learning applications.\n",
      "\n",
      "15.  In-memory RAC-level global dictionary with vectorized query processing: This feature combines the in-memory RAC-level global dictionary with vectorized query processing for faster access and better performance, which can be useful for machine learning applications.\n",
      "\n",
      "16.  Machine Learning - Enhancements: This feature provides additional enhancements to the machine learning capabilities of Oracle Database 23c, including support for additional algorithms and features.\n",
      "\n",
      "17.  Automated Time Series Model Search with Explicit Semantic Analysis: This feature combines the automated time series model search with explicit semantic analysis, which can be useful for handling complex machine learning problems and large data sets.\n",
      "\n",
      "18.  Lock-Free Reservations: This feature allows applications to reserve part of a value in a column without locking the row, which can be useful for handling concurrency issues in machine learning applications.\n",
      "\n",
      "19.  Selective In-Memory Columns: This feature allows you to select specific columns to store in memory, which can help improve the performance of machine learning applications.\n",
      "\n",
      "20.  In-Memory Advisor: This feature provides recommendations for how to improve the performance of your machine learning applications by using the in-memory capabilities of Oracle Database 23c.\n",
      "\n",
      "21.  Oracle Call Interface (OCI) APIs to Enable Client-Side Tracing: This feature provides OCI APIs to enable client-side tracing, which can be useful for troubleshooting machine learning applications.\n",
      "\n",
      "22.  Rename LOB Segment: This feature allows you to rename a Large Object (LOB) segment, which can be useful for managing your data for machine learning applications.\n",
      "\n",
      "23.  Extent-Based Scrubbing: This feature allows you to scrub your data based on extents, which can be useful for managing your data for machine learning applications.\n",
      "\n",
      "24.  High Availability Diagnosability Using the DBMS_SCHEDULER Package: This feature allows you to diagnose high availability issues using the DBMS_SCHEDULER package, which can be useful for ensuring the availability of your machine learning applications.\n",
      "\n",
      "25.  CMAN Diagnostics and Logging Enhancements: This feature provides additional diagnostics and logging capabilities for the Cluster Manager (CMAN) component of Oracle Database 23c, which can be useful for managing your machine learning applications in a clustered environment.\n",
      "\n",
      "26.  DBMS_DICTIONARY_CHECK PL/SQL Package: This feature provides a PL/SQL package that you can use to check the consistency of your data dictionary, which can be useful for managing your machine learning applications.\n",
      "\n",
      "27.  Estimate the Space Saved with Deduplication: This feature allows you to estimate the space saved by deduplicating your data, which can be useful for managing your machine learning applications.\n",
      "\n",
      "28.  High Availability Diagnosability Using the DBMS_UCP Package: This feature allows you to diagnose high availability issues using the DBMS_UCP package, which can be useful for ensuring the availability of your machine learning applications in a distributed environment.\n",
      "\n",
      "29.  Microservice Support: This feature provides additional support for implementing microservices, which can be useful for building machine learning applications.\n",
      "\n",
      "30.  Lock-Free Column Value Reservations: This feature allows applications to reserve part of a value in a column without locking the row, which can be useful for handling concurrency issues in machine learning applications.\n",
      "\n",
      "31.  JSON-Relational Duality: This feature allows you to access and update data as either JSON documents or relational tables, which can be useful for handling complex data structures in machine learning applications.\n",
      "\n",
      "32.  Operational Property Graphs in SQL: This feature allows you to build real-time graph analysis applications against operational data directly in the Oracle Database, utilizing its industry-leading security, high availability, and performance capabilities.\n",
      "\n",
      "33.  Transportable Binary XML: This feature allows you to transport binary XML data between databases, which can be useful for handling complex data structures in machine learning applications.\n",
      "\n",
      "34.  Text Indexes with Automatic Maintenance: This feature allows you to create text indexes with automatic maintenance, which can be useful for handling large data sets in machine learning applications.\n",
      "\n",
      "35.  Read-Only Value LOBs: This feature allows you to create read-only value LOBs, which can be useful for handling large data sets in machine learning applications.\n",
      "\n",
      "36.  Semi-Join Materialized Views: This feature allows you to create semi-join materialized views, which can be useful for handling large data sets in machine learning applications.\n",
      "\n",
      "37. \n",
      "\n",
      "CPU times: user 61.7 ms, sys: 9.76 ms, total: 71.5 ms\n",
      "Wall time: 48.2 s\n"
     ]
    }
   ],
   "source": [
    "%%time\n",
    "\n",
    "# the question\n",
    "get_answer(rag_chain, question=QUESTION6)"
   ]
  },
  {
   "cell_type": "markdown",
   "id": "9f93ffe1-3036-4251-9514-0c3cc240f224",
   "metadata": {},
   "source": [
    "#### Explore the vectore store"
   ]
  },
  {
   "cell_type": "code",
   "execution_count": 19,
   "id": "e055f1c4-27d9-465a-b0b4-278ad06bc67b",
   "metadata": {},
   "outputs": [
    {
     "data": {
      "text/plain": [
       "5"
      ]
     },
     "execution_count": 19,
     "metadata": {},
     "output_type": "execute_result"
    }
   ],
   "source": [
    "# Retrieve relevant splits for any question using similarity search.\n",
    "\n",
    "# This is simply \"top K\" retrieval where we select documents based on embedding similarity to the query.\n",
    "\n",
    "TOP_K = 5\n",
    "\n",
    "docs = vectorstore.similarity_search(QUESTION5, k=TOP_K)\n",
    "\n",
    "len(docs)"
   ]
  },
  {
   "cell_type": "code",
   "execution_count": 20,
   "id": "2940dfc1-cc62-4778-a89d-81da8a466980",
   "metadata": {},
   "outputs": [
    {
     "name": "stdout",
     "output_type": "stream",
     "text": [
      "chunk n. 1\n",
      "Oracle® Database Oracle Database New Features Release 23c F48428-15 October 2023\n",
      "\n",
      "chunk n. 2\n",
      "1 Introduction Oracle Database 23c is the next long term support release of Oracle Database. Oracle Database 23c, code named “App Simple,”  accelerates Oracle's mission to make it simple to develop and run all data-driven applications. It's the sum of all the features from the Oracle Database 21c innovation release plus over 300 new features and enhancements. Key focus areas include JSON, graph, microservices, and developer productivity. Note: For information about desupported features, see Oracle Database Changes, Desupports, and Deprecations. JSON Relational Duality Data can be transparently accessed and updated as either JSON documents or relational tables. Developers benefit from the strengths of both, which are simpler and more powerful than Object Relational Mapping (ORM). See JSON-Relational Duality . Operational Property Graphs in SQL Developers can now build real-time graph analysis applications against operational data directly in the Oracle Database, utilizing its industry leading security, high availability and performance capabilities. See Support for the ISO/IEC SQL Property Graph Queries (SQL/PGQ) Standard . Microservice Support Alongside Oracle’s already comprehensive support for microservices, new functionality makes it simpler to implement cross-service transactions. See Microservices . Lock-Free Column Value Reservations Lock-free column value reservations allow applications to reserve part of a value in a column without locking the row; for example, reserve part of a bank account balance or reserve an item in inventory without locking out all other operations on the bank account or item. See Lock-Free Reservations . 1-1\n",
      "\n",
      "chunk n. 3\n",
      "Spatial 3-11 Spatial: 3D Models and Analytics 3-11 Spatial: REST APIs for GeoRaster 3-11 Workspace Manager: Improved Security when using Oracle Workspace Manager 3-11 4   Data Warehousing/Big Data General 4-1 Enhanced Partitioning Metadata 4-1 Extended Language Support in Oracle Text 4-1 External Table Partition Values in the File Path 4-1 Logical Partition Change Tracking for Materialized View Refresh and Staleness Tracking 4-2 Staging Tables 4-2 5   Cloud Migration General 5-1 Classic Queue to Transactional Event Queues (TxEventQ) Online Migration Tool 5-1 Cloud Premigration Advisor Tool for Source Database Migrations to Other Oracle Databases 5-1 6   Cloud Operations Manageability 6-1 Hybrid Read-Only Mode for Pluggable Databases 6-1 Real-Time SQL Monitoring Enhancements 6-1 Control PDB Open Order 6-1 ODP.NET: Centralized Config Providers 6-2 Optimized Performance for Parallel File System Operations 6-2 Read-Only Users and Sessions 6-2 Continuous Availability 6-3 Enhanced Upgrade of Time Zone Data 6-3 Optimized Read-Write Operations for Database Processes 6-3 Support for the Coexistence of DGPDB and GoldenGate Capture 6-3 General 6-4 Adaptive Result Cache Object Exclusion 6-4 Diagnose and Repair SQL Exceptions Automatically at Compile-Time 6-4 Read-Only Tablespace on Object Storage 6-4 SYSDATE and SYSTIMESTAMP Reflect PDB Time Zone 6-4 Unified Memory 6-5 vii\n",
      "\n",
      "chunk n. 4\n",
      "Add and Drop User Columns in Blockchain and Immutable Tables 9-7 Blockchain Table Countersignature 9-8 Blockchain Table Delegate Signer 9-8 New Special Privilege Required to Set Long Idle Retention Times for Blockchain and Immutable Tables 9-8 Database Architecture 9-9 Lock-Free Reservations 9-9 Wide Tables 9-9 Consolidated Service Backgrounds for Oracle Instance 9-9 Improve Performance and Disk Utilization for Hybrid Columnar Compression 9-9 Unrestricted Direct Loads 9-10 General 9-10 Unrestricted Parallel DMLs 9-10 ACFS Auto Resize Variable Threshold 9-10 ACFS Cross Version Replication 9-11 ACFS Encryption Migration from OCR to OKV 9-11 ACFS Replication Switchover 9-11 ACFS Snapshots RMAN Sparse Backup and Restore 9-11 ACFS Sparse Backup and Restore of Snapshots 9-11 ACFSutil plogconfig Log Files Wrapping Info 9-12 CEIL and FLOOR for DATE, TIMESTAMP, and INTERVAL Data Types 9-12 Centralized Config Providers 9-12 Oracle Data Pump Filters GoldenGate ACDR Columns from Tables 9-12 PDB Snapshot Carousel ACFS Support 9-13 SQL*Loader Supports SODA (Simple Oracle Document Access) 9-13 Manageability and Performance 9-13 Advanced LOW IOT Compression 9-13 Automatic SecureFiles Shrink for Autonomous Database 9-13 Automatic Storage Compression 9-14 Enhanced Query History Tracking and Reporting 9-14 Fast Ingest (Memoptimize for Write) Enhancements 9-14 Improved Performance of LOB Writes 9-15 Improved System Monitor (SMON) Process Scalability 9-15 Pluggable Database Support in Oracle Data Guard Environments 9-15 Refreshable PDBs in DBCA 9-16 10    Diagnosability General 10-1 Cluster Health Monitor Improved Diagnosability 10-1 Enhanced Cluster Health Advisor Support for Oracle Pluggable Databases 10-1 Reduce Time to Resolve 10-1 x\n",
      "\n",
      "chunk n. 5\n",
      "View Documentation Extended Support and Faster Performance for JSON Materialized Views Materialized views of JSON tables have been enhanced with the ability to fast refresh more types of Materialized Views of JSON tables as well as Query Rewrite support for these Materialized Views. The performance for JSON table Materialized Views is significantly improved through better fast refresh capabilities and better query rewrite capabilities for more workloads. You can use JSON table Materialized Views more broadly in your applications, with better performance and less resource utilization. Related Resources View Documentation Oracle SQL Access to Kafka Oracle SQL Access to Kafka (DBMS_KAFKA) provides efficient, reliable, and scalable access to data streams from Apache Kafka and OCI Streaming Service. Streaming data can be queried via SQL or loaded into Oracle database tables. Oracle Database provides efficient, reliable, and scalable integration with Apache Kafka using the DBMS_KAFKA  APIs. This API enables Oracle Database to consume data from external data streams without the need for costly, complex direct application connections using proprietary interfaces. Oracle SQL Access to Kafka enables you to use Oracle Databases rich analytic capabilities across all your data. Related Resources View Documentation SQL Text Indexes with Automatic Maintenance You can specify a new automatic maintenance mode for text indexes using the MAINTENANCE AUTO  index parameter. This method automates the CTX_DDL.SYNC_INDEX operation. This is now the default synchronization method for new indexes. With this method, newly created text indexes do not require you to specify a synchronization interval or manually run a SYNC_INDEX  operation. A background process automatically performs these tasks without user intervention. This helps in synchronizing a large number of indexes in an optimal manner, and also eliminates the\n",
      "\n"
     ]
    }
   ],
   "source": [
    "for i, doc in enumerate(docs):\n",
    "    print(f\"chunk n. {i+1}\")\n",
    "    print(doc.page_content)\n",
    "    print()"
   ]
  },
  {
   "cell_type": "code",
   "execution_count": null,
   "id": "d452bd3e-2721-4cc8-892e-4f520b76b7a8",
   "metadata": {},
   "outputs": [],
   "source": []
  },
  {
   "cell_type": "code",
   "execution_count": null,
   "id": "228be3c9-9c7b-4501-a2fe-656cdefd0a66",
   "metadata": {},
   "outputs": [],
   "source": []
  }
 ],
 "metadata": {
  "kernelspec": {
   "display_name": "Python 3 (ipykernel)",
   "language": "python",
   "name": "python3"
  },
  "language_info": {
   "codemirror_mode": {
    "name": "ipython",
    "version": 3
   },
   "file_extension": ".py",
   "mimetype": "text/x-python",
   "name": "python",
   "nbconvert_exporter": "python",
   "pygments_lexer": "ipython3",
   "version": "3.9.0"
  }
 },
 "nbformat": 4,
 "nbformat_minor": 5
}
