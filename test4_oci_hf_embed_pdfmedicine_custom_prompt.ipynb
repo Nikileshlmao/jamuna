{
 "cells": [
  {
   "cell_type": "markdown",
   "id": "1b9f0b37-fbfe-4e59-ab32-da1c1afe3b00",
   "metadata": {},
   "source": [
    "## RAG using a pdf book\n",
    "* see: https://python.langchain.com/docs/use_cases/question_answering/\n",
    "* using Cohere embeddings\n",
    "* using a custom prompt"
   ]
  },
  {
   "cell_type": "code",
   "execution_count": 1,
   "id": "75812374-a9a1-4463-93a2-6dd6f352cb40",
   "metadata": {},
   "outputs": [],
   "source": [
    "# for pdf post processing\n",
    "import re\n",
    "\n",
    "# modified to load from Pdf\n",
    "from langchain.document_loaders import PyPDFLoader\n",
    "from langchain.text_splitter import RecursiveCharacterTextSplitter\n",
    "from langchain.prompts import PromptTemplate\n",
    "\n",
    "# two possible vector store\n",
    "from langchain.vectorstores import Chroma\n",
    "from langchain.vectorstores import FAISS\n",
    "\n",
    "# removed OpenAI, using HF embeddings\n",
    "from langchain.embeddings import HuggingFaceEmbeddings\n",
    "\n",
    "from langchain import hub\n",
    "\n",
    "# removed OpenAI, using OCI GenAI\n",
    "from oci.config import from_file\n",
    "\n",
    "# oci_llm is in a local file\n",
    "from oci_llm import OCIGenAILLM\n",
    "\n",
    "from langchain.schema.runnable import RunnablePassthrough\n",
    "\n",
    "# private configs\n",
    "from config_private import COMPARTMENT_OCID, COHERE_API_KEY"
   ]
  },
  {
   "cell_type": "code",
   "execution_count": 2,
   "id": "eaede75f-e609-4cc6-a077-259b3a439bc6",
   "metadata": {},
   "outputs": [],
   "source": [
    "# to enable some debugging\n",
    "DEBUG = False"
   ]
  },
  {
   "cell_type": "markdown",
   "id": "ab6cab57-15f4-413d-96cb-ea276a7a75be",
   "metadata": {},
   "source": [
    "#### Template for custom prompt"
   ]
  },
  {
   "cell_type": "code",
   "execution_count": 3,
   "id": "14850d24-f6a6-46ee-ac54-2e9deac1b8d9",
   "metadata": {},
   "outputs": [],
   "source": [
    "# this is the template for the prompt\n",
    "template = \"\"\"Use the following pieces of context to answer the question at the end. \n",
    "If you don't know the answer don't try to make up an answer. \n",
    "Use five sentences maximum. \n",
    "Always say \"Thanks for asking!\" at the end of the answer. \n",
    "{context}\n",
    "Question: {question}\n",
    "Helpful Answer:\"\"\""
   ]
  },
  {
   "cell_type": "code",
   "execution_count": 4,
   "id": "79547220-85f9-4e02-9dbb-0a76717d684e",
   "metadata": {},
   "outputs": [],
   "source": [
    "# functions\n",
    "def get_answer(rag_chain, question):\n",
    "    response = rag_chain.invoke(question)\n",
    "\n",
    "    print(f\"Question: {question}\")\n",
    "    print()\n",
    "    print(\"The response:\")\n",
    "    print(response)\n",
    "    print()"
   ]
  },
  {
   "cell_type": "code",
   "execution_count": 5,
   "id": "ef483ade-2146-4218-8130-95abe1607a50",
   "metadata": {},
   "outputs": [],
   "source": [
    "# read OCI config to connect to OCI with API key\n",
    "CONFIG_PROFILE = \"DEFAULT\"\n",
    "config = from_file(\"~/.oci/config\", CONFIG_PROFILE)\n",
    "\n",
    "# OCI GenAI endpoint (for now Chicago)\n",
    "ENDPOINT = \"https://generativeai.aiservice.us-chicago-1.oci.oraclecloud.com\"\n",
    "\n",
    "# check the config to access to api keys\n",
    "if DEBUG:\n",
    "    print(config)"
   ]
  },
  {
   "cell_type": "markdown",
   "id": "b988c589-f06e-49f7-b23f-f70ab316e720",
   "metadata": {},
   "source": [
    "#### Loading the document"
   ]
  },
  {
   "cell_type": "code",
   "execution_count": 6,
   "id": "0d5edf3f-17df-4963-82ef-d4297239dcb0",
   "metadata": {},
   "outputs": [],
   "source": [
    "# BLOG_POST = \"https://python.langchain.com/docs/get_started/introduction\"\n",
    "BOOK = \"./CurrentEssentialsOfMedicine.pdf\"\n",
    "\n",
    "loader = PyPDFLoader(BOOK)\n",
    "\n",
    "data = loader.load()"
   ]
  },
  {
   "cell_type": "markdown",
   "id": "2fd8887b-0aff-45b8-9df2-ea904815ea26",
   "metadata": {},
   "source": [
    "#### Splitting the document in chunks"
   ]
  },
  {
   "cell_type": "code",
   "execution_count": 7,
   "id": "9f53344e-271e-4484-bd29-c95a02b35d53",
   "metadata": {},
   "outputs": [],
   "source": [
    "CHUNK_SIZE = 2000\n",
    "CHUNK_OVERLAP = 100\n",
    "\n",
    "text_splitter = RecursiveCharacterTextSplitter(\n",
    "    chunk_size=CHUNK_SIZE, chunk_overlap=CHUNK_OVERLAP\n",
    ")\n",
    "\n",
    "splits = text_splitter.split_documents(data)"
   ]
  },
  {
   "cell_type": "code",
   "execution_count": 8,
   "id": "89b1b9f1-d375-4a68-b25a-633930c2462c",
   "metadata": {},
   "outputs": [
    {
     "name": "stdout",
     "output_type": "stream",
     "text": [
      "We have splitted the pdf in 686 splits...\n"
     ]
    }
   ],
   "source": [
    "print(f\"We have splitted the pdf in {len(splits)} splits...\")"
   ]
  },
  {
   "cell_type": "code",
   "execution_count": 9,
   "id": "0b35bb4e-44d8-4c48-bceb-c10873c93c4c",
   "metadata": {},
   "outputs": [],
   "source": [
    "# some post processing\n",
    "\n",
    "# replace \\n with blank\n",
    "for split in splits:\n",
    "    split.page_content = split.page_content.replace(\"\\n\", \" \")\n",
    "    split.page_content = re.sub(\"[^a-zA-Z0-9 \\n\\.]\", \" \", split.page_content)"
   ]
  },
  {
   "cell_type": "code",
   "execution_count": 10,
   "id": "f70cce26-c603-4532-8ab6-8c34fa4d857e",
   "metadata": {},
   "outputs": [
    {
     "data": {
      "text/plain": [
       "'ReferencePoole Wilson PA  V ok  Z  Kirwan BA  de Brouwer S  Dunselman PH  Lubsen J  ACTION investigators. Clinical course of isolated stable angina due to coronaryheart disease. Eur Heart J 2007 28 1928.  PMID  17562665 '"
      ]
     },
     "execution_count": 10,
     "metadata": {},
     "output_type": "execute_result"
    }
   ],
   "source": [
    "# have a look at a single split\n",
    "splits[20].page_content"
   ]
  },
  {
   "cell_type": "markdown",
   "id": "d4830653-e501-4dda-a26e-8faef61a0531",
   "metadata": {},
   "source": [
    "#### Embeddings and Vectore Store"
   ]
  },
  {
   "cell_type": "code",
   "execution_count": 11,
   "id": "3a63cc21-2225-4e1f-8b3a-6ec41ca97d81",
   "metadata": {},
   "outputs": [
    {
     "name": "stdout",
     "output_type": "stream",
     "text": [
      "CPU times: user 2min 43s, sys: 1min 19s, total: 4min 2s\n",
      "Wall time: 1min 20s\n"
     ]
    }
   ],
   "source": [
    "%%time\n",
    "\n",
    "EMBED_MODEL_NAME = \"BAAI/bge-base-en-v1.5\"\n",
    "\n",
    "model_kwargs = {\"device\": \"cpu\"}\n",
    "encode_kwargs = {\"normalize_embeddings\": False}\n",
    "\n",
    "\n",
    "hf = HuggingFaceEmbeddings(\n",
    "    model_name=EMBED_MODEL_NAME, model_kwargs=model_kwargs, encode_kwargs=encode_kwargs\n",
    ")\n",
    "\n",
    "# using Chroma or FAISS as Vector store\n",
    "vectorstore = Chroma.from_documents(documents=splits, embedding=hf)\n",
    "# vectorstore = FAISS.from_documents(documents=splits, embedding=hf)\n",
    "\n",
    "retriever = vectorstore.as_retriever()"
   ]
  },
  {
   "cell_type": "markdown",
   "id": "16aaa4a5-ba64-4222-a65c-d26e5395cd3f",
   "metadata": {},
   "source": [
    "#### Define the prompt structure"
   ]
  },
  {
   "cell_type": "code",
   "execution_count": 12,
   "id": "426d2dd3-ac41-4cb2-a975-b35ca482fb4b",
   "metadata": {},
   "outputs": [],
   "source": [
    "rag_prompt_custom = PromptTemplate.from_template(template)"
   ]
  },
  {
   "cell_type": "markdown",
   "id": "2be2ef0b-f63b-4138-8bd9-5271e66ee926",
   "metadata": {},
   "source": [
    "#### Define the LLM: OCI GenAI"
   ]
  },
  {
   "cell_type": "code",
   "execution_count": 13,
   "id": "8d5f0d42-8203-4950-a5ca-8c051ff71b92",
   "metadata": {},
   "outputs": [],
   "source": [
    "# compartment OCID from config_private.py\n",
    "\n",
    "# using mostly defaults\n",
    "llm = OCIGenAILLM(\n",
    "    temperature=1.0,\n",
    "    max_tokens=1500,\n",
    "    config=config,\n",
    "    compartment_id=COMPARTMENT_OCID,\n",
    "    endpoint=ENDPOINT,\n",
    "    debug=DEBUG,\n",
    ")"
   ]
  },
  {
   "cell_type": "markdown",
   "id": "7ebe0dca-b88e-4c5f-9b03-25da1ed36cb2",
   "metadata": {},
   "source": [
    "#### Define the (Lang)Chain"
   ]
  },
  {
   "cell_type": "code",
   "execution_count": 14,
   "id": "6e93a1de-9939-4120-8910-66d735de7beb",
   "metadata": {},
   "outputs": [],
   "source": [
    "rag_chain = (\n",
    "    {\"context\": retriever, \"question\": RunnablePassthrough()} | rag_prompt_custom | llm\n",
    ")"
   ]
  },
  {
   "cell_type": "markdown",
   "id": "9fce71ae-50a8-418d-81ea-cea0a30d11cf",
   "metadata": {},
   "source": [
    "#### Process the question"
   ]
  },
  {
   "cell_type": "code",
   "execution_count": 33,
   "id": "a5562c9d-cc2a-4761-9625-1c62a45cf036",
   "metadata": {},
   "outputs": [],
   "source": [
    "# a list of possible questions\n",
    "QUESTION1 = \"What are the suggested treatments for Botulism? Make a list\"\n",
    "QUESTION2 = \"List diagnosis for Botulism. Make a list\"\n",
    "QUESTION3 = \"List the antibiotics commonly used for Tubercolosis. Make a list\"\n",
    "QUESTION4 = \"List the suggested treatments for Sleep Apnea. Make a list.\""
   ]
  },
  {
   "cell_type": "code",
   "execution_count": 36,
   "id": "069689c8-4786-455b-aee0-91f1fc69e0e9",
   "metadata": {},
   "outputs": [
    {
     "name": "stdout",
     "output_type": "stream",
     "text": [
      "Question: What are the suggested treatments for Botulism? Make a list\n",
      "\n",
      "The response:\n",
      " Here is a list of suggested treatments for Botulism:\n",
      "\n",
      "1. Removal of unabsorbed toxin from the gut\n",
      "2. Specific antitoxin\n",
      "3. Vigilant support, including attention to respiratory function\n",
      "4. Penicillin for wound botulism\n",
      "5. Active immunization preventive\n",
      "6. Passive immunization with tetanus immune globulin and concurrent active immunization for all suspected cases\n",
      "7. Chlorpromazine or diazepam for spasms or convulsions\n",
      "8. Vigorous supportive care with particular attention to the airway and laryngospasm\n",
      "9. Metronidazole\n",
      "10. Tetanus immune globulin\n",
      "\n",
      "CPU times: user 68 ms, sys: 35 ms, total: 103 ms\n",
      "Wall time: 4.49 s\n"
     ]
    }
   ],
   "source": [
    "%%time\n",
    "\n",
    "# the question\n",
    "get_answer(rag_chain, question=QUESTION1)"
   ]
  },
  {
   "cell_type": "code",
   "execution_count": 32,
   "id": "98885a05-0118-4514-90ac-f1912dbe5187",
   "metadata": {},
   "outputs": [
    {
     "name": "stdout",
     "output_type": "stream",
     "text": [
      "Question: List diagnosis for Botulism. Make a list\n",
      "\n",
      "The response:\n",
      " The diagnosis of botulism often requires both clinical and laboratory testing. Here are some common ways to diagnose botulism:\n",
      "\n",
      "1. History of clinical symptoms: The classic clinical manifestation of botulism consists of symmetric descending paralysis, which may involve the respiratory muscles. Other symptoms may include difficulty speaking or swallowing, dry mouth, blurred vision, and muscle weakness.\n",
      "\n",
      "2. Toxin detection: Botulinum toxin can be detected in the blood, urine, or stool of a person with botulism. Laboratories can perform specific tests to identify the presence of the toxin.\n",
      "\n",
      "3.Immunological tests: Your healthcare provider may check your immune system for signs of a botulism infection. This can involve measuring the levels of antibodies in your blood or urine.\n",
      "\n",
      "4. Imaging tests: Sometimes, imaging tests such as a CT scan or MRI may be used to diagnose botulism, particularly in cases where the disease affects the nervous system.\n",
      "\n",
      "5.  Food history: Botulism can be caused by eating contaminated food, so your healthcare provider may ask about your recent food history to determine if you have been exposed to the toxin.\n",
      "\n",
      "It's important to note that botulism can be life-threatening and requires immediate medical attention. If you or a loved one is suspected to have botulism, seek medical care immediately.\n",
      "\n",
      "CPU times: user 75.3 ms, sys: 30.1 ms, total: 105 ms\n",
      "Wall time: 9.9 s\n"
     ]
    }
   ],
   "source": [
    "%%time\n",
    "\n",
    "# the question\n",
    "get_answer(rag_chain, question=QUESTION2)"
   ]
  },
  {
   "cell_type": "code",
   "execution_count": 27,
   "id": "01bb7358-c799-492b-81d0-8c482ece43fb",
   "metadata": {},
   "outputs": [
    {
     "name": "stdout",
     "output_type": "stream",
     "text": [
      "Question: List the antibiotics commonly used for Tubercolosis. Make a list\n",
      "\n",
      "The response:\n",
      " Thanks for asking! Here are some of the most common antibiotics used to treat tuberculosis:\n",
      "- Isoniazid\n",
      "- Ethambutol\n",
      "- Pyrazinamide\n",
      "- Streptomycin\n",
      "- Rifampin\n",
      "- fluoroquinolones\n",
      "\n",
      "These antibiotics are typically used in combination to treat tuberculosis. It's important to note that some of these antibiotics may cause side effects, such as nausea, vomiting, and liver damage. It's also important to follow the dosage and duration instructions provided by your doctor to ensure the best possible outcome.\n",
      "If you have any other questions about tuberculosis or its treatment, please don't hesitate to ask.\n",
      "\n",
      "CPU times: user 64.7 ms, sys: 35.4 ms, total: 100 ms\n",
      "Wall time: 5.11 s\n"
     ]
    }
   ],
   "source": [
    "%%time\n",
    "\n",
    "# the question\n",
    "get_answer(rag_chain, question=QUESTION3)"
   ]
  },
  {
   "cell_type": "code",
   "execution_count": 28,
   "id": "518042dc-7437-4959-8858-a24164b18029",
   "metadata": {},
   "outputs": [
    {
     "name": "stdout",
     "output_type": "stream",
     "text": [
      "Question: List the suggested treatments for Sleep Apnea. Make a list.\n",
      "\n",
      "The response:\n",
      " The suggested treatments for Sleep Apnea are:\n",
      "- Weight loss\n",
      "- Avoid hypnotic medications\n",
      "- Nocturnal continuous positive airway pressure (CPAP)\n",
      "- Supplemental oxygen\n",
      "- Oral appliances\n",
      "- Modafinil\n",
      "- Uvulopalatopharyngoplasty (UPPP)\n",
      "- Nasal septoplasty\n",
      "- Tracheostomy\n",
      "\n",
      "CPU times: user 66.2 ms, sys: 36.1 ms, total: 102 ms\n",
      "Wall time: 2.55 s\n"
     ]
    }
   ],
   "source": [
    "%%time\n",
    "\n",
    "# the question\n",
    "get_answer(rag_chain, question=QUESTION4)"
   ]
  },
  {
   "cell_type": "markdown",
   "id": "9f93ffe1-3036-4251-9514-0c3cc240f224",
   "metadata": {},
   "source": [
    "#### Explore the vectore store"
   ]
  },
  {
   "cell_type": "code",
   "execution_count": 21,
   "id": "e055f1c4-27d9-465a-b0b4-278ad06bc67b",
   "metadata": {},
   "outputs": [
    {
     "data": {
      "text/plain": [
       "5"
      ]
     },
     "execution_count": 21,
     "metadata": {},
     "output_type": "execute_result"
    }
   ],
   "source": [
    "# Retrieve relevant splits for any question using similarity search.\n",
    "\n",
    "# This is simply \"top K\" retrieval where we select documents based on embedding similarity to the query.\n",
    "\n",
    "TOP_K = 5\n",
    "\n",
    "docs = vectorstore.similarity_search(QUESTION3, k=TOP_K)\n",
    "\n",
    "len(docs)"
   ]
  },
  {
   "cell_type": "code",
   "execution_count": 22,
   "id": "2940dfc1-cc62-4778-a89d-81da8a466980",
   "metadata": {},
   "outputs": [
    {
     "name": "stdout",
     "output_type": "stream",
     "text": [
      "chunk n. 1\n",
      "60 Current Essentials of Medicine 2Pulmonary Tuberculosis  Essentials of Diagnosis  Lassitude  weight loss  fever  cough  night sweats  hemoptysis  Cachexia in many  posttussive apical rales occasionally present  Apical or subapical in ltrates with cavities classic in reactivationtuberculosis  pleural effusion in primary tuberculosis  likewisemid lung in ltration  but any radiographic abnormality possible  Positive skin test to intradermal puri ed protein derivative  PPD    Interferon gamma release assays have good speci city for latenttuberculosis  Mycobacterium tuberculosis by culture of sputum  gastric wash  ing  or pleural biopsy  pleural  uid culture usually sterile  Nucleic acid ampli cation can rapidly distinguish between M. tuberculosis and nontuberculous mycobacterium to guide treat  ment decisions but culture still needed for susceptibility testing  Increasingly encountered antibiotic resistant strains  Granuloma on pleural biopsy in patients with effusions  mesothe lial cells usually absent from  uid  Miliary tuberculosis  widespread hematogenous spread of organism has diverse clinical presentations including failure to thrive  fever ofunknown origin  multiorgan system failure  ARDS  nearly all haveovert pulmonary involvement with numerous small nodules  Differential Diagnosis  Lung carcinoma  fungal infection  Bacterial pneumonia or lung abscess  other mycobacterial infections  Sarcoidosis  pneumoconiosis  Treatment  Combination antituberculous therapy for 6 9 months  all regi mens include isoniazid  but rifampin  ethambutol  pyrazinamide and streptomycin all have activity  Avoid empiric treatment for community acquired pneumonia with uoroquinolones if M. tuberculosis is suspected as transient use may facilitate development of resistance  All cases of suspected M. tuberculosis infection should be reported to local health departments  Hospitalization considered for those incapable of self care orlikely to expose susceptible individuals  Pearl\n",
      "\n",
      "chunk n. 2\n",
      "238 Current Essentials of Medicine 8Tuberculosis   Mycobacterium tuberculosis    Essentials of Diagnosis  Most infections subclinical  with positive skin test only  Symptoms progressive and include cough  dyspnea  fever  nightsweats  weight loss  and hemoptysis  In primary infection  mid lung  eld in ltrates with regional lym phadenopathy  pleural effusion common  Apical  bronodular pulmonary in ltrate on chest  lm  with orwithout cavitation  is most typical in reactivated disease  Posttussive rales noted on auscultation  Most common extrapulmonary manifestations include meningi tis  genitourinary infection  miliary disease  arthritis  with local ized symptoms and signs  Differential Diagnosis  Pneumonia of other cause  bacterial and fungal  histoplasmosis coccidioidomycosis  most similar  Other mycobacterial infection  HIV infection  may be associated   Prolonged fever of other cause  Urinary tract infection  oligoarticular arthritis of other cause  Carcinoma of the lung  Lung abscess  Treatment  Four drug regimens to include isoniazid and rifampin  Attention must be paid to sensitivity patterns due to increasingprevalence of drug resistant strains  Pearl In HIV infected patients  concerning tuberculosis and the clinical appear ance in the lung  if it looks like TB  it s not  and if it doesn t  it is. ReferenceHauck FR  Neese BH  Panchal AS  El Amin W. Identi cation and management of latent tuberculosis infection. Am Fam Physician 2009 79 879.  PMID  19496388 \n",
      "\n",
      "chunk n. 3\n",
      "582 Index Mastitis  puerperal  464MDMA poisoning  541Measles  277Mediastinitis   brosing  from histoplasmosis  244 Medication side effect  in elderly  377 Medullary thyroid cancer  307Medulloblastoma  290Meibomitis  512Melanoma  malignant  427Melasma  428Membranous nephropathy  343M ni re s syndrome  536Meningioma  290Meningitis bacterial  in children  482meningococcal  221pneumococcal  in sickle cell anemia  140 tuberculous  239 Meningococcal meningitis  221Meningoencephalitis  amebic primary  262 Menopausal syndrome  458Mentzer s index in alpha thalassemia trait  111in beta thalassemia minor  115 Meperidine poisoning  560Mesenteric ischemia  477Mesothelioma  pleural  303Metabolic acidosis  320Metabolic alkalosis  321Methanol poisoning  558Methemoglobinemia  559Migraine headache  360Missed abortion  465Mite infection  Sarcoptes scabiei  441 Mitral regurgitation  22Mitral stenosis  23Mobitz I block  13Mobitz II block  13Mole  in malignant melanoma  427Molluscum contagiosum  429Mononeuritis multiplex  366Mononeuropathy  peripheral  366Mononucleosis  infectious  274Morbilliform drug eruption  430Mucocutaneous lymph node syndrome  492 Mucopurulent cervicitis  459Mucormycosis  522Mucosal laceration of gastroesophageal junction  87 Multifocal atrial tachycardia  24Multiple endocrine neoplasia type 1  MEN1   Zollinger Ellisonsyndrome in  91 Multiple myeloma general discussion of  133renal tubular acidosis from  348 Multiple sclerosis  361Mumps  278Munchausen s syndrome  386Munchausen s syndrome by proxy  386 Murmur  heart Austin Flint  7 tumor plop   11 Murphy s sign  470Myasthenia gravis  362Mycobacterium leprae  217 Mycobacterium tuberculosis general discussion of  238  239pulmonary tuberculosis from  60 Mycosis  allergic bronchopulmonary  41 Mycosis fungoides  412Myelodysplastic syndromes  134Myelo brosis  135Myeloma kidney  344Myocardial infarction  MI  non ST segment elevation  1Q wave  1ST segment elevation  1 Myocarditis\n",
      "\n",
      "chunk n. 4\n",
      "568 Index Bacterial infections  202 240 actinomycosis  202anthrax  203bacillary dysentery  204botulism  205brucellosis  206campylobacter enteritis  207cat scratch disease  208chancroid  209cholera  210clostridial myonecrosis  211diphtheria  212enteric fever  213gonorrhea  214granuloma inguinale  215Legionnaires  disease  216leprosy  217leptospirosis  218Lyme disease  219lymphogranuloma venereum  220meningococcal meningitis  221nocardiosis  222pertussis  223plague  224pneumococcal infections  225psittacosis  226rat bite fever  227relapsing fever  228Salmonella gastroenteritis  229 staphylococcal soft tissue skin infections  230 Staphylococcus aureus  associated toxic shock syndrome  231 streptococcal pharyngitis  232streptococcal skin infection  233syphilis primary  234secondary  235tertiary  late   236 tetanus  237tuberculosis  238tuberculous meningitis  239tularemia  240 Bacterial meningitis  482Bacterial prostatitis  325Bacteriuria  asymptomatic  336Bagassosis  52Baldness  common pattern  404Barrett s esophagus  70Bartonella henselae  208 Basal cell carcinoma  406Basilar migraine  360Bed sores  379Beef tapeworm  254Beh et s syndrome  151Bell s palsy  351Benign intracranial hypertension  367Benign nephrosclerosis  340Benign paroxysmal positional vertigo  534 Benign prostatic hyperplasia  326Benign stricture of esophagus  71Benzodiazepine poisoning  546Berger s disease  341Berry aneurysm  358Beta amyloid in Down s patients  486general discussion of  148   human chorionic gonadotropin    hCG   in gestationaltrophoblastic neoplasia  297 Beta blocker poisoning  547Beta glucocerebrosidase de ciency  503 Beta thalassemia minor  115Bilharziasis  252Biliary cirrhosis  primary  105Biliary tract malignant tumors  286 Binge eating  385Bipolar disorder  384Bird fancier s lung  52Black cartilage  501Bladder cancer  287Bleeding abnormal uterine  450subarachnoid hemorrhage  358subconjunctival hemorrhage  527variceal hemorrhage  108 Blepharitis  512Blood sugar\n",
      "\n",
      "chunk n. 5\n",
      "Chapter 8 Infectious Diseases 239 8Tuberculous Meningitis   Mycobacterium tuberculosis    Essentials of Diagnosis  Insidious onset of listlessness  irritability  headaches  Meningeal signs  cranial nerve palsies  Tuberculous focus evident elsewhere in half of patients  Cerebrospinal  uid with lymphocytic pleocytosis  low glucose and high protein  culture positive for acid fast bacilli in many butnot all  polymerase chain reaction  PCR  often helpful  Chest x ray may reveal abnormalities compatible with pulmonarytuberculosis  Differential Diagnosis  Chronic lymphocytic meningitis due to fungi  brucellosis  leptospirosis HIV infection  neurocysticercosis  sarcoidosis  Carcinomatous meningitis  Unsuspected head trauma with subdural hematoma  Drug overdose  Psychiatric disorder  Treatment  Empiric antituberculous therapy essential in proper clinical setting  Concomitant corticosteroids reduce long term complications  Pearl A highly elusive diagnosis  but most unlikely in patients with chronicmeningitis and normal cerebrospinal  uid glucose. ReferenceBe NA  Kim KS  Bishai WR  Jain SK. Pathogenesis of central nervous system tuberculosis. Curr Mol Med 2009 9 94.  PMID  19275620 \n",
      "\n"
     ]
    }
   ],
   "source": [
    "for i, doc in enumerate(docs):\n",
    "    print(f\"chunk n. {i+1}\")\n",
    "    print(doc.page_content)\n",
    "    print()"
   ]
  },
  {
   "cell_type": "code",
   "execution_count": null,
   "id": "d452bd3e-2721-4cc8-892e-4f520b76b7a8",
   "metadata": {},
   "outputs": [],
   "source": []
  },
  {
   "cell_type": "code",
   "execution_count": null,
   "id": "228be3c9-9c7b-4501-a2fe-656cdefd0a66",
   "metadata": {},
   "outputs": [],
   "source": []
  }
 ],
 "metadata": {
  "kernelspec": {
   "display_name": "Python 3 (ipykernel)",
   "language": "python",
   "name": "python3"
  },
  "language_info": {
   "codemirror_mode": {
    "name": "ipython",
    "version": 3
   },
   "file_extension": ".py",
   "mimetype": "text/x-python",
   "name": "python",
   "nbconvert_exporter": "python",
   "pygments_lexer": "ipython3",
   "version": "3.9.0"
  }
 },
 "nbformat": 4,
 "nbformat_minor": 5
}
