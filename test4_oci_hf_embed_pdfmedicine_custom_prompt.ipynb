{
 "cells": [
  {
   "cell_type": "markdown",
   "id": "1b9f0b37-fbfe-4e59-ab32-da1c1afe3b00",
   "metadata": {},
   "source": [
    "## RAG using a pdf book\n",
    "* see: https://python.langchain.com/docs/use_cases/question_answering/\n",
    "* using HF embeddings\n",
    "* using a custom prompt\n",
    "* Using a Medicine book as knowledge base"
   ]
  },
  {
   "cell_type": "code",
   "execution_count": 1,
   "id": "75812374-a9a1-4463-93a2-6dd6f352cb40",
   "metadata": {},
   "outputs": [],
   "source": [
    "# for pdf post processing\n",
    "import re\n",
    "\n",
    "# modified to load from Pdf\n",
    "from langchain.document_loaders import PyPDFLoader\n",
    "from langchain.text_splitter import RecursiveCharacterTextSplitter\n",
    "from langchain.prompts import PromptTemplate\n",
    "\n",
    "# two possible vector store\n",
    "from langchain.vectorstores import Chroma\n",
    "from langchain.vectorstores import FAISS\n",
    "\n",
    "# removed OpenAI, using HF embeddings\n",
    "from langchain.embeddings import HuggingFaceEmbeddings\n",
    "\n",
    "from langchain import hub\n",
    "\n",
    "# removed OpenAI, using OCI GenAI\n",
    "from oci.config import from_file\n",
    "\n",
    "# oci_llm is in a local file\n",
    "from oci_llm import OCIGenAILLM\n",
    "\n",
    "from langchain.schema.runnable import RunnablePassthrough\n",
    "\n",
    "# private configs\n",
    "from config_private import COMPARTMENT_OCID"
   ]
  },
  {
   "cell_type": "code",
   "execution_count": 2,
   "id": "eaede75f-e609-4cc6-a077-259b3a439bc6",
   "metadata": {},
   "outputs": [],
   "source": [
    "# to enable some debugging\n",
    "DEBUG = False"
   ]
  },
  {
   "cell_type": "markdown",
   "id": "ab6cab57-15f4-413d-96cb-ea276a7a75be",
   "metadata": {},
   "source": [
    "#### Template for custom prompt"
   ]
  },
  {
   "cell_type": "code",
   "execution_count": 3,
   "id": "14850d24-f6a6-46ee-ac54-2e9deac1b8d9",
   "metadata": {},
   "outputs": [],
   "source": [
    "# this is the template for the prompt\n",
    "template = \"\"\"Use the following pieces of context to answer the question at the end. \n",
    "If you don't know the answer don't try to make up an answer. \n",
    "Use five sentences maximum. \n",
    "Always say \"Thanks for asking!\" at the end of the answer. \n",
    "{context}\n",
    "Question: {question}\n",
    "Helpful Answer:\"\"\""
   ]
  },
  {
   "cell_type": "code",
   "execution_count": 4,
   "id": "79547220-85f9-4e02-9dbb-0a76717d684e",
   "metadata": {},
   "outputs": [],
   "source": [
    "# functions\n",
    "def get_answer(rag_chain, question):\n",
    "    response = rag_chain.invoke(question)\n",
    "\n",
    "    print(f\"Question: {question}\")\n",
    "    print()\n",
    "    print(\"The response:\")\n",
    "    print(response)\n",
    "    print()"
   ]
  },
  {
   "cell_type": "code",
   "execution_count": 5,
   "id": "ef483ade-2146-4218-8130-95abe1607a50",
   "metadata": {},
   "outputs": [],
   "source": [
    "# read OCI config to connect to OCI with API key\n",
    "CONFIG_PROFILE = \"DEFAULT\"\n",
    "config = from_file(\"~/.oci/config\", CONFIG_PROFILE)\n",
    "\n",
    "# OCI GenAI endpoint (for now Chicago)\n",
    "ENDPOINT = \"https://generativeai.aiservice.us-chicago-1.oci.oraclecloud.com\"\n",
    "\n",
    "# check the config to access to api keys\n",
    "if DEBUG:\n",
    "    print(config)"
   ]
  },
  {
   "cell_type": "markdown",
   "id": "b988c589-f06e-49f7-b23f-f70ab316e720",
   "metadata": {},
   "source": [
    "#### Loading the document"
   ]
  },
  {
   "cell_type": "code",
   "execution_count": 11,
   "id": "0d5edf3f-17df-4963-82ef-d4297239dcb0",
   "metadata": {},
   "outputs": [],
   "source": [
    "# BLOG_POST = \"https://python.langchain.com/docs/get_started/introduction\"\n",
    "BOOK = \"./CurrentEssentialsOfMedicine.pdf\"\n",
    "\n",
    "loader = PyPDFLoader(BOOK)\n",
    "\n",
    "data = loader.load()"
   ]
  },
  {
   "cell_type": "markdown",
   "id": "2fd8887b-0aff-45b8-9df2-ea904815ea26",
   "metadata": {},
   "source": [
    "#### Splitting the document in chunks"
   ]
  },
  {
   "cell_type": "code",
   "execution_count": 12,
   "id": "9f53344e-271e-4484-bd29-c95a02b35d53",
   "metadata": {},
   "outputs": [],
   "source": [
    "CHUNK_SIZE = 1000\n",
    "CHUNK_OVERLAP = 100\n",
    "\n",
    "text_splitter = RecursiveCharacterTextSplitter(\n",
    "    chunk_size=CHUNK_SIZE, chunk_overlap=CHUNK_OVERLAP\n",
    ")\n",
    "\n",
    "splits = text_splitter.split_documents(data)"
   ]
  },
  {
   "cell_type": "code",
   "execution_count": 13,
   "id": "89b1b9f1-d375-4a68-b25a-633930c2462c",
   "metadata": {},
   "outputs": [
    {
     "name": "stdout",
     "output_type": "stream",
     "text": [
      "We have splitted the pdf in 1320 splits...\n"
     ]
    }
   ],
   "source": [
    "print(f\"We have splitted the pdf in {len(splits)} splits...\")"
   ]
  },
  {
   "cell_type": "code",
   "execution_count": 14,
   "id": "0b35bb4e-44d8-4c48-bceb-c10873c93c4c",
   "metadata": {},
   "outputs": [],
   "source": [
    "# some post processing\n",
    "\n",
    "# replace \\n with blank\n",
    "for split in splits:\n",
    "    split.page_content = split.page_content.replace(\"\\n\", \" \")\n",
    "    split.page_content = re.sub(\"[^a-zA-Z0-9 \\n\\.]\", \" \", split.page_content)\n",
    "    # remove duplicate blank\n",
    "    split.page_content = \" \".join(split.page_content.split())"
   ]
  },
  {
   "cell_type": "code",
   "execution_count": 15,
   "id": "f70cce26-c603-4532-8ab6-8c34fa4d857e",
   "metadata": {},
   "outputs": [
    {
     "data": {
      "text/plain": [
       "'Preface The fourth edition of Current Essentials of Medicine originally titled Essentials of Diagnosis Treatment continues a feature introduced inthe second edition a Clinical Pearl for each diagnosis. Pearls are time less. Learners at every level and in many countries remember them ascrucial adjuncts to more detailed information about disorders of everytype. Ideally a Pearl is succinct witty and often colloquial it is statedwith a certitude suggesting 100 accuracy. Of course nothing in med icine is so yet a Pearl such as If you diagnose multiple sclerosis overthe age of fty diagnose something else is easily committed to memory.Thus Pearls should be accepted as offered. Many have been changedsince the previous editions and we urge readers to come up with Pearlsof their own which may prove to be more useful than our own. The fourth edition like its predecessors uses a single page to con'"
      ]
     },
     "execution_count": 15,
     "metadata": {},
     "output_type": "execute_result"
    }
   ],
   "source": [
    "# have a look at a single split\n",
    "splits[20].page_content"
   ]
  },
  {
   "cell_type": "markdown",
   "id": "d4830653-e501-4dda-a26e-8faef61a0531",
   "metadata": {},
   "source": [
    "#### Embeddings and Vectore Store"
   ]
  },
  {
   "cell_type": "code",
   "execution_count": 16,
   "id": "3a63cc21-2225-4e1f-8b3a-6ec41ca97d81",
   "metadata": {},
   "outputs": [
    {
     "name": "stdout",
     "output_type": "stream",
     "text": [
      "CPU times: user 2min 45s, sys: 48.8 s, total: 3min 34s\n",
      "Wall time: 1min 17s\n"
     ]
    }
   ],
   "source": [
    "%%time\n",
    "\n",
    "EMBED_MODEL_NAME = \"BAAI/bge-base-en-v1.5\"\n",
    "\n",
    "model_kwargs = {\"device\": \"cpu\"}\n",
    "encode_kwargs = {\"normalize_embeddings\": False}\n",
    "\n",
    "\n",
    "hf = HuggingFaceEmbeddings(\n",
    "    model_name=EMBED_MODEL_NAME, model_kwargs=model_kwargs, encode_kwargs=encode_kwargs\n",
    ")\n",
    "\n",
    "# using Chroma or FAISS as Vector store\n",
    "vectorstore = Chroma.from_documents(documents=splits, embedding=hf)\n",
    "# vectorstore = FAISS.from_documents(documents=splits, embedding=hf)\n",
    "\n",
    "# increased num. of docs to 8 (default to 4)\n",
    "retriever = vectorstore.as_retriever(search_kwargs={\"k\":8})"
   ]
  },
  {
   "cell_type": "markdown",
   "id": "16aaa4a5-ba64-4222-a65c-d26e5395cd3f",
   "metadata": {},
   "source": [
    "#### Define the prompt structure"
   ]
  },
  {
   "cell_type": "code",
   "execution_count": 17,
   "id": "426d2dd3-ac41-4cb2-a975-b35ca482fb4b",
   "metadata": {},
   "outputs": [],
   "source": [
    "rag_prompt_custom = PromptTemplate.from_template(template)"
   ]
  },
  {
   "cell_type": "markdown",
   "id": "2be2ef0b-f63b-4138-8bd9-5271e66ee926",
   "metadata": {},
   "source": [
    "#### Define the LLM: OCI GenAI"
   ]
  },
  {
   "cell_type": "code",
   "execution_count": 18,
   "id": "8d5f0d42-8203-4950-a5ca-8c051ff71b92",
   "metadata": {},
   "outputs": [],
   "source": [
    "# compartment OCID from config_private.py\n",
    "\n",
    "# using mostly defaults\n",
    "llm = OCIGenAILLM(\n",
    "    temperature=1.0,\n",
    "    max_tokens=1500,\n",
    "    config=config,\n",
    "    compartment_id=COMPARTMENT_OCID,\n",
    "    endpoint=ENDPOINT,\n",
    "    debug=DEBUG,\n",
    ")"
   ]
  },
  {
   "cell_type": "markdown",
   "id": "7ebe0dca-b88e-4c5f-9b03-25da1ed36cb2",
   "metadata": {},
   "source": [
    "#### Define the (Lang)Chain"
   ]
  },
  {
   "cell_type": "code",
   "execution_count": 19,
   "id": "6e93a1de-9939-4120-8910-66d735de7beb",
   "metadata": {},
   "outputs": [],
   "source": [
    "rag_chain = (\n",
    "    {\"context\": retriever, \"question\": RunnablePassthrough()} | rag_prompt_custom | llm\n",
    ")"
   ]
  },
  {
   "cell_type": "markdown",
   "id": "9fce71ae-50a8-418d-81ea-cea0a30d11cf",
   "metadata": {},
   "source": [
    "#### Process the question"
   ]
  },
  {
   "cell_type": "code",
   "execution_count": 20,
   "id": "a5562c9d-cc2a-4761-9625-1c62a45cf036",
   "metadata": {},
   "outputs": [],
   "source": [
    "# a list of possible questions\n",
    "QUESTION1 = \"What are the suggested treatments for Botulism? Make a list\"\n",
    "QUESTION2 = \"List diagnosis for Botulism. Make a list\"\n",
    "QUESTION3 = \"List the antibiotics commonly used for Tubercolosis. Make a list\"\n",
    "QUESTION4 = \"List the suggested treatments for Sleep Apnea. Make a list.\""
   ]
  },
  {
   "cell_type": "code",
   "execution_count": 22,
   "id": "069689c8-4786-455b-aee0-91f1fc69e0e9",
   "metadata": {},
   "outputs": [
    {
     "name": "stdout",
     "output_type": "stream",
     "text": [
      "Question: What are the suggested treatments for Botulism? Make a list\n",
      "\n",
      "The response:\n",
      " 1. Speci c antitoxin\n",
      "2. Vigilant support including attention to respiratory function\n",
      "3. Penicillin for wound botulism\n",
      "4. Regional outbreaks among intravenous drug users suggest black tar heroin is being sold in the area.\n",
      "\n",
      "CPU times: user 63.5 ms, sys: 28.1 ms, total: 91.6 ms\n",
      "Wall time: 3.22 s\n"
     ]
    }
   ],
   "source": [
    "%%time\n",
    "\n",
    "# the question\n",
    "get_answer(rag_chain, question=QUESTION1)"
   ]
  },
  {
   "cell_type": "code",
   "execution_count": 24,
   "id": "98885a05-0118-4514-90ac-f1912dbe5187",
   "metadata": {},
   "outputs": [
    {
     "name": "stdout",
     "output_type": "stream",
     "text": [
      "Question: List diagnosis for Botulism. Make a list\n",
      "\n",
      "The response:\n",
      " Some of the possible diagnosis for botulism are:\n",
      "1. Clostridium botulinum\n",
      "2. Bulbar poliomyelitis\n",
      "3. Myasthenia gravis\n",
      "4. Posterior cerebral circulation ischemia\n",
      "5. Tick paralysis\n",
      "6. Guillain Barr syndrome\n",
      "7. variant\n",
      "8. Inorganic phosphorus poisoning\n",
      "9. Pearl Regional outbreaks\n",
      "\n",
      "CPU times: user 62.1 ms, sys: 26.3 ms, total: 88.4 ms\n",
      "Wall time: 3.82 s\n"
     ]
    }
   ],
   "source": [
    "%%time\n",
    "\n",
    "# the question\n",
    "get_answer(rag_chain, question=QUESTION2)"
   ]
  },
  {
   "cell_type": "code",
   "execution_count": 25,
   "id": "01bb7358-c799-492b-81d0-8c482ece43fb",
   "metadata": {},
   "outputs": [
    {
     "name": "stdout",
     "output_type": "stream",
     "text": [
      "Question: List the antibiotics commonly used for Tubercolosis. Make a list\n",
      "\n",
      "The response:\n",
      " The common antibiotics used for the treatment of Tuberculosis are:\n",
      "1. Isoniazid\n",
      "2. Rifampin\n",
      "3. Pyrazinamide\n",
      "4. Streptomycin\n",
      "5. Ethambutol\n",
      "6. Uroquinolones\n",
      "7. Thioamides\n",
      "\n",
      "Thanks for asking!\n",
      "\n",
      "CPU times: user 65.9 ms, sys: 31.8 ms, total: 97.7 ms\n",
      "Wall time: 2.91 s\n"
     ]
    }
   ],
   "source": [
    "%%time\n",
    "\n",
    "# the question\n",
    "get_answer(rag_chain, question=QUESTION3)"
   ]
  },
  {
   "cell_type": "code",
   "execution_count": 26,
   "id": "518042dc-7437-4959-8858-a24164b18029",
   "metadata": {},
   "outputs": [
    {
     "name": "stdout",
     "output_type": "stream",
     "text": [
      "Question: List the suggested treatments for Sleep Apnea. Make a list.\n",
      "\n",
      "The response:\n",
      " 1. Weight loss\n",
      "2. Avoidance of hypnotic medications\n",
      "3. Nocturnal continuous positive airway pressure (CPAP)\n",
      "4. Oral appliances\n",
      "\n",
      "CPU times: user 62 ms, sys: 31.9 ms, total: 93.8 ms\n",
      "Wall time: 1.53 s\n"
     ]
    }
   ],
   "source": [
    "%%time\n",
    "\n",
    "# the question\n",
    "get_answer(rag_chain, question=QUESTION4)"
   ]
  },
  {
   "cell_type": "markdown",
   "id": "9f93ffe1-3036-4251-9514-0c3cc240f224",
   "metadata": {},
   "source": [
    "#### Explore the vectore store"
   ]
  },
  {
   "cell_type": "code",
   "execution_count": 28,
   "id": "e055f1c4-27d9-465a-b0b4-278ad06bc67b",
   "metadata": {},
   "outputs": [
    {
     "data": {
      "text/plain": [
       "8"
      ]
     },
     "execution_count": 28,
     "metadata": {},
     "output_type": "execute_result"
    }
   ],
   "source": [
    "# Retrieve relevant splits for any question using similarity search.\n",
    "\n",
    "# This is simply \"top K\" retrieval where we select documents based on embedding similarity to the query.\n",
    "\n",
    "TOP_K = 8\n",
    "\n",
    "docs = vectorstore.similarity_search(QUESTION3, k=TOP_K)\n",
    "\n",
    "len(docs)"
   ]
  },
  {
   "cell_type": "code",
   "execution_count": 29,
   "id": "2940dfc1-cc62-4778-a89d-81da8a466980",
   "metadata": {},
   "outputs": [
    {
     "name": "stdout",
     "output_type": "stream",
     "text": [
      "chunk n. 1\n",
      "Increasingly encountered antibiotic resistant strains Granuloma on pleural biopsy in patients with effusions mesothe lial cells usually absent from uid Miliary tuberculosis widespread hematogenous spread of organism has diverse clinical presentations including failure to thrive fever ofunknown origin multiorgan system failure ARDS nearly all haveovert pulmonary involvement with numerous small nodules Differential Diagnosis Lung carcinoma fungal infection Bacterial pneumonia or lung abscess other mycobacterial infections Sarcoidosis pneumoconiosis Treatment Combination antituberculous therapy for 6 9 months all regi mens include isoniazid but rifampin ethambutol pyrazinamide and streptomycin all have activity Avoid empiric treatment for community acquired pneumonia with uoroquinolones if M. tuberculosis is suspected as transient use may facilitate development of resistance All cases of suspected M. tuberculosis infection should be reported\n",
      "\n",
      "chunk n. 2\n",
      "Carcinoma of the lung Lung abscess Treatment Four drug regimens to include isoniazid and rifampin Attention must be paid to sensitivity patterns due to increasingprevalence of drug resistant strains Pearl In HIV infected patients concerning tuberculosis and the clinical appear ance in the lung if it looks like TB it s not and if it doesn t it is. ReferenceHauck FR Neese BH Panchal AS El Amin W. Identi cation and management of latent tuberculosis infection. Am Fam Physician 2009 79 879. PMID 19496388\n",
      "\n",
      "chunk n. 3\n",
      "568 Index Bacterial infections 202 240 actinomycosis 202anthrax 203bacillary dysentery 204botulism 205brucellosis 206campylobacter enteritis 207cat scratch disease 208chancroid 209cholera 210clostridial myonecrosis 211diphtheria 212enteric fever 213gonorrhea 214granuloma inguinale 215Legionnaires disease 216leprosy 217leptospirosis 218Lyme disease 219lymphogranuloma venereum 220meningococcal meningitis 221nocardiosis 222pertussis 223plague 224pneumococcal infections 225psittacosis 226rat bite fever 227relapsing fever 228Salmonella gastroenteritis 229 staphylococcal soft tissue skin infections 230 Staphylococcus aureus associated toxic shock syndrome 231 streptococcal pharyngitis 232streptococcal skin infection 233syphilis primary 234secondary 235tertiary late 236 tetanus 237tuberculosis 238tuberculous meningitis 239tularemia 240\n",
      "\n",
      "chunk n. 4\n",
      "582 Index Mastitis puerperal 464MDMA poisoning 541Measles 277Mediastinitis brosing from histoplasmosis 244 Medication side effect in elderly 377 Medullary thyroid cancer 307Medulloblastoma 290Meibomitis 512Melanoma malignant 427Melasma 428Membranous nephropathy 343M ni re s syndrome 536Meningioma 290Meningitis bacterial in children 482meningococcal 221pneumococcal in sickle cell anemia 140 tuberculous 239 Meningococcal meningitis 221Meningoencephalitis amebic primary 262 Menopausal syndrome 458Mentzer s index in alpha thalassemia trait 111in beta thalassemia minor 115 Meperidine poisoning 560Mesenteric ischemia 477Mesothelioma pleural 303Metabolic acidosis 320Metabolic alkalosis 321Methanol poisoning 558Methemoglobinemia 559Migraine headache 360Missed abortion 465Mite infection Sarcoptes scabiei 441\n",
      "\n",
      "chunk n. 5\n",
      "60 Current Essentials of Medicine 2Pulmonary Tuberculosis Essentials of Diagnosis Lassitude weight loss fever cough night sweats hemoptysis Cachexia in many posttussive apical rales occasionally present Apical or subapical in ltrates with cavities classic in reactivationtuberculosis pleural effusion in primary tuberculosis likewisemid lung in ltration but any radiographic abnormality possible Positive skin test to intradermal puri ed protein derivative PPD Interferon gamma release assays have good speci city for latenttuberculosis Mycobacterium tuberculosis by culture of sputum gastric wash ing or pleural biopsy pleural uid culture usually sterile Nucleic acid ampli cation can rapidly distinguish between M. tuberculosis and nontuberculous mycobacterium to guide treat ment decisions but culture still needed for susceptibility testing Increasingly encountered antibiotic resistant strains\n",
      "\n",
      "chunk n. 6\n",
      "238 Current Essentials of Medicine 8Tuberculosis Mycobacterium tuberculosis Essentials of Diagnosis Most infections subclinical with positive skin test only Symptoms progressive and include cough dyspnea fever nightsweats weight loss and hemoptysis In primary infection mid lung eld in ltrates with regional lym phadenopathy pleural effusion common Apical bronodular pulmonary in ltrate on chest lm with orwithout cavitation is most typical in reactivated disease Posttussive rales noted on auscultation Most common extrapulmonary manifestations include meningi tis genitourinary infection miliary disease arthritis with local ized symptoms and signs Differential Diagnosis Pneumonia of other cause bacterial and fungal histoplasmosis coccidioidomycosis most similar Other mycobacterial infection HIV infection may be associated Prolonged fever of other cause Urinary tract infection oligoarticular arthritis of other cause Carcinoma of the lung Lung abscess\n",
      "\n",
      "chunk n. 7\n",
      "All cases of suspected M. tuberculosis infection should be reported to local health departments Hospitalization considered for those incapable of self care orlikely to expose susceptible individuals Pearl Five percent of tuberculosis is diagnosed postmortem. ReferenceHall RG Leff RD Gumbo T. Treatment of active pulmonary tuberculosis in adults current standards and recent advances. Pharmacotherapy 2009 29 1468. PMID 19947806\n",
      "\n",
      "chunk n. 8\n",
      "tetanus 237tuberculosis 238tuberculous meningitis 239tularemia 240 Bacterial meningitis 482Bacterial prostatitis 325Bacteriuria asymptomatic 336Bagassosis 52Baldness common pattern 404Barrett s esophagus 70Bartonella henselae 208 Basal cell carcinoma 406Basilar migraine 360Bed sores 379Beef tapeworm 254Beh et s syndrome 151Bell s palsy 351Benign intracranial hypertension 367Benign nephrosclerosis 340Benign paroxysmal positional vertigo 534 Benign prostatic hyperplasia 326Benign stricture of esophagus 71Benzodiazepine poisoning 546Berger s disease 341Berry aneurysm 358Beta amyloid in Down s patients 486general discussion of 148 human chorionic gonadotropin hCG in gestationaltrophoblastic neoplasia 297 Beta blocker poisoning 547Beta glucocerebrosidase de ciency 503 Beta thalassemia minor 115Bilharziasis 252Biliary cirrhosis primary 105Biliary tract malignant tumors 286\n",
      "\n"
     ]
    }
   ],
   "source": [
    "for i, doc in enumerate(docs):\n",
    "    print(f\"chunk n. {i+1}\")\n",
    "    print(doc.page_content)\n",
    "    print()"
   ]
  },
  {
   "cell_type": "code",
   "execution_count": null,
   "id": "d452bd3e-2721-4cc8-892e-4f520b76b7a8",
   "metadata": {},
   "outputs": [],
   "source": []
  },
  {
   "cell_type": "code",
   "execution_count": null,
   "id": "228be3c9-9c7b-4501-a2fe-656cdefd0a66",
   "metadata": {},
   "outputs": [],
   "source": []
  }
 ],
 "metadata": {
  "kernelspec": {
   "display_name": "Python 3 (ipykernel)",
   "language": "python",
   "name": "python3"
  },
  "language_info": {
   "codemirror_mode": {
    "name": "ipython",
    "version": 3
   },
   "file_extension": ".py",
   "mimetype": "text/x-python",
   "name": "python",
   "nbconvert_exporter": "python",
   "pygments_lexer": "ipython3",
   "version": "3.10.0"
  }
 },
 "nbformat": 4,
 "nbformat_minor": 5
}
